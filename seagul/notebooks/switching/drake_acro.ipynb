{
 "cells": [
  {
   "cell_type": "code",
   "execution_count": 1,
   "metadata": {},
   "outputs": [
    {
     "name": "stdout",
     "output_type": "stream",
     "text": [
      "Using matplotlib backend: Qt5Agg\n"
     ]
    }
   ],
   "source": [
    "import argparse\n",
    "import numpy as np\n",
    "\n",
    "from pydrake.all import (DiagramBuilder, FloatingBaseType, RigidBodyPlant,\n",
    "                         RigidBodyTree, Simulator, VectorSystem)\n",
    "from underactuated import (FindResource, PlanarRigidBodyVisualizer,\n",
    "                           SliderSystem)\n",
    "\n",
    "%matplotlib\n",
    "\n",
    "tree = RigidBodyTree(FindResource(\"acrobot/acrobot.urdf\"),\n",
    "                     FloatingBaseType.kFixed)\n",
    "\n",
    "builder = DiagramBuilder()\n",
    "acrobot = builder.AddSystem(RigidBodyPlant(tree))\n",
    "\n",
    "visualizer = builder.AddSystem(PlanarRigidBodyVisualizer(tree,\n",
    "                                                         xlim=[-4., 4.],\n",
    "                                                         ylim=[-4., 4.]))\n",
    "builder.Connect(acrobot.get_output_port(0), visualizer.get_input_port(0))\n",
    "\n",
    "ax = visualizer.fig.add_axes([.2, .95, .6, .025])\n",
    "torque_system = builder.AddSystem(SliderSystem(ax, 'Torque', -5., 5.))\n",
    "builder.Connect(torque_system.get_output_port(0),\n",
    "                acrobot.get_input_port(0))\n",
    "\n",
    "diagram = builder.Build()\n",
    "simulator = Simulator(diagram)\n",
    "simulator.set_target_realtime_rate(1.0)\n",
    "simulator.set_publish_every_time_step(False)\n",
    "\n",
    "context = simulator.get_mutable_context()\n",
    "context.SetContinuousState([1., 0., 0., 0.])\n",
    "\n",
    "#simulator.AdvanceTo(100000)"
   ]
  },
  {
   "cell_type": "code",
   "execution_count": 3,
   "metadata": {},
   "outputs": [
    {
     "ename": "TypeError",
     "evalue": "dynamicsBiasTerm(): incompatible function arguments. The following argument types are supported:\n    1. (self: pydrake.attic.multibody.rigid_body_tree.RigidBodyTree, cache: KinematicsCache<double>, external_wrenches: Dict[pydrake.attic.multibody.rigid_body.RigidBody, numpy.ndarray[float64[6, 1]]], include_velocity_terms: bool = True) -> numpy.ndarray[float64[m, 1]]\n    2. (self: pydrake.attic.multibody.rigid_body_tree.RigidBodyTree, cache: KinematicsCache<Eigen::AutoDiffScalar<Eigen::Matrix<double, -1, 1, 0, -1, 1> > >, external_wrenches: Dict[pydrake.attic.multibody.rigid_body.RigidBody, numpy.ndarray[object[6, 1]]], include_velocity_terms: bool = True) -> numpy.ndarray[object[m, 1]]\n\nInvoked with: <pydrake.attic.multibody.rigid_body_tree.RigidBodyTree object at 0x7ffb2f3cde30>",
     "output_type": "error",
     "traceback": [
      "\u001b[0;31m---------------------------------------------------------------------------\u001b[0m",
      "\u001b[0;31mTypeError\u001b[0m                                 Traceback (most recent call last)",
      "\u001b[0;32m<ipython-input-3-d22d70332d31>\u001b[0m in \u001b[0;36m<module>\u001b[0;34m\u001b[0m\n\u001b[0;32m----> 1\u001b[0;31m \u001b[0mtree\u001b[0m\u001b[0;34m.\u001b[0m\u001b[0mdynamicsBiasTerm\u001b[0m\u001b[0;34m(\u001b[0m\u001b[0;34m)\u001b[0m\u001b[0;34m\u001b[0m\u001b[0;34m\u001b[0m\u001b[0m\n\u001b[0m",
      "\u001b[0;31mTypeError\u001b[0m: dynamicsBiasTerm(): incompatible function arguments. The following argument types are supported:\n    1. (self: pydrake.attic.multibody.rigid_body_tree.RigidBodyTree, cache: KinematicsCache<double>, external_wrenches: Dict[pydrake.attic.multibody.rigid_body.RigidBody, numpy.ndarray[float64[6, 1]]], include_velocity_terms: bool = True) -> numpy.ndarray[float64[m, 1]]\n    2. (self: pydrake.attic.multibody.rigid_body_tree.RigidBodyTree, cache: KinematicsCache<Eigen::AutoDiffScalar<Eigen::Matrix<double, -1, 1, 0, -1, 1> > >, external_wrenches: Dict[pydrake.attic.multibody.rigid_body.RigidBody, numpy.ndarray[object[6, 1]]], include_velocity_terms: bool = True) -> numpy.ndarray[object[m, 1]]\n\nInvoked with: <pydrake.attic.multibody.rigid_body_tree.RigidBodyTree object at 0x7ffb2f3cde30>"
     ]
    }
   ],
   "source": [
    "tree.dynamicsBiasTerm()"
   ]
  },
  {
   "cell_type": "code",
   "execution_count": null,
   "metadata": {},
   "outputs": [],
   "source": []
  }
 ],
 "metadata": {
  "kernelspec": {
   "display_name": "Drake (3.6)",
   "language": "python",
   "name": "drake"
  },
  "language_info": {
   "codemirror_mode": {
    "name": "ipython",
    "version": 3
   },
   "file_extension": ".py",
   "mimetype": "text/x-python",
   "name": "python",
   "nbconvert_exporter": "python",
   "pygments_lexer": "ipython3",
   "version": "3.6.9"
  }
 },
 "nbformat": 4,
 "nbformat_minor": 4
}

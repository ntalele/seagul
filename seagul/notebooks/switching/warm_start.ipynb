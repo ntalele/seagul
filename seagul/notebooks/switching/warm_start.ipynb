{
 "cells": [
  {
   "cell_type": "code",
   "execution_count": 1,
   "metadata": {},
   "outputs": [],
   "source": [
    "import torch.nn as nn\n",
    "import gym\n",
    "from seagul.nn import Categorical_MLP, MLP, DummyNet, fit_model\n",
    "from seagul.rl.ppo_switching import ppo_switch\n",
    "import torch\n",
    "from tqdm import trange\n",
    "from numpy import pi\n",
    "import numpy as np\n",
    "\n",
    "import matplotlib.pyplot as plt\n",
    "\n",
    "torch.set_default_dtype(torch.double)\n",
    "\n",
    "policy = MLP(input_size=4, output_size=1, layer_size=12, num_layers=2, activation=nn.ReLU)\n",
    "value_fn = MLP(input_size=4, output_size=1, layer_size=12, num_layers=2, activation=nn.ReLU)\n",
    "gate_fn = Categorical_MLP(input_size=4, output_size=1, layer_size=12, num_layers=2, activation=nn.ReLU)"
   ]
  },
  {
   "cell_type": "code",
   "execution_count": 2,
   "metadata": {},
   "outputs": [
    {
     "name": "stderr",
     "output_type": "stream",
     "text": [
      "100%|██████████| 20000/20000 [00:02<00:00, 8597.35it/s]\n"
     ]
    }
   ],
   "source": [
    "# Generate data for the supervised learning task\n",
    "env = gym.make('su_cartpole-v0')\n",
    "num_points = int(2e4)\n",
    "\n",
    "X = torch.zeros(num_points, env.observation_space.shape[0])  \n",
    "Y = torch.zeros(num_points,1)\n",
    "\n",
    "for i in trange(num_points):\n",
    "        \n",
    "        point = env.observation_space.sample()\n",
    "        X[i] = torch.as_tensor(point)\n",
    "        \n",
    "        if (point[0] > 145 * pi / 180) and (point[0] < 215 * pi / 180):\n",
    "            Y[i] = 1\n",
    "        else:\n",
    "            Y[i] = 0\n",
    "            "
   ]
  },
  {
   "cell_type": "code",
   "execution_count": 9,
   "metadata": {},
   "outputs": [
    {
     "name": "stderr",
     "output_type": "stream",
     "text": [
      "100%|██████████| 30/30 [00:43<00:00,  1.51s/it]\n"
     ]
    },
    {
     "data": {
      "text/plain": [
       "[<matplotlib.lines.Line2D at 0x138db9080>]"
      ]
     },
     "execution_count": 9,
     "metadata": {},
     "output_type": "execute_result"
    },
    {
     "data": {
      "image/png": "[encoded data removed]",
      "text/plain": [
       "<Figure size 432x288 with 1 Axes>"
      ]
     },
     "metadata": {
      "needs_background": "light"
     },
     "output_type": "display_data"
    }
   ],
   "source": [
    "hist = fit_model(gate_fn,X,Y,30)\n",
    "plt.plot(hist)"
   ]
  },
  {
   "cell_type": "code",
   "execution_count": 10,
   "metadata": {},
   "outputs": [
    {
     "name": "stderr",
     "output_type": "stream",
     "text": [
      "100%|██████████| 20000/20000 [00:11<00:00, 1709.01it/s]\n"
     ]
    }
   ],
   "source": [
    "# Generate data for the supervised learning task\n",
    "env = gym.make('su_cartpole-v0')\n",
    "num_points = int(2e4)\n",
    "\n",
    "pred_Y = torch.zeros(num_points,1)\n",
    "pred_X = np.zeros((num_points,1))\n",
    "\n",
    "for i in trange(num_points):\n",
    "        \n",
    "        point = env.observation_space.sample()\n",
    "        pred_X[i] = point[0]\n",
    "        pred_Y[i] = gate_fn(torch.as_tensor(point,dtype=torch.float64))\n",
    "       "
   ]
  },
  {
   "cell_type": "code",
   "execution_count": 1,
   "metadata": {},
   "outputs": [
    {
     "ename": "NameError",
     "evalue": "name 'ppo_switch' is not defined",
     "output_type": "error",
     "traceback": [
      "\u001b[0;31m---------------------------------------------------------------------------\u001b[0m",
      "\u001b[0;31mNameError\u001b[0m                                 Traceback (most recent call last)",
      "\u001b[0;32m<ipython-input-1-cd53c30b16f2>\u001b[0m in \u001b[0;36m<module>\u001b[0;34m\u001b[0m\n\u001b[1;32m     13\u001b[0m \u001b[0;34m\u001b[0m\u001b[0m\n\u001b[1;32m     14\u001b[0m \u001b[0;31m# env2, t_policy, t_val, rewards = ppo('InvertedPendulum-v2', 100, policy, value_fn)\u001b[0m\u001b[0;34m\u001b[0m\u001b[0;34m\u001b[0m\u001b[0;34m\u001b[0m\u001b[0m\n\u001b[0;32m---> 15\u001b[0;31m t_policy, t_val, t_gate, rewards, arg_dict = ppo_switch(\n\u001b[0m\u001b[1;32m     16\u001b[0m     \u001b[0;34m\"su_cartpole_push-v0\"\u001b[0m\u001b[0;34m,\u001b[0m \u001b[0;36m5000\u001b[0m\u001b[0;34m,\u001b[0m \u001b[0mpolicy\u001b[0m\u001b[0;34m,\u001b[0m \u001b[0mvalue_fn\u001b[0m\u001b[0;34m,\u001b[0m \u001b[0mgate_fn\u001b[0m\u001b[0;34m,\u001b[0m \u001b[0mepoch_batch_size\u001b[0m\u001b[0;34m=\u001b[0m\u001b[0;36m500\u001b[0m\u001b[0;34m\u001b[0m\u001b[0;34m\u001b[0m\u001b[0m\n\u001b[1;32m     17\u001b[0m )\n",
      "\u001b[0;31mNameError\u001b[0m: name 'ppo_switch' is not defined"
     ]
    }
   ],
   "source": [
    "# env2, t_policy, t_val, rewards = ppo('InvertedPendulum-v2', 100, policy, value_fn)\n",
    "t_policy, t_val, t_gate, rewards, arg_dict = ppo_switch(\n",
    "    \"su_cartpole_push-v0\", 5000, policy, value_fn, gate_fn, epoch_batch_size=500\n",
    ")\n",
    "\n",
    "plt.plot(rewards)\n",
    "print(rewards)"
   ]
  },
  {
   "cell_type": "code",
   "execution_count": 11,
   "metadata": {},
   "outputs": [
    {
     "name": "stderr",
     "output_type": "stream",
     "text": [
      "100%|██████████| 20000/20000 [00:12<00:00, 1578.87it/s]"
     ]
    },
    {
     "name": "stdout",
     "output_type": "stream",
     "text": [
      "1829 123 77 17971\n"
     ]
    },
    {
     "name": "stderr",
     "output_type": "stream",
     "text": [
      "\n"
     ]
    }
   ],
   "source": [
    "\n",
    "# Generate data for the supervised learning task\n",
    "env = gym.make('su_cartpole-v0')\n",
    "num_points = int(2e4)\n",
    "\n",
    "pred_Y = torch.zeros(num_points,1)\n",
    "pred_X = np.zeros((num_points,1))\n",
    "a = 0; b = 0; c = 0; d = 0;\n",
    "for i in trange(num_points):\n",
    "        \n",
    "        point = env.observation_space.sample()\n",
    "        y = gate_fn(torch.as_tensor(point,dtype=torch.float64))\n",
    "        \n",
    "        if (point[0] > 145 * pi / 180) and (point[0] < 215 * pi / 180):\n",
    "            if y < .5:\n",
    "                #print(\"wrong!\" , c)\n",
    "                a +=1\n",
    "            else:\n",
    "                b +=1\n",
    "        else:\n",
    "            if y > .5:\n",
    "                #print(\"wrong again!\" , c)\n",
    "                c +=1\n",
    "            else:\n",
    "                d +=1\n",
    "       \n",
    "print(a,b,c,d)\n"
   ]
  },
  {
   "cell_type": "code",
   "execution_count": null,
   "metadata": {},
   "outputs": [],
   "source": []
  }
 ],
 "metadata": {
  "kernelspec": {
   "display_name": "Seacar",
   "language": "python",
   "name": "seacar"
  },
  "language_info": {
   "codemirror_mode": {
    "name": "ipython",
    "version": 3
   },
   "file_extension": ".py",
   "mimetype": "text/x-python",
   "name": "python",
   "nbconvert_exporter": "python",
   "pygments_lexer": "ipython3",
   "version": "3.6.8"
  }
 },
 "nbformat": 4,
 "nbformat_minor": 2
}

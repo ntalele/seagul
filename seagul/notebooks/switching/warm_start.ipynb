{
 "cells": [
  {
   "cell_type": "code",
   "execution_count": 1,
   "metadata": {},
   "outputs": [
    {
     "name": "stderr",
     "output_type": "stream",
     "text": [
      "/Users/sgillen/.local/lib/python3.6/site-packages/gym/envs/registration.py:64: UserWarning: register(timestep_limit=1000) is deprecated. Use register(max_episode_steps=1000) instead.\n",
      "  warnings.warn(\"register(timestep_limit={}) is deprecated. Use register(max_episode_steps={}) instead.\".format(timestep_limit, timestep_limit))\n"
     ]
    }
   ],
   "source": [
    "import torch\n",
    "import torch.nn as nn\n",
    "import gym\n",
    "\n",
    "from seagul.nn import Categorical_MLP, MLP, DummyNet, fit_model, LinearNet\n",
    "\n",
    "# TODO maybe import algos into rl __init__\n",
    "from seagul.rl.ppo_switching import ppo_switch\n",
    "from seagul.rl.ppo import ppo\n",
    "\n",
    "from tqdm import trange\n",
    "from numpy import pi\n",
    "import numpy as np\n",
    "\n",
    "import matplotlib.pyplot as plt\n",
    "\n",
    "torch.set_default_dtype(torch.double)\n",
    "\n",
    "policy = MLP(input_size=4, output_size=1, layer_size=24, num_layers=3, activation=nn.ReLU)\n",
    "value_fn = MLP(input_size=4, output_size=1, layer_size=24, num_layers=3, activation=nn.ReLU)\n",
    "\n",
    "#policy = LinearNet(17,6)\n",
    "#value_fn = LinearNet(17,1)\n",
    "gate_fn = Categorical_MLP(input_size=4, output_size=1, layer_size=12, num_layers=2, activation=nn.ReLU)"
   ]
  },
  {
   "cell_type": "code",
   "execution_count": 2,
   "metadata": {},
   "outputs": [
    {
     "name": "stderr",
     "output_type": "stream",
     "text": [
      "100%|██████████| 20000/20000 [00:01<00:00, 11641.40it/s]\n"
     ]
    }
   ],
   "source": [
    "# Generate data for the supervised learning task\n",
    "env = gym.make('su_cartpole-v0')\n",
    "num_points = int(2e4)\n",
    "\n",
    "X = torch.zeros(num_points, env.observation_space.shape[0])  \n",
    "Y = torch.zeros(num_points,1)\n",
    "\n",
    "for i in trange(num_points):\n",
    "        \n",
    "        point = env.observation_space.sample()\n",
    "        X[i] = torch.as_tensor(point)\n",
    "        \n",
    "        if (point[0] > 145 * pi / 180) and (point[0] < 215 * pi / 180):\n",
    "            Y[i] = 1\n",
    "        else:\n",
    "            Y[i] = 0\n",
    "            "
   ]
  },
  {
   "cell_type": "code",
   "execution_count": 6,
   "metadata": {},
   "outputs": [
    {
     "name": "stderr",
     "output_type": "stream",
     "text": [
      "100%|██████████| 50/50 [00:26<00:00,  1.89it/s]\n"
     ]
    },
    {
     "data": {
      "text/plain": [
       "[<matplotlib.lines.Line2D at 0x7faa89ad4e10>]"
      ]
     },
     "execution_count": 6,
     "metadata": {},
     "output_type": "execute_result"
    },
    {
     "data": {
      "image/png": "[encoded data removed]",
      "text/plain": [
       "<Figure size 432x288 with 1 Axes>"
      ]
     },
     "metadata": {
      "needs_background": "light"
     },
     "output_type": "display_data"
    }
   ],
   "source": [
    "# fit our gating network to the data we generated above\n",
    "\n",
    "hist = fit_model(gate_fn,X,Y,50)\n",
    "plt.plot(hist)"
   ]
  },
  {
   "cell_type": "code",
   "execution_count": null,
   "metadata": {},
   "outputs": [],
   "source": [
    "# evauluate how well our classifier is doing now\n",
    "\n",
    "env = gym.make('su_cartpole-v0')\n",
    "num_points = int(2e4)\n",
    "\n",
    "pred_Y = torch.zeros(num_points,1)\n",
    "pred_X = np.zeros((num_points,1))\n",
    "up_wrong = 0; up_right = 0; down_wrong = 0; down_right = 0;\n",
    "for i in trange(num_points):\n",
    "        \n",
    "        point = env.observation_space.sample()\n",
    "        y = gate_fn(torch.as_tensor(point,dtype=torch.float64))\n",
    "        \n",
    "        if (point[0] > 145 * pi / 180) and (point[0] < 215 * pi / 180):\n",
    "            if y < .5:\n",
    "                #print(\"wrong!\" , c)\n",
    "                up_wrong +=1\n",
    "            else:\n",
    "                up_right +=1\n",
    "        else:\n",
    "            if y > .5:\n",
    "                #print(\"wrong again!\" , c)\n",
    "                down_wrong +=1\n",
    "            else:\n",
    "                down_right +=1\n",
    "       \n",
    "print(\"balancing controller misclassified: \" , up_wrong)\n",
    "print(\"balancing controller corectly classified: \" , up_right)\n",
    "print(\"balancing controller accuracy: \" , up_right/(up_right+up_wrong))\n",
    "\n",
    "     \n",
    "print(\"swingup controller misclassified: \" , down_wrong)\n",
    "print(\"swingup controller corectly classified: \" , down_right)\n",
    "print(\"balancing controller accuracy: \" , down_right/(down_right+down_wrong))"
   ]
  },
  {
   "cell_type": "code",
   "execution_count": null,
   "metadata": {},
   "outputs": [
    {
     "name": "stderr",
     "output_type": "stream",
     "text": [
      " 99%|█████████▉| 494/500 [44:13<00:24,  4.12s/it]"
     ]
    }
   ],
   "source": [
    "t_policy, t_val, rewards, var_dict = ppo('su_cartpole_push-v0', 500, policy, value_fn, action_var = .1)\n",
    "#t_policy, t_val, t_gate, rewards, var_dict = ppo_switch(\n",
    "#    \"su_cartpole_push-v0\", 500, policy, value_fn, gate_fn, epoch_batch_size=50, reward_stop=1400\n",
    "#)\n",
    "\n",
    "plt.plot(rewards)"
   ]
  },
  {
   "cell_type": "code",
   "execution_count": null,
   "metadata": {},
   "outputs": [],
   "source": []
  },
  {
   "cell_type": "code",
   "execution_count": null,
   "metadata": {},
   "outputs": [],
   "source": [
    "save_path = \"./data/push_baselines/push_baseline1\"\n",
    "#model, env = load_model(save_path) # This is loading the trained model for analysis\n",
    "t_data = pd.read_csv(save_path + '/progress.csv' ) # This is data about the training"
   ]
  },
  {
   "cell_type": "code",
   "execution_count": null,
   "metadata": {},
   "outputs": [],
   "source": [
    "plt.plot(var_dict['action_list'])"
   ]
  },
  {
   "cell_type": "code",
   "execution_count": null,
   "metadata": {},
   "outputs": [],
   "source": [
    "plt.plot(var_dict['path_list'])"
   ]
  },
  {
   "cell_type": "code",
   "execution_count": null,
   "metadata": {},
   "outputs": [],
   "source": [
    "plt.plot(np.array(var_dict['state_tensor'])[:,2])\n",
    "np.array(var_dict['state_tensor'])"
   ]
  },
  {
   "cell_type": "code",
   "execution_count": null,
   "metadata": {},
   "outputs": [],
   "source": [
    "var_dict['action_tensor']"
   ]
  },
  {
   "cell_type": "code",
   "execution_count": null,
   "metadata": {},
   "outputs": [],
   "source": []
  }
 ],
 "metadata": {
  "kernelspec": {
   "display_name": "anaconda3",
   "language": "python",
   "name": "base"
  },
  "language_info": {
   "codemirror_mode": {
    "name": "ipython",
    "version": 3
   },
   "file_extension": ".py",
   "mimetype": "text/x-python",
   "name": "python",
   "nbconvert_exporter": "python",
   "pygments_lexer": "ipython3",
   "version": "3.6.8"
  }
 },
 "nbformat": 4,
 "nbformat_minor": 4
}

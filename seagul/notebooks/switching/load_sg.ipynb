{
 "cells": [
  {
   "cell_type": "code",
   "execution_count": 224,
   "metadata": {},
   "outputs": [],
   "source": [
    "import pickle\n",
    "import torch.utils.data\n",
    "import torch\n",
    "from seagul.rl.run_utils import load_model, load_workspace\n",
    "import numpy as np\n",
    "import matplotlib.pyplot as plt\n",
    "from pprint import pprint\n",
    "\n",
    "load_path = './data/mp_test/sw_ppo_warm7'"
   ]
  },
  {
   "cell_type": "code",
   "execution_count": 226,
   "metadata": {},
   "outputs": [
    {
     "data": {
      "text/plain": [
       "[<matplotlib.lines.Line2D at 0x7f4b7d2a1eb8>]"
      ]
     },
     "execution_count": 226,
     "metadata": {},
     "output_type": "execute_result"
    },
    {
     "data": {
      "image/png": "[encoded data removed]",
      "text/plain": [
       "<Figure size 432x288 with 1 Axes>"
      ]
     },
     "metadata": {
      "needs_background": "light"
     },
     "output_type": "display_data"
    },
    {
     "data": {
      "image/png": "[encoded data removed]",
      "text/plain": [
       "<Figure size 432x288 with 1 Axes>"
      ]
     },
     "metadata": {
      "needs_background": "light"
     },
     "output_type": "display_data"
    }
   ],
   "source": [
    "model, env, args, ws = load_workspace(load_path)\n",
    "plt.plot(ws['avg_reward_hist'])\n",
    "plt.figure()\n",
    "plt.plot(np.array(ws['ep_path_tensor']))"
   ]
  },
  {
   "cell_type": "code",
   "execution_count": 217,
   "metadata": {},
   "outputs": [
    {
     "name": "stdout",
     "output_type": "stream",
     "text": [
      "[0.00159393]\n"
     ]
    }
   ],
   "source": [
    "myenv = env\n",
    "myenv.num_steps=1500\n",
    "\n",
    "action_hist = np.zeros((myenv.num_steps, myenv.action_space.shape[0]))\n",
    "state_hist = np.zeros((myenv.num_steps, myenv.observation_space.shape[0]))\n",
    "reward_hist = np.zeros((myenv.num_steps, 1))\n",
    "\n",
    "obs = env.reset()\n",
    "\n",
    "for i in range(myenv.num_steps):\n",
    "        actions, _, _, _ = model.step(obs)\n",
    "        #actions = np.zeros(1)\n",
    "        obs, reward, done, _ = env.step(actions)        \n",
    "        action_hist[i,:] = np.copy(actions)\n",
    "        state_hist[i,:] = np.copy(obs)\n",
    "        reward_hist[i,:] = np.copy(reward)\n",
    "        env.render()\n",
    "        if done:\n",
    "            break\n",
    "            \n",
    "print(sum(reward_hist))"
   ]
  },
  {
   "cell_type": "code",
   "execution_count": 19,
   "metadata": {},
   "outputs": [
    {
     "name": "stdout",
     "output_type": "stream",
     "text": [
      "-0.6896045784404392\n"
     ]
    }
   ],
   "source": [
    "actions, _, _, _ = model.step(obs)\n",
    "obs, reward, done, _ = env.step(actions)        \n",
    "env.render()\n",
    "print(reward)"
   ]
  },
  {
   "cell_type": "code",
   "execution_count": 16,
   "metadata": {},
   "outputs": [
    {
     "data": {
      "text/plain": [
       "True"
      ]
     },
     "execution_count": 16,
     "metadata": {},
     "output_type": "execute_result"
    }
   ],
   "source": [
    "env.state[0] = np.pi\n",
    "env.state[1] = 1\n",
    "env.render()"
   ]
  },
  {
   "cell_type": "code",
   "execution_count": 62,
   "metadata": {},
   "outputs": [
    {
     "data": {
      "text/plain": [
       "2.0"
      ]
     },
     "execution_count": 62,
     "metadata": {},
     "output_type": "execute_result"
    }
   ],
   "source": [
    "-(np.cos(env.state[0]) + np.cos(env.state[0] + env.state[1]))"
   ]
  },
  {
   "cell_type": "code",
   "execution_count": 42,
   "metadata": {},
   "outputs": [
    {
     "data": {
      "text/plain": [
       "0.9817307073878629"
      ]
     },
     "execution_count": 42,
     "metadata": {},
     "output_type": "execute_result"
    }
   ],
   "source": [
    "np.cos(env.state[0])"
   ]
  },
  {
   "cell_type": "code",
   "execution_count": 43,
   "metadata": {},
   "outputs": [
    {
     "data": {
      "text/plain": [
       "-0.8691494928152651"
      ]
     },
     "execution_count": 43,
     "metadata": {},
     "output_type": "execute_result"
    }
   ],
   "source": [
    "np.cos(env.state[1])"
   ]
  },
  {
   "cell_type": "code",
   "execution_count": 30,
   "metadata": {},
   "outputs": [
    {
     "name": "stdout",
     "output_type": "stream",
     "text": [
      "['gate_loss',\n",
      " 'local_gate',\n",
      " 'v_loss',\n",
      " 'local_values',\n",
      " 'p_loss',\n",
      " 'r',\n",
      " 'old_logp',\n",
      " 'logp',\n",
      " 'local_adv',\n",
      " 'local_actions',\n",
      " 'local_states',\n",
      " 'training_generator',\n",
      " 'training_data',\n",
      " 'p_adv_tensor',\n",
      " 'p_action_tensor',\n",
      " 'p_state_tensor',\n",
      " 'adv',\n",
      " 'p_adv_list',\n",
      " 'p_action_list',\n",
      " 'p_state_list',\n",
      " 'ep_adv',\n",
      " 'deltas',\n",
      " 'value_preds',\n",
      " 'ep_gate_tensor',\n",
      " 'ep_path_tensor',\n",
      " 'ep_disc_rewards',\n",
      " 'ep_action_tensor',\n",
      " 'ep_state_tensor',\n",
      " 'done',\n",
      " 'reward',\n",
      " 'state_np',\n",
      " 'logprob',\n",
      " 'action',\n",
      " 'path',\n",
      " '_',\n",
      " 'gate_out',\n",
      " 't',\n",
      " 'gate_list',\n",
      " 'path_list',\n",
      " 'reward_list',\n",
      " 'state_list',\n",
      " 'action_list',\n",
      " 'state',\n",
      " 'gate_tensor',\n",
      " 'path_tensor',\n",
      " 'action_tensor',\n",
      " 'state_tensor',\n",
      " 'disc_rewards_tensor',\n",
      " 'adv_tensor',\n",
      " 'traj_count',\n",
      " 'traj_steps',\n",
      " 'batch_steps',\n",
      " 'episode_reward_sum',\n",
      " 'epoch',\n",
      " 'avg_reward_hist',\n",
      " 'device',\n",
      " 'use_cuda',\n",
      " 'g_optimizer',\n",
      " 'v_optimizer',\n",
      " 'p_optimizer',\n",
      " 'old_model',\n",
      " 'num_states',\n",
      " 'state_var',\n",
      " 'state_mean',\n",
      " 'gate_var_lookup',\n",
      " 'action_var_lookup',\n",
      " 'sched_length',\n",
      " 'obs_size',\n",
      " 'action_size',\n",
      " 'env',\n",
      " 'reward_stop',\n",
      " 'use_gpu',\n",
      " 'v_epochs',\n",
      " 'p_epochs',\n",
      " 'gate_lr',\n",
      " 'value_lr',\n",
      " 'policy_lr',\n",
      " 'gate_batch_size',\n",
      " 'value_batch_size',\n",
      " 'policy_batch_size',\n",
      " 'seed',\n",
      " 'eps',\n",
      " 'lam',\n",
      " 'gamma',\n",
      " 'epoch_batch_size',\n",
      " 'model',\n",
      " 'num_epochs',\n",
      " 'env_name',\n",
      " 'x_vals',\n",
      " 'gate_var_schedule',\n",
      " 'action_var_schedule']\n"
     ]
    }
   ],
   "source": [
    "pprint(list(ws.keys()))"
   ]
  },
  {
   "cell_type": "code",
   "execution_count": 31,
   "metadata": {},
   "outputs": [
    {
     "data": {
      "text/plain": [
       "tensor([[1],\n",
       "        [1],\n",
       "        [1],\n",
       "        [1],\n",
       "        [1],\n",
       "        [1],\n",
       "        [1],\n",
       "        [1],\n",
       "        [1],\n",
       "        [1],\n",
       "        [1],\n",
       "        [1],\n",
       "        [1],\n",
       "        [1],\n",
       "        [1],\n",
       "        [1],\n",
       "        [1],\n",
       "        [1],\n",
       "        [1],\n",
       "        [1],\n",
       "        [0],\n",
       "        [1],\n",
       "        [1],\n",
       "        [1],\n",
       "        [1],\n",
       "        [1],\n",
       "        [1],\n",
       "        [1],\n",
       "        [1],\n",
       "        [1],\n",
       "        [1],\n",
       "        [1],\n",
       "        [0],\n",
       "        [1],\n",
       "        [1],\n",
       "        [1],\n",
       "        [1],\n",
       "        [0],\n",
       "        [0],\n",
       "        [0],\n",
       "        [0],\n",
       "        [0],\n",
       "        [1],\n",
       "        [0],\n",
       "        [0],\n",
       "        [1],\n",
       "        [1],\n",
       "        [0],\n",
       "        [0],\n",
       "        [0],\n",
       "        [0],\n",
       "        [0],\n",
       "        [0],\n",
       "        [0],\n",
       "        [1],\n",
       "        [0],\n",
       "        [0],\n",
       "        [0],\n",
       "        [0],\n",
       "        [0],\n",
       "        [0],\n",
       "        [0],\n",
       "        [0],\n",
       "        [0],\n",
       "        [0],\n",
       "        [0],\n",
       "        [0],\n",
       "        [0],\n",
       "        [0],\n",
       "        [0],\n",
       "        [0],\n",
       "        [0],\n",
       "        [0],\n",
       "        [0],\n",
       "        [0],\n",
       "        [0],\n",
       "        [0],\n",
       "        [0],\n",
       "        [0],\n",
       "        [0],\n",
       "        [0],\n",
       "        [0],\n",
       "        [0],\n",
       "        [0],\n",
       "        [0],\n",
       "        [0],\n",
       "        [0],\n",
       "        [0],\n",
       "        [0],\n",
       "        [0],\n",
       "        [0],\n",
       "        [1],\n",
       "        [0]])"
      ]
     },
     "execution_count": 31,
     "metadata": {},
     "output_type": "execute_result"
    }
   ],
   "source": [
    "ws['ep_path_tensor']"
   ]
  },
  {
   "cell_type": "code",
   "execution_count": 37,
   "metadata": {},
   "outputs": [
    {
     "data": {
      "text/plain": [
       "array([[0.],\n",
       "       [0.],\n",
       "       [0.],\n",
       "       ...,\n",
       "       [0.],\n",
       "       [0.],\n",
       "       [0.]])"
      ]
     },
     "execution_count": 37,
     "metadata": {},
     "output_type": "execute_result"
    }
   ],
   "source": [
    "action_hist"
   ]
  },
  {
   "cell_type": "code",
   "execution_count": null,
   "metadata": {},
   "outputs": [],
   "source": []
  }
 ],
 "metadata": {
  "kernelspec": {
   "display_name": "Baselines (3.6)",
   "language": "python",
   "name": "baselines"
  },
  "language_info": {
   "codemirror_mode": {
    "name": "ipython",
    "version": 3
   },
   "file_extension": ".py",
   "mimetype": "text/x-python",
   "name": "python",
   "nbconvert_exporter": "python",
   "pygments_lexer": "ipython3",
   "version": "3.6.8"
  },
  "pycharm": {
   "stem_cell": {
    "cell_type": "raw",
    "metadata": {
     "collapsed": false
    },
    "source": []
   }
  }
 },
 "nbformat": 4,
 "nbformat_minor": 4
}

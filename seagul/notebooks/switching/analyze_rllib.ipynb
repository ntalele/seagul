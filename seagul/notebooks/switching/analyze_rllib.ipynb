{
 "cells": [
  {
   "cell_type": "code",
   "execution_count": 1,
   "metadata": {},
   "outputs": [],
   "source": [
    "import pandas as pd\n",
    "import matplotlib.pyplot as plt\n",
    "import json\n",
    "import ray\n",
    "import ray.rllib.agents.ppo as ppo\n",
    "import ray.rllib.agents.ddpg as ddpg\n",
    "import ray.rllib.agents.ddpg.td3 as td3\n",
    "\n",
    "import ray.rllib.agents.sac as sac\n",
    "import seagul.envs\n",
    "import numpy as np\n",
    "from numpy import pi\n",
    "import gym\n",
    "from mpl_toolkits.mplot3d import Axes3D\n",
    "#from simple_pid import PID\n",
    "\n",
    "import dill\n",
    "import pickle\n",
    "import gym\n",
    "import numpy as np\n",
    "import matplotlib.pyplot as plt\n",
    "import random\n",
    "import tensorflow as tf\n",
    "import itertools\n",
    "%matplotlib inline\n",
    "\n",
    "import pandas as pd\n",
    "from multiprocessing import Pool\n",
    "from itertools import product\n",
    "from seagul.plot import smooth_bounded_curve\n",
    "import os\n",
    "\n",
    "jup_dir = \"/home/sgillen/work/\""
   ]
  },
  {
   "cell_type": "code",
   "execution_count": 2,
   "metadata": {},
   "outputs": [
    {
     "data": {
      "text/plain": [
       "[<matplotlib.lines.Line2D at 0x7f08b28ce240>]"
      ]
     },
     "execution_count": 2,
     "metadata": {},
     "output_type": "execute_result"
    },
    {
     "data": {
      "image/png": "[encoded data removed]",
      "text/plain": [
       "<Figure size 432x288 with 1 Axes>"
      ]
     },
     "metadata": {
      "needs_background": "light"
     },
     "output_type": "display_data"
    }
   ],
   "source": [
    "checkpoint_path = jup_dir + \\\n",
    "\"seagul/seagul/notebooks/switching/data/tune/swingdown/trial1/PPO/PPO_su_acro_drake-v0_ef318e61_2020-02-23_19-58-37e282iag1/checkpoint_228/checkpoint-228\"\n",
    "config_path =  '/'.join(checkpoint_path.split('/')[:-2]) + '/params.pkl'\n",
    "config = dill.load(open(config_path, 'rb'))\n",
    "env_name = config['env']\n",
    "\n",
    "csv_path = '/'.join(checkpoint_path.split('/')[:-2]) + '/progress.csv'\n",
    "df = pd.read_csv(csv_path)\n",
    "plt.plot(df['episode_reward_mean'])"
   ]
  },
  {
   "cell_type": "code",
   "execution_count": 4,
   "metadata": {},
   "outputs": [
    {
     "ename": "IndexError",
     "evalue": "list index out of range",
     "output_type": "error",
     "traceback": [
      "\u001b[0;31m---------------------------------------------------------------------------\u001b[0m",
      "\u001b[0;31mIndexError\u001b[0m                                Traceback (most recent call last)",
      "\u001b[0;32m<ipython-input-4-73ca71aab5a4>\u001b[0m in \u001b[0;36m<module>\u001b[0;34m\u001b[0m\n\u001b[1;32m     10\u001b[0m         \u001b[0;32mpass\u001b[0m\u001b[0;34m\u001b[0m\u001b[0;34m\u001b[0m\u001b[0m\n\u001b[1;32m     11\u001b[0m \u001b[0;34m\u001b[0m\u001b[0m\n\u001b[0;32m---> 12\u001b[0;31m \u001b[0mrewards\u001b[0m \u001b[0;34m=\u001b[0m \u001b[0mnp\u001b[0m\u001b[0;34m.\u001b[0m\u001b[0mzeros\u001b[0m\u001b[0;34m(\u001b[0m\u001b[0;34m(\u001b[0m\u001b[0mdf_list\u001b[0m\u001b[0;34m[\u001b[0m\u001b[0;36m0\u001b[0m\u001b[0;34m]\u001b[0m\u001b[0;34m[\u001b[0m\u001b[0;34m'episode_reward_mean'\u001b[0m\u001b[0;34m]\u001b[0m\u001b[0;34m.\u001b[0m\u001b[0mshape\u001b[0m\u001b[0;34m[\u001b[0m\u001b[0;36m0\u001b[0m\u001b[0;34m]\u001b[0m\u001b[0;34m,\u001b[0m \u001b[0mlen\u001b[0m\u001b[0;34m(\u001b[0m\u001b[0mdf_list\u001b[0m\u001b[0;34m)\u001b[0m\u001b[0;34m)\u001b[0m\u001b[0;34m)\u001b[0m\u001b[0;34m\u001b[0m\u001b[0;34m\u001b[0m\u001b[0m\n\u001b[0m\u001b[1;32m     13\u001b[0m \u001b[0;34m\u001b[0m\u001b[0m\n\u001b[1;32m     14\u001b[0m \u001b[0;32mfor\u001b[0m \u001b[0mi\u001b[0m\u001b[0;34m,\u001b[0m \u001b[0mdf\u001b[0m \u001b[0;32min\u001b[0m \u001b[0menumerate\u001b[0m\u001b[0;34m(\u001b[0m\u001b[0mdf_list\u001b[0m\u001b[0;34m)\u001b[0m\u001b[0;34m:\u001b[0m\u001b[0;34m\u001b[0m\u001b[0;34m\u001b[0m\u001b[0m\n",
      "\u001b[0;31mIndexError\u001b[0m: list index out of range"
     ]
    }
   ],
   "source": [
    "directory = jup_dir + \\\n",
    "\n",
    "\n",
    "df_list = []\n",
    "\n",
    "for i, entry in enumerate(os.scandir(directory)):\n",
    "    try:\n",
    "        df_list.append(pd.read_csv(entry.path + \"/progress.csv\"))\n",
    "    except FileNotFoundError:\n",
    "        pass\n",
    "\n",
    "rewards = np.zeros((df_list[0]['episode_reward_mean'].shape[0], len(df_list)))\n",
    "\n",
    "for i, df in enumerate(df_list):\n",
    "    rewards[:, i] = df['episode_reward_mean']\n",
    "\n",
    "smooth_bounded_curve(rewards)"
   ]
  },
  {
   "cell_type": "code",
   "execution_count": 3,
   "metadata": {},
   "outputs": [
    {
     "name": "stderr",
     "output_type": "stream",
     "text": [
      "2020-02-23 20:45:46,707\tWARNING worker.py:682 -- WARNING: Not updating worker name since `setproctitle` is not installed. Install this with `pip install setproctitle` (or ray[debug]) to enable monitoring of worker processes.\n",
      "2020-02-23 20:45:46,709\tWARNING services.py:592 -- setpgrp failed, processes may not be cleaned up properly: [Errno 1] Operation not permitted.\n",
      "2020-02-23 20:45:46,710\tINFO resource_spec.py:212 -- Starting Ray with 12.55 GiB memory available for workers and up to 6.29 GiB for objects. You can adjust these settings with ray.init(memory=<bytes>, object_store_memory=<bytes>).\n",
      "2020-02-23 20:45:46,941\tWARNING services.py:856 -- Redis failed to start, retrying now.\n",
      "2020-02-23 20:45:47,080\tWARNING services.py:1080 -- Failed to start the dashboard. The dashboard requires Python 3 as well as 'pip install aiohttp psutil setproctitle grpcio'.\n",
      "2020-02-23 20:45:47,266\tINFO trainer.py:370 -- Tip: set 'eager': true or the --eager flag to enable TensorFlow eager execution\n",
      "2020-02-23 20:45:47,285\tINFO trainer.py:517 -- Current log_level is WARN. For more information, set 'log_level': 'INFO' / 'DEBUG' or use the -v and -vv flags.\n",
      "/home/sgillen/work/seagul/seagul/envs/drake/__init__.py:1: _DrakeImportWarning: \n",
      "You may have already (directly or indirectly) imported `torch` which uses\n",
      "`RTLD_GLOBAL`. Using `RTLD_GLOBAL` may cause symbol collisions which manifest\n",
      "themselves in bugs like \"free(): invalid pointer\". Please consider importing\n",
      "`pydrake` (and related C++-wrapped libraries like `cv2`, `open3d`, etc.)\n",
      "*before* importing `torch`. For more details, see:\n",
      "https://github.com/pytorch/pytorch/issues/3059#issuecomment-534676459\n",
      "\n",
      "  from seagul.envs.drake.acrobot import DrakeAcroEnv\n",
      "2020-02-23 20:45:50,926\tWARNING util.py:41 -- Install gputil for GPU system monitoring.\n",
      "2020-02-23 20:45:50,953\tWARNING trainable.py:210 -- Getting current IP.\n",
      "2020-02-23 20:45:50,954\tINFO trainable.py:416 -- Restored on 128.111.57.96 from checkpoint: /home/sgillen/work/seagul/seagul/notebooks/switching/data/tune/swingdown/trial1/PPO/PPO_su_acro_drake-v0_ef318e61_2020-02-23_19-58-37e282iag1/checkpoint_228/checkpoint-228\n",
      "2020-02-23 20:45:50,954\tINFO trainable.py:423 -- Current state after restoring: {'_iteration': 228, '_timesteps_total': 501600, '_time_total': 403.09674644470215, '_episodes_total': 2508}\n"
     ]
    },
    {
     "name": "stdout",
     "output_type": "stream",
     "text": [
      "\u001b[2m\u001b[36m(pid=22459)\u001b[0m /home/sgillen/work/seagul/seagul/envs/drake/__init__.py:1: _DrakeImportWarning: \n",
      "\u001b[2m\u001b[36m(pid=22459)\u001b[0m You may have already (directly or indirectly) imported `torch` which uses\n",
      "\u001b[2m\u001b[36m(pid=22459)\u001b[0m `RTLD_GLOBAL`. Using `RTLD_GLOBAL` may cause symbol collisions which manifest\n",
      "\u001b[2m\u001b[36m(pid=22459)\u001b[0m themselves in bugs like \"free(): invalid pointer\". Please consider importing\n",
      "\u001b[2m\u001b[36m(pid=22459)\u001b[0m `pydrake` (and related C++-wrapped libraries like `cv2`, `open3d`, etc.)\n",
      "\u001b[2m\u001b[36m(pid=22459)\u001b[0m *before* importing `torch`. For more details, see:\n",
      "\u001b[2m\u001b[36m(pid=22459)\u001b[0m https://github.com/pytorch/pytorch/issues/3059#issuecomment-534676459\n",
      "\u001b[2m\u001b[36m(pid=22459)\u001b[0m \n",
      "\u001b[2m\u001b[36m(pid=22459)\u001b[0m   from seagul.envs.drake.acrobot import DrakeAcroEnv\n",
      "\u001b[2m\u001b[36m(pid=22459)\u001b[0m 2020-02-23 20:45:52.161312: E tensorflow/stream_executor/cuda/cuda_driver.cc:351] failed call to cuInit: CUDA_ERROR_NO_DEVICE: no CUDA-capable device is detected\n"
     ]
    }
   ],
   "source": [
    "def do_rollout(init_point):\n",
    "    env = gym.make(env_name, **config['env_config'])\n",
    "    obs = env.reset(init_point)\n",
    "\n",
    "    action_hist = []\n",
    "    m_act_hist = []\n",
    "    obs_hist = []\n",
    "    reward_hist = []\n",
    "\n",
    "    done = False\n",
    "\n",
    "    while not done:\n",
    "        actions, _ , out_dict = trainer.compute_action(obs,full_fetch=True)\n",
    "        obs, reward, done, _ = env.step(np.asarray(actions))\n",
    "\n",
    "        action_hist.append(np.copy(actions))\n",
    "        obs_hist.append(np.copy(obs))\n",
    "        reward_hist.append(np.copy(reward))\n",
    "\n",
    "\n",
    "    action_hist = np.stack(action_hist)\n",
    "    obs_hist = np.stack(obs_hist)\n",
    "    reward_hist = np.stack(reward_hist)\n",
    "    \n",
    "    return obs_hist, action_hist, reward_hist\n",
    "\n",
    "\n",
    "def do_det_rollout(init_point):\n",
    "    env = gym.make(env_name, **config['env_config'])\n",
    "    obs = env.reset(init_point)\n",
    "    obs[-1] = -10.0\n",
    "\n",
    "    action_hist = []\n",
    "    m_act_hist = []\n",
    "    obs_hist = []\n",
    "    reward_hist = []\n",
    "\n",
    "    done = False\n",
    "\n",
    "    while not done:\n",
    "        sampled_actions, _ , out_dict = trainer.compute_action(obs,full_fetch=True)\n",
    "        actions = out_dict['behaviour_logits'][0:2]\n",
    "\n",
    "        obs, reward, done, _ = env.step(np.asarray(actions))\n",
    "        action_hist.append(np.copy(actions))\n",
    "        obs_hist.append(np.copy(obs))\n",
    "        reward_hist.append(np.copy(reward))\n",
    "\n",
    "\n",
    "    action_hist = np.stack(action_hist)\n",
    "    obs_hist = np.stack(obs_hist)\n",
    "    reward_hist = np.stack(reward_hist)\n",
    "    \n",
    "    return obs_hist, action_hist, reward_hist\n",
    "\n",
    "ray.shutdown()\n",
    "ray.init()\n",
    "\n",
    "trainer = ppo.PPOTrainer(config)#, config['env_name'])\n",
    "#trainer = td3.TD3Trainer(config)\n",
    "#trainer = ddpg.DDPGTrainer(config)\n",
    "#trainer = sac.SACTrainer(config)\n",
    "\n",
    "trainer.restore(checkpoint_path)"
   ]
  },
  {
   "cell_type": "markdown",
   "metadata": {},
   "source": [
    "# Rollouts"
   ]
  },
  {
   "cell_type": "code",
   "execution_count": 31,
   "metadata": {},
   "outputs": [
    {
     "name": "stdout",
     "output_type": "stream",
     "text": [
      "[-27.2586   6.5937 -16.9758  10.    ]\n",
      "25.0\n"
     ]
    },
    {
     "data": {
      "text/plain": [
       "[<matplotlib.lines.Line2D at 0x7f583c969350>]"
      ]
     },
     "execution_count": 31,
     "metadata": {},
     "output_type": "execute_result"
    },
    {
     "name": "stderr",
     "output_type": "stream",
     "text": [
      "2020-02-23 18:23:23,207\tWARNING actor.py:666 -- Actor is garbage collected in the wrong driver. Actor id = ActorID(45b95b1c0100), class name = RolloutWorker.\n"
     ]
    },
    {
     "data": {
      "image/png": "[encoded data removed]",
      "text/plain": [
       "<Figure size 432x288 with 1 Axes>"
      ]
     },
     "metadata": {
      "needs_background": "light"
     },
     "output_type": "display_data"
    },
    {
     "data": {
      "image/png": "[encoded data removed]",
      "text/plain": [
       "<Figure size 432x288 with 1 Axes>"
      ]
     },
     "metadata": {
      "needs_background": "light"
     },
     "output_type": "display_data"
    },
    {
     "data": {
      "image/png": "[encoded data removed]",
      "text/plain": [
       "<Figure size 432x288 with 1 Axes>"
      ]
     },
     "metadata": {
      "needs_background": "light"
     },
     "output_type": "display_data"
    },
    {
     "data": {
      "image/png": "[encoded data removed]",
      "text/plain": [
       "<Figure size 432x288 with 1 Axes>"
      ]
     },
     "metadata": {
      "needs_background": "light"
     },
     "output_type": "display_data"
    }
   ],
   "source": [
    "X0 = np.array([-27.2586,    6.5937,  -16.9758])\n",
    "config['env_config']['num_steps'] = 100\n",
    "obs_hist, action_hist, reward_hist = do_det_rollout(init_point = X0)\n",
    "print(sum(reward_hist))\n",
    "\n",
    "plt.plot(obs_hist)\n",
    "plt.title('Observations')\n",
    "plt.legend(['x', 'y', 'z', 'r'])\n",
    "\n",
    "plt.figure()\n",
    "plt.plot(reward_hist)\n",
    "\n",
    "plt.figure()\n",
    "plt.plot(action_hist)\n",
    "plt.legend(['x', 'y'])\n",
    "plt.title('Actions')\n",
    "\n",
    "plt.figure()\n",
    "plt.plot(action_hist[:,0])\n"
   ]
  },
  {
   "cell_type": "code",
   "execution_count": null,
   "metadata": {},
   "outputs": [],
   "source": [
    "obs_arr = np.stack(obs_hist)\n",
    "\n",
    "x = obs_arr[:,0]; y = obs_arr[:,1]; z = obs_arr[:,2]\n",
    "\n",
    "fig = plt.figure(figsize=(16,8))\n",
    "ax = fig.gca(projection='3d')\n",
    "ax.plot(x,y,z, alpha=0.7, linewidth=1)\n",
    "ax.set_title('phase diagram')"
   ]
  },
  {
   "cell_type": "markdown",
   "metadata": {},
   "source": [
    "# Local Point Analysis"
   ]
  },
  {
   "cell_type": "code",
   "execution_count": 37,
   "metadata": {},
   "outputs": [],
   "source": [
    "num_steps = config['env_config']['num_steps']\n",
    "config['env_config']['num_steps'] = 5000\n",
    "obs_hist, _ , _ = do_rollout(np.array([0,0,0]))\n",
    "limit_set = obs_hist[4900:,:]\n",
    "config['env_config']['num_steps'] = num_steps"
   ]
  },
  {
   "cell_type": "code",
   "execution_count": null,
   "metadata": {},
   "outputs": [],
   "source": [
    "seed_point = np.array(obs_hist[-1,:3])\n",
    "dx = dy = dz = 1e-6\n",
    "\n",
    "deltas = itertools.product([-dx, dx, 0], [-dy, dy, 0], [-dz, dz, 0])\n",
    "deltas = np.array(list(deltas))\n",
    "\n",
    "init_points = seed_point + deltas\n",
    "\n",
    "final_points = np.zeros_like(init_points)\n",
    "min_points = np.zeros_like(init_points)\n",
    "trajs = np.zeros((init_points.shape[0], config['env_config']['num_steps']+1, init_points.shape[1]))\n",
    "\n",
    "trainer.get_policy().cur_noise_scale = 0.0\n",
    "\n",
    "for i, init_point in enumerate(init_points):\n",
    "    obs_hist, act_hist, rew_hist = do_rollout(init_point)\n",
    "    trajs[i,:] = obs_hist[:,:3]"
   ]
  },
  {
   "cell_type": "code",
   "execution_count": null,
   "metadata": {},
   "outputs": [],
   "source": [
    "num_trajs = trajs.shape[0]\n",
    "\n",
    "min_x = np.zeros((num_trajs, num_steps))\n",
    "min_y = np.zeros((num_trajs, num_steps))\n",
    "min_z = np.zeros((num_trajs, num_steps))\n",
    "min_d = np.zeros((num_trajs, num_steps))\n",
    "min_d = np.zeros((num_trajs, num_steps))\n",
    "min_dxz = np.zeros((num_trajs, num_steps))\n",
    "\n",
    "for i in range(trajs.shape[0]):\n",
    "    for t in range(num_steps):\n",
    "        min_x[i,t] = np.min(np.linalg.norm((trajs[i,t,0] - limit_set[:,0]).reshape(1,-1),axis=0))\n",
    "        min_y[i,t] = np.min(np.linalg.norm((trajs[i,t,1] - limit_set[:,1]).reshape(1,-1),axis=0))\n",
    "        min_z[i,t] = np.min(np.linalg.norm((trajs[i,t,2] - limit_set[:,2]).reshape(1,-1),axis=0))\n",
    "        min_d[i,t] = np.min(np.linalg.norm(trajs[i,t,:] - limit_set[:,:3], axis=1))\n",
    "        min_dxz[i,t] = np.min(np.linalg.norm(trajs[i,t,0::2] - limit_set[:,0::2], axis=1))"
   ]
  },
  {
   "cell_type": "code",
   "execution_count": null,
   "metadata": {},
   "outputs": [],
   "source": [
    "for i,_ in enumerate(trajs[:,0,0]):\n",
    "    plt.plot(trajs[i,:,0])\n",
    "    plt.title(\"X trajectories, d* = \" + str(dx))\n",
    "    \n",
    "plt.figure()\n",
    "for i,_ in enumerate(trajs[:,0,0]):\n",
    "    plt.plot(trajs[i,:,1])\n",
    "    plt.title(\"Y trajectories, d* = \" + str(dy))\n",
    "\n",
    "plt.figure()\n",
    "for i,_ in enumerate(trajs[:,0,0]):\n",
    "    plt.plot(trajs[i,:,2])\n",
    "    plt.title(\"Z trajectories, d* = \" + str(dz))"
   ]
  },
  {
   "cell_type": "code",
   "execution_count": null,
   "metadata": {},
   "outputs": [],
   "source": [
    "for i,_ in enumerate(trajs[:,0,0]):\n",
    "    plt.plot(min_d[i,:])\n",
    "    plt.title(\"Euclidean distance from nominal, d* = \" + str(dx))\n",
    "\n",
    "plt.figure()\n",
    "for i,_ in enumerate(trajs[:,0,0]):\n",
    "    plt.plot(min_dxz[i,:])\n",
    "    plt.title(\"Euclidean distance excluding Y from nominal, d* = \" + str(dx))\n",
    "    \n",
    "plt.figure()    \n",
    "for i,_ in enumerate(trajs[:,0,0]):\n",
    "    plt.plot(min_x[i,:])\n",
    "    plt.title(\"X distance from nominal , d* = \" + str(dx))\n",
    "\n",
    "plt.figure()\n",
    "for i,_ in enumerate(trajs[:,0,0]):\n",
    "    plt.plot(min_y[i,:])\n",
    "    plt.title(\"Y distance from nominal , d* = \" + str(dx))\n",
    "\n",
    "plt.figure()\n",
    "for i,_ in enumerate(trajs[:,0,0]):\n",
    "    plt.plot(min_z[i,:])\n",
    "    plt.title(\"Z distance from nominal, d* = \" + str(dx))"
   ]
  },
  {
   "cell_type": "markdown",
   "metadata": {},
   "source": [
    "# Global point analysis"
   ]
  },
  {
   "cell_type": "code",
   "execution_count": null,
   "metadata": {},
   "outputs": [],
   "source": [
    "num_points = int(1e3)\n",
    "config[\"env_config\"][\"num_steps\"] = 1000\n",
    "\n",
    "init_points = np.random.uniform(low = np.array([-10,-10,-10]), high = np.array([10, 10, 10]), size=(num_points,3))\n",
    "final_points = np.zeros_like(init_points)\n",
    "trajs = np.zeros((init_points.shape[0], config[\"env_config\"][\"num_steps\"]+1, init_points.shape[1]))\n",
    "\n",
    "for i, init_point in enumerate(init_points):\n",
    "    obs_hist, act_hist, rew_hist = do_rollout(init_point)\n",
    "    trajs[i,:] = obs_hist[:,:3]\n",
    "    final_points[i,:] = obs_hist[-1,:3]"
   ]
  },
  {
   "cell_type": "code",
   "execution_count": null,
   "metadata": {},
   "outputs": [],
   "source": [
    "plt.scatter(init_points[:,0], init_points[:,2])\n",
    "plt.scatter(final_points[:,0], final_points[:,2])\n",
    "plt.axis('equal')\n",
    "plt.xlabel('x')\n",
    "plt.ylabel('z')\n",
    "plt.legend(['initial', 'final'])"
   ]
  },
  {
   "cell_type": "markdown",
   "metadata": {},
   "source": [
    "# Network output analysis"
   ]
  },
  {
   "cell_type": "code",
   "execution_count": null,
   "metadata": {},
   "outputs": [],
   "source": [
    "num_points = 1000\n",
    "\n",
    "obs = np.array([0.0,0.0,0.0,10.0])\n",
    "\n",
    "ys  = np.linspace(-10,10,num_points)\n",
    "xs  = np.linspace(0,10,num_points)\n",
    "\n",
    "action_arr = np.zeros((num_points, 2))\n",
    "var = np.zeros((num_points,2))\n",
    "logp = np.zeros((num_points,1))\n",
    "vf_preds = np.zeros((num_points,1))\n",
    "\n",
    "for i,xy in enumerate(zip(xs,ys)):\n",
    "    x = xy[0]; y = xy[1]\n",
    "    \n",
    "    obs[0] = x; #obs[1] = y\n",
    "    \n",
    "    sampled_action, _ , out_dict = trainer.compute_action(obs,full_fetch=True)\n",
    "    actions = out_dict['behaviour_logits'][0:2]\n",
    "    var[i] = out_dict['behaviour_logits'][2:]\n",
    "    logp[i] = out_dict['action_logp']\n",
    "    vf_preds[i] = out_dict['vf_preds']\n",
    "\n",
    "\n",
    "    action_arr[i] = actions\n",
    "    \n",
    "    \n",
    "plt.plot(xs, action_arr[:,0], 'x')\n",
    "plt.plot(xs, action_arr[:,1], 'x')"
   ]
  },
  {
   "cell_type": "markdown",
   "metadata": {},
   "source": [
    "# Meshing dimensionality analysis"
   ]
  },
  {
   "cell_type": "code",
   "execution_count": null,
   "metadata": {},
   "outputs": [],
   "source": [
    "num_steps = config['env_config']['num_steps']\n",
    "config['env_config']['num_steps'] = 5000\n",
    "obs_hist, _ , _ = do_rollout(np.array([0,0,0]))\n",
    "limit_set = obs_hist[4000:,:]\n",
    "config['env_config']['num_steps'] = num_steps"
   ]
  },
  {
   "cell_type": "code",
   "execution_count": null,
   "metadata": {},
   "outputs": [],
   "source": [
    "def removearray(L,arr):\n",
    "    ind = 0\n",
    "    size = len(L)\n",
    "    while ind != size and not np.array_equal(L[ind],arr):\n",
    "        ind += 1\n",
    "    if ind != size:\n",
    "        L.pop(ind)\n",
    "    else:\n",
    "        raise ValueError('array not found in list.')\n",
    "\n",
    "d_min = 1e-8; d_max = 40\n",
    "d_vals = np.linspace(d_min, d_max, 2000)\n",
    "mesh_sizes = []\n",
    "        \n",
    "for d in d_vals:\n",
    "    orig = []\n",
    "    mesh = []\n",
    "\n",
    "    for point in limit_set[:,:3]:\n",
    "        orig.append(point)\n",
    "\n",
    "    while True:\n",
    "        sample = random.sample(orig,1)[0]\n",
    "        removearray(orig, sample)\n",
    "        mesh.append(sample)\n",
    "\n",
    "        for item in orig:\n",
    "            if(np.linalg.norm(sample - item) < d):\n",
    "                removearray(orig, item)\n",
    "\n",
    "        if len(orig) == 0:\n",
    "            break\n",
    "            \n",
    "    mesh_sizes.append(len(mesh))"
   ]
  },
  {
   "cell_type": "code",
   "execution_count": null,
   "metadata": {},
   "outputs": [],
   "source": [
    "import scipy.optimize as opt\n",
    "\n",
    "lin_begin = 5; lin_end = 450\n",
    "xdata = np.array(d_vals[lin_begin:lin_end])\n",
    "ydata = np.array(mesh_sizes[lin_begin:lin_end])\n",
    "\n",
    "#plt.plot(xdata, ydata, 'bx')\n",
    "plt.plot(d_vals, mesh_sizes, 'gx--', alpha=.2)\n",
    "#plt.legend(['linear region guess', 'all data'])\n",
    "plt.xlabel('d')\n",
    "plt.ylabel('log(Points in mesh)')\n",
    "plt.yscale('log')\n",
    "plt.xscale('log')\n",
    "plt.gca().xaxis.grid(True, which='both')  # minor grid on too\n",
    "plt.gca().yaxis.grid(True, which='both')  # minor grid on too\n",
    "\n",
    "plt.figure()\n",
    "\n",
    "plt.plot(xdata, ydata, 'bx')\n",
    "plt.plot(d_vals, mesh_sizes, 'gx--', alpha=.2)\n",
    "plt.legend(['linear region guess', 'all data'])\n",
    "plt.xlabel('d')\n",
    "plt.ylabel('log(Points in mesh)')\n",
    "plt.yscale('log')\n",
    "plt.xscale('log')\n",
    "plt.gca().xaxis.grid(True, which='both')  # minor grid on too\n",
    "plt.gca().yaxis.grid(True, which='both')  # minor grid on too"
   ]
  },
  {
   "cell_type": "code",
   "execution_count": null,
   "metadata": {},
   "outputs": [],
   "source": [
    "def f(x,m,b):\n",
    "    return m*x + b\n",
    "\n",
    "popt, pcov = opt.curve_fit(f, np.log(xdata), np.log(ydata))\n",
    "\n",
    "plt.plot(np.log(xdata), np.log(ydata), 'bx', alpha=.5)\n",
    "plt.plot(np.log(xdata), f(np.log(xdata), *popt),'r--')\n",
    "plt.legend(['linear region guess', 'fit: m*x + b,  m=%5.3f, b=%5.3f' % tuple(popt)])\n",
    "plt.gca().xaxis.grid(True)  # minor grid on too\n",
    "plt.gca().yaxis.grid(True)  # minor grid on too"
   ]
  },
  {
   "cell_type": "code",
   "execution_count": null,
   "metadata": {},
   "outputs": [],
   "source": [
    "env = gym.make(env_name, **config['env_config'])\n",
    "\n",
    "x_min = -10; x_max = 10; num_x = 1\n",
    "x_vals = np.linspace(x_min, x_max, num_x)\n",
    "\n",
    "y_min = -10; y_max = 10; num_y = 1\n",
    "y_vals = np.linspace(y_min, y_max, num_y)\n",
    "\n",
    "z_min = -10; z_max = 10; num_z = 1\n",
    "z_vals = np.linspace(z_min, z_max, num_z)\n",
    "\n",
    "means = np.zeros((x_vals.size, y_vals.size, z_vals.size, env.action_space.shape[0]))\n",
    "stds = np.zeros((x_vals.size, y_vals.size, z_vals.size, env.action_space.shape[0]))\n",
    "\n",
    "import time\n",
    "start = time.time()\n",
    "\n",
    "def do_eval(xyz):\n",
    "    obs = np.array(xyz + (10,))\n",
    "    print(\"e\")\n",
    "    sampled_action, _ , out_dict = trainer.compute_action(obs,full_fetch=True)\n",
    "    print(\"z\")\n",
    "\n",
    "\n",
    "    actions = out_dict['behaviour_logits'][0:2]\n",
    "    std = out_dict['behaviour_logits'][2:]\n",
    "    print(\"ello\")\n",
    "    return actions, std\n",
    "\n",
    "pool = Pool(processes=1) #defaults to number of available CPU's\n",
    "for ind, res in enumerate(pool.imap(do_eval, product(x_vals, y_vals, z_vals))):\n",
    "        means.flat[ind] = res[0] \n",
    "        std.flat[ind] = res[1]\n",
    "\n",
    "end = time.time()\n",
    "print(end - start)"
   ]
  },
  {
   "cell_type": "code",
   "execution_count": null,
   "metadata": {},
   "outputs": [],
   "source": [
    "env = gym.make(env_name, **config['env_config'])\n",
    "\n",
    "x_min = -10; x_max = 10; num_x = 1\n",
    "x_vals = np.linspace(x_min, x_max, num_x)\n",
    "\n",
    "y_min = -10; y_max = 10; num_y = 1\n",
    "y_vals = np.linspace(y_min, y_max, num_y)\n",
    "\n",
    "z_min = -10; z_max = 10; num_z = 1\n",
    "z_vals = np.linspace(z_min, z_max, num_z)\n",
    "\n",
    "means = np.zeros((x_vals.size, y_vals.size, z_vals.size, env.action_space.shape[0]))\n",
    "stds = np.zeros((x_vals.size, y_vals.size, z_vals.size, env.action_space.shape[0]))\n",
    "\n",
    "import time\n",
    "start = time.time()\n",
    "\n",
    "def do_eval(xyz):\n",
    "    obs = np.array(xyz + (10,))\n",
    "    print(\"e\")\n",
    "    sampled_action, _ , out_dict = trainer.compute_action(obs,full_fetch=True)\n",
    "    print(\"z\")\n",
    "\n",
    "\n",
    "    actions = out_dict['behaviour_logits'][0:2]\n",
    "    std = out_dict['behaviour_logits'][2:]\n",
    "    print(\"ello\")\n",
    "    return actions, std\n",
    "\n",
    "pool = Pool(processes=1) #defaults to number of available CPU's\n",
    "for ind, res in enumerate(pool.imap(do_eval, product(x_vals, y_vals, z_vals))):\n",
    "        means.flat[ind] = res[0] \n",
    "        std.flat[ind] = res[1]\n",
    "\n",
    "end = time.time()\n",
    "print(end - start)"
   ]
  },
  {
   "cell_type": "code",
   "execution_count": 12,
   "metadata": {},
   "outputs": [
    {
     "name": "stdout",
     "output_type": "stream",
     "text": [
      "1.1674630641937256\n"
     ]
    }
   ],
   "source": [
    "env = gym.make(env_name, **config['env_config'])\n",
    "\n",
    "x_min = -20; x_max = 20; num_x = 100\n",
    "x_vals = np.linspace(x_min, x_max, num_x)\n",
    "\n",
    "y_min = -20; y_max = 20; num_y = 100\n",
    "y_vals = np.linspace(y_min, y_max, num_y)\n",
    "\n",
    "z_min = -20; z_max = 20; num_z = 100\n",
    "z_vals = np.linspace(z_min, z_max, num_z)\n",
    "\n",
    "r_vals = np.array([-10.0, 10.0])\n",
    "\n",
    "coords = []\n",
    "\n",
    "pool = Pool()\n",
    "import time\n",
    "start = time.time()\n",
    "\n",
    "#there must be a better way to do this...\n",
    "for ind, xyzr  in enumerate(product(x_vals, y_vals, z_vals,r_vals)):\n",
    "        coords.append(xyzr)\n",
    "coords_arr = np.array(coords)\n",
    "\n",
    "acts, _, out_dict = trainer.get_policy().compute_actions(coords_arr)\n",
    "\n",
    "means = out_dict['behaviour_logits'][:,0:2].reshape((num_x,num_y,num_z,2,2))\n",
    "stds = out_dict['behaviour_logits'][:,2:].reshape((num_x,num_y,num_z,2,2))\n",
    "\n",
    "x_std = stds[:,:,:,:,0]\n",
    "y_std = stds[:,:,:,:,1]\n",
    "\n",
    "x_means = means[:,:,:,:,0]\n",
    "y_means = means[:,:,:,:,1]\n",
    "\n",
    "end = time.time()\n",
    "print(end - start)"
   ]
  },
  {
   "cell_type": "code",
   "execution_count": 13,
   "metadata": {},
   "outputs": [],
   "source": [
    "from scipy.io import savemat\n",
    "savemat(\"policy_map_r_rk4.mat\", {\"x_means\":x_means, \"y_means\":y_means, \"x_std\":x_std, \"y_std\":y_std, \"x_eval\":x_vals, \"y_eval\":y_vals, \"z_eval\":z_vals, \"r_eval\":r_vals})"
   ]
  },
  {
   "cell_type": "code",
   "execution_count": null,
   "metadata": {},
   "outputs": [],
   "source": [
    "from scipy.io import loadmat\n",
    "old_map = loadmat(\"policy_map.mat\")"
   ]
  },
  {
   "cell_type": "code",
   "execution_count": null,
   "metadata": {},
   "outputs": [],
   "source": [
    " 50*50*50/35340.29490240135"
   ]
  },
  {
   "cell_type": "code",
   "execution_count": null,
   "metadata": {},
   "outputs": [],
   "source": [
    "trainer"
   ]
  },
  {
   "cell_type": "code",
   "execution_count": null,
   "metadata": {},
   "outputs": [],
   "source": [
    "i = 0; j = 0; k = 0; n = 0; \n",
    "_,_,out_dict = trainer.get_policy().compute_actions(np.array([x_vals[i], y_vals[j], z_vals[k], r_vals[n]]).reshape(1,-1))\n",
    "\n",
    "print (out_dict['behaviour_logits'][:,0:2].flatten() == means_4d[i,j,k,n])\n"
   ]
  },
  {
   "cell_type": "code",
   "execution_count": 32,
   "metadata": {},
   "outputs": [
    {
     "name": "stdout",
     "output_type": "stream",
     "text": [
      "default_policy/fc_1/kernel\n",
      "default_policy/fc_1/bias\n",
      "default_policy/fc_2/kernel\n",
      "default_policy/fc_2/bias\n",
      "default_policy/fc_out/kernel\n",
      "default_policy/fc_out/bias\n"
     ]
    }
   ],
   "source": [
    "for key in p.get_weights().keys():\n",
    "    if key.find('value') == -1:\n",
    "        print(key)"
   ]
  },
  {
   "cell_type": "code",
   "execution_count": null,
   "metadata": {},
   "outputs": [],
   "source": []
  }
 ],
 "metadata": {
  "kernelspec": {
   "display_name": "Drake (3.6)",
   "language": "python",
   "name": "drake"
  },
  "language_info": {
   "codemirror_mode": {
    "name": "ipython",
    "version": 3
   },
   "file_extension": ".py",
   "mimetype": "text/x-python",
   "name": "python",
   "nbconvert_exporter": "python",
   "pygments_lexer": "ipython3",
   "version": "3.6.10"
  }
 },
 "nbformat": 4,
 "nbformat_minor": 4
}

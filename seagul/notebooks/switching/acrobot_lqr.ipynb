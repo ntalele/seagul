{
 "cells": [
  {
   "cell_type": "code",
   "execution_count": 3,
   "metadata": {},
   "outputs": [
    {
     "name": "stdout",
     "output_type": "stream",
     "text": [
      "[[204.06707408  59.21086694  37.41566423   5.29518038]]\n"
     ]
    }
   ],
   "source": [
    "import gym\n",
    "import seagul.envs\n",
    "import numpy as np\n",
    "from numpy import pi, sin, cos\n",
    "import time\n",
    "import torch\n",
    "import torch.nn as nn\n",
    "torch.set_default_dtype(torch.double)\n",
    "import matplotlib.pyplot as plt\n",
    "\n",
    "import numpy as np\n",
    "from numpy import sin, cos, pi\n",
    "from control import lqr\n",
    "\n",
    "from seagul.rl.models import PPOModelActHold\n",
    "from seagul.nn import MLP\n",
    "from seagul.rl.run_utils import load_workspace\n",
    "\n",
    "from scipy.integrate import solve_ivp\n",
    "\n",
    "# dynamics from our gym environment\n",
    "I2 = .33; I1 = .083\n",
    "l1 = 1; l2 = 2.1\n",
    "m1 = 1; m2 = 1\n",
    "lc1 = .5; lc2 = 1\n",
    "g = 9.8\n",
    "th1 = pi/2; th2 = 0\n",
    "th1d = 0; th2d = 0\n",
    "\n",
    "\n",
    "B = np.array([[0],[1]])\n",
    "M = np.array([[I1 + I2 + m2*l1**2 + 2*m2*l1*lc2*cos(th2), I2 + m2*l1*lc2*cos(th2)], [I2 + m2*l1*lc2*cos(th2), I2]])\n",
    "C = np.array([[-2*m2*l1*lc2*sin(th2)*th2d, -m2*l1*lc2*sin(th2)*th2d], [m2*l1*lc2*sin(th2)*th1d, 0]])\n",
    "G = np.array([[-m1*g*lc1*cos(th1) - m2*g*(l1*cos(th1) + lc2*cos(th1 + th2))],[-m2*g*lc2*cos(th1+ th2)]])\n",
    "\n",
    "Alin= np.array([[0,0, 1, 0],[0, 0, 0, 1], [g*(m1*l1 + m2*l1 + m2*lc2), (m2*g*lc2), 0, 0 ],[m2*g*lc2, m2*g*lc2, 0, 0]])\n",
    "Bl = np.linalg.inv(M)*B\n",
    "Blin = np.array([[0,0],[0,0],Bl[0,:], Bl[1,:]])\n",
    "\n",
    "Q = np.identity(4)\n",
    "Q[0,0] = 100\n",
    "Q[1,1] = 100\n",
    "Q[2,2] = 10\n",
    "Q[3,3] = 10\n",
    "\n",
    "R = np.identity(2)*1\n",
    "K,S,E = lqr(Alin,Blin,Q,R)\n",
    "print(-K[1,:])"
   ]
  },
  {
   "cell_type": "code",
   "execution_count": null,
   "metadata": {},
   "outputs": [],
   "source": []
  }
 ],
 "metadata": {
  "kernelspec": {
   "display_name": "Drake (3.6)",
   "language": "python",
   "name": "drake"
  },
  "language_info": {
   "codemirror_mode": {
    "name": "ipython",
    "version": 3
   },
   "file_extension": ".py",
   "mimetype": "text/x-python",
   "name": "python",
   "nbconvert_exporter": "python",
   "pygments_lexer": "ipython3",
   "version": "3.6.10"
  }
 },
 "nbformat": 4,
 "nbformat_minor": 4
}

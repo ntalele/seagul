{
 "cells": [
  {
   "cell_type": "code",
   "execution_count": null,
   "metadata": {},
   "outputs": [
    {
     "name": "stdout",
     "output_type": "stream",
     "text": [
      "Using matplotlib backend: Qt5Agg\n"
     ]
    }
   ],
   "source": [
    "import argparse\n",
    "import numpy as np\n",
    "\n",
    "from pydrake.all import (DiagramBuilder, FloatingBaseType, RigidBodyPlant,\n",
    "                         RigidBodyTree, Simulator, VectorSystem)\n",
    "from underactuated import (FindResource, PlanarRigidBodyVisualizer,\n",
    "                           SliderSystem)\n",
    "\n",
    "tree = RigidBodyTree(FindResource(\"acrobot/acrobot.urdf\"),\n",
    "                     FloatingBaseType.kFixed)\n",
    "\n",
    "%matplotlib\n",
    "\n",
    "builder = DiagramBuilder()\n",
    "acrobot = builder.AddSystem(RigidBodyPlant(tree))\n",
    "\n",
    "visualizer = builder.AddSystem(PlanarRigidBodyVisualizer(tree,\n",
    "                                                         xlim=[-4., 4.],\n",
    "                                                         ylim=[-4., 4.]))\n",
    "builder.Connect(acrobot.get_output_port(0), visualizer.get_input_port(0))\n",
    "\n",
    "ax = visualizer.fig.add_axes([.2, .95, .6, .025])\n",
    "torque_system = builder.AddSystem(SliderSystem(ax, 'Torque', -5., 5.))\n",
    "builder.Connect(torque_system.get_output_port(0),\n",
    "                acrobot.get_input_port(0))\n",
    "\n",
    "diagram = builder.Build()\n",
    "simulator = Simulator(diagram)\n",
    "simulator.set_target_realtime_rate(1.0)\n",
    "simulator.set_publish_every_time_step(False)\n",
    "\n",
    "context = simulator.get_mutable_context()\n",
    "context.SetContinuousState([1., 0., 0., 0.])\n",
    "\n",
    "simulator.AdvanceTo(100000)"
   ]
  },
  {
   "cell_type": "code",
   "execution_count": null,
   "metadata": {},
   "outputs": [
    {
     "name": "stdout",
     "output_type": "stream",
     "text": [
      "Using matplotlib backend: Qt5Agg\n",
      "[-0.15748035  0.08504348  0.02933437  0.17504105]\n",
      "[-0.26119218  0.06805605 -0.01006031  0.02951603]\n"
     ]
    }
   ],
   "source": [
    "import math\n",
    "import numpy as np\n",
    "\n",
    "from pydrake.all import (DiagramBuilder, FloatingBaseType,\n",
    "                         LinearQuadraticRegulator, RigidBodyTree,\n",
    "                         Saturation, Simulator, WrapToSystem)\n",
    "from pydrake.examples.acrobot import (AcrobotInput, AcrobotPlant, AcrobotState)\n",
    "from underactuated import (FindResource, PlanarRigidBodyVisualizer)\n",
    "\n",
    "%matplotlib\n",
    "\n",
    "def UprightState():\n",
    "    state = AcrobotState()\n",
    "    state.set_theta1(math.pi)\n",
    "    state.set_theta2(0.)\n",
    "    state.set_theta1dot(0.)\n",
    "    state.set_theta2dot(0.)\n",
    "    return state\n",
    "\n",
    "\n",
    "def BalancingLQR():\n",
    "    # Design an LQR controller for stabilizing the Acrobot around the upright.\n",
    "    # Returns a (static) AffineSystem that implements the controller (in\n",
    "    # the original AcrobotState coordinates).\n",
    "\n",
    "    acrobot = AcrobotPlant()\n",
    "    context = acrobot.CreateDefaultContext()\n",
    "\n",
    "    input = AcrobotInput()\n",
    "    input.set_tau(0.)\n",
    "    context.FixInputPort(0, input)\n",
    "\n",
    "    context.get_mutable_continuous_state_vector()\\\n",
    "        .SetFromVector(UprightState().CopyToVector())\n",
    "\n",
    "    Q = np.diag((10., 10., 1., 1.))\n",
    "    R = [1]\n",
    "\n",
    "    return LinearQuadraticRegulator(acrobot, context, Q, R)\n",
    "\n",
    "\n",
    "if __name__ == \"__main__\":\n",
    "    builder = DiagramBuilder()\n",
    "\n",
    "    acrobot = builder.AddSystem(AcrobotPlant())\n",
    "    saturation = builder.AddSystem(Saturation(min_value=[-10],\n",
    "                                              max_value=[10]))\n",
    "    builder.Connect(saturation.get_output_port(0), acrobot.get_input_port(0))\n",
    "    wrapangles = WrapToSystem(4)\n",
    "    wrapangles.set_interval(0, 0, 2.*math.pi)\n",
    "    wrapangles.set_interval(1, -math.pi, math.pi)\n",
    "    wrapto = builder.AddSystem(wrapangles)\n",
    "    builder.Connect(acrobot.get_output_port(0), wrapto.get_input_port(0))\n",
    "    controller = builder.AddSystem(BalancingLQR())\n",
    "    builder.Connect(wrapto.get_output_port(0), controller.get_input_port(0))\n",
    "    builder.Connect(controller.get_output_port(0),\n",
    "                    saturation.get_input_port(0))\n",
    "\n",
    "    tree = RigidBodyTree(FindResource(\"acrobot/acrobot.urdf\"),\n",
    "                         FloatingBaseType.kFixed)\n",
    "    visualizer = builder.AddSystem(PlanarRigidBodyVisualizer(tree,\n",
    "                                                             xlim=[-4., 4.],\n",
    "                                                             ylim=[-4., 4.]))\n",
    "    builder.Connect(acrobot.get_output_port(0), visualizer.get_input_port(0))\n",
    "\n",
    "    diagram = builder.Build()\n",
    "    simulator = Simulator(diagram)\n",
    "    simulator.set_target_realtime_rate(1.0)\n",
    "    simulator.set_publish_every_time_step(False)\n",
    "    context = simulator.get_mutable_context()\n",
    "\n",
    "    for i in range(5):\n",
    "        context.SetTime(0.)\n",
    "        init_pert = 0.1*np.random.randn(4,)\n",
    "        print(init_pert)\n",
    "        context.SetContinuousState(UprightState().CopyToVector() + init_pert)\n",
    "        simulator.Initialize()\n",
    "        simulator.AdvanceTo(5)"
   ]
  },
  {
   "cell_type": "code",
   "execution_count": null,
   "metadata": {},
   "outputs": [],
   "source": []
  }
 ],
 "metadata": {
  "kernelspec": {
   "display_name": "Drake (3.6)",
   "language": "python",
   "name": "drake"
  },
  "language_info": {
   "codemirror_mode": {
    "name": "ipython",
    "version": 3
   },
   "file_extension": ".py",
   "mimetype": "text/x-python",
   "name": "python",
   "nbconvert_exporter": "python",
   "pygments_lexer": "ipython3",
   "version": "3.6.9"
  }
 },
 "nbformat": 4,
 "nbformat_minor": 4
}

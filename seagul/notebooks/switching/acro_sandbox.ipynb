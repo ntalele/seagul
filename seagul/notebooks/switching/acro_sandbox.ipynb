{
 "cells": [
  {
   "cell_type": "code",
   "execution_count": null,
   "metadata": {},
   "outputs": [
    {
     "name": "stdout",
     "output_type": "stream",
     "text": [
      "Using matplotlib backend: Qt5Agg\n"
     ]
    }
   ],
   "source": [
    "import argparse\n",
    "import numpy as np\n",
    "\n",
    "from pydrake.all import (DiagramBuilder, FloatingBaseType, RigidBodyPlant,\n",
    "                         RigidBodyTree, Simulator, VectorSystem)\n",
    "from underactuated import (FindResource, PlanarRigidBodyVisualizer,\n",
    "                           SliderSystem)\n",
    "\n",
    "tree = RigidBodyTree(FindResource(\"acrobot/acrobot.urdf\"),\n",
    "                     FloatingBaseType.kFixed)\n",
    "\n",
    "%matplotlib\n",
    "\n",
    "builder = DiagramBuilder()\n",
    "acrobot = builder.AddSystem(RigidBodyPlant(tree))\n",
    "\n",
    "visualizer = builder.AddSystem(PlanarRigidBodyVisualizer(tree,\n",
    "                                                         xlim=[-4., 4.],\n",
    "                                                         ylim=[-4., 4.]))\n",
    "builder.Connect(acrobot.get_output_port(0), visualizer.get_input_port(0))\n",
    "\n",
    "ax = visualizer.fig.add_axes([.2, .95, .6, .025])\n",
    "torque_system = builder.AddSystem(SliderSystem(ax, 'Torque', -5., 5.))\n",
    "builder.Connect(torque_system.get_output_port(0),\n",
    "                acrobot.get_input_port(0))\n",
    "\n",
    "diagram = builder.Build()\n",
    "simulator = Simulator(diagram)\n",
    "simulator.set_target_realtime_rate(1.0)\n",
    "simulator.set_publish_every_time_step(False)\n",
    "\n",
    "context = simulator.get_mutable_context()\n",
    "context.SetContinuousState([1., 0., 0., 0.])\n",
    "\n",
    "simulator.AdvanceTo(100000)"
   ]
  },
  {
   "cell_type": "code",
   "execution_count": 3,
   "metadata": {},
   "outputs": [
    {
     "name": "stdout",
     "output_type": "stream",
     "text": [
      "Using matplotlib backend: Qt5Agg\n",
      "[-0.09678927  0.0629509   0.1585581   0.1064886 ]\n",
      "[ 0.18630748 -0.10297263 -0.06366959  0.04070918]\n"
     ]
    },
    {
     "ename": "KeyboardInterrupt",
     "evalue": "",
     "output_type": "error",
     "traceback": [
      "\u001b[0;31m---------------------------------------------------------------------------\u001b[0m",
      "\u001b[0;31mKeyboardInterrupt\u001b[0m                         Traceback (most recent call last)",
      "\u001b[0;32m~/miniconda3/envs/drake/lib/python3.6/site-packages/matplotlib/backends/backend_qt5agg.py\u001b[0m in \u001b[0;36mpaintEvent\u001b[0;34m(self, event)\u001b[0m\n\u001b[1;32m     21\u001b[0m         \u001b[0msuper\u001b[0m\u001b[0;34m(\u001b[0m\u001b[0;34m)\u001b[0m\u001b[0;34m.\u001b[0m\u001b[0m__init__\u001b[0m\u001b[0;34m(\u001b[0m\u001b[0mfigure\u001b[0m\u001b[0;34m=\u001b[0m\u001b[0mfigure\u001b[0m\u001b[0;34m)\u001b[0m\u001b[0;34m\u001b[0m\u001b[0;34m\u001b[0m\u001b[0m\n\u001b[1;32m     22\u001b[0m \u001b[0;34m\u001b[0m\u001b[0m\n\u001b[0;32m---> 23\u001b[0;31m     \u001b[0;32mdef\u001b[0m \u001b[0mpaintEvent\u001b[0m\u001b[0;34m(\u001b[0m\u001b[0mself\u001b[0m\u001b[0;34m,\u001b[0m \u001b[0mevent\u001b[0m\u001b[0;34m)\u001b[0m\u001b[0;34m:\u001b[0m\u001b[0;34m\u001b[0m\u001b[0;34m\u001b[0m\u001b[0m\n\u001b[0m\u001b[1;32m     24\u001b[0m         \"\"\"Copy the image from the Agg canvas to the qt.drawable.\n\u001b[1;32m     25\u001b[0m \u001b[0;34m\u001b[0m\u001b[0m\n",
      "\u001b[0;31mKeyboardInterrupt\u001b[0m: "
     ]
    },
    {
     "name": "stdout",
     "output_type": "stream",
     "text": [
      "[-0.0389305  -0.0486105   0.16965009 -0.02048805]\n",
      "[-0.16137243  0.08915987  0.06315011 -0.3009472 ]\n",
      "[-0.12272655  0.01749146 -0.02034932  0.16437832]\n"
     ]
    }
   ],
   "source": [
    "import math\n",
    "import numpy as np\n",
    "\n",
    "from pydrake.all import (DiagramBuilder, FloatingBaseType,\n",
    "                         LinearQuadraticRegulator, RigidBodyTree,\n",
    "                         Saturation, Simulator, WrapToSystem, SignalLogger)\n",
    "from pydrake.examples.acrobot import (AcrobotInput, AcrobotPlant, AcrobotState)\n",
    "from underactuated import (FindResource, PlanarRigidBodyVisualizer)\n",
    "\n",
    "%matplotlib\n",
    "\n",
    "def UprightState():\n",
    "    state = AcrobotState()\n",
    "    state.set_theta1(0.)\n",
    "    state.set_theta2(0.)\n",
    "    state.set_theta1dot(0.)\n",
    "    state.set_theta2dot(0.)\n",
    "    return state\n",
    "\n",
    "\n",
    "def BalancingLQR():\n",
    "    # Design an LQR controller for stabilizing the Acrobot around the upright.\n",
    "    # Returns a (static) AffineSystem that implements the controller (in\n",
    "    # the original AcrobotState coordinates).\n",
    "\n",
    "    acrobot = AcrobotPlant()\n",
    "    context = acrobot.CreateDefaultContext()\n",
    "\n",
    "    input = AcrobotInput()\n",
    "    input.set_tau(0.)\n",
    "    context.FixInputPort(0, input)\n",
    "\n",
    "    context.get_mutable_continuous_state_vector()\\\n",
    "        .SetFromVector(UprightState().CopyToVector())\n",
    "\n",
    "    Q = np.diag((10., 10., 1., 1.))\n",
    "    R = [1]\n",
    "\n",
    "    return LinearQuadraticRegulator(acrobot, context, Q, R)\n",
    "\n",
    "\n",
    "if __name__ == \"__main__\":\n",
    "    builder = DiagramBuilder()\n",
    "\n",
    "    acrobot = builder.AddSystem(AcrobotPlant())\n",
    "    saturation = builder.AddSystem(Saturation(min_value=[-10],\n",
    "                                              max_value=[10]))\n",
    "    builder.Connect(saturation.get_output_port(0), acrobot.get_input_port(0))\n",
    "    wrapangles = WrapToSystem(4)\n",
    "    wrapangles.set_interval(0, 0, 2.*math.pi)\n",
    "    wrapangles.set_interval(1, -math.pi, math.pi)\n",
    "    wrapto = builder.AddSystem(wrapangles)\n",
    "    builder.Connect(acrobot.get_output_port(0), wrapto.get_input_port(0))\n",
    "    controller = builder.AddSystem(BalancingLQR())\n",
    "    builder.Connect(wrapto.get_output_port(0), controller.get_input_port(0))\n",
    "    builder.Connect(controller.get_output_port(0),\n",
    "                    saturation.get_input_port(0))\n",
    "    \n",
    "\n",
    "    state_logger = builder.AddSystem(SignalLogger(acrobot.get_output_port(0).size()))\n",
    "    act_logger = builder.AddSystem(SignalLogger(controller.get_output_port(0).size()))\n",
    "    builder.Connect(acrobot.get_output_port(0), state_logger.get_input_port(0))\n",
    "    builder.Connect(saturation.get_output_port(0), act_logger.get_input_port(0))\n",
    "\n",
    "\n",
    "    tree = RigidBodyTree(FindResource(\"acrobot/acrobot.urdf\"),\n",
    "                         FloatingBaseType.kFixed)\n",
    "    visualizer = builder.AddSystem(PlanarRigidBodyVisualizer(tree,\n",
    "                                                             xlim=[-4., 4.],\n",
    "                                                             ylim=[-4., 4.]))\n",
    "    builder.Connect(acrobot.get_output_port(0), visualizer.get_input_port(0))\n",
    "\n",
    "    diagram = builder.Build()\n",
    "    simulator = Simulator(diagram)\n",
    "    simulator.set_target_realtime_rate(1.0)\n",
    "    simulator.set_publish_every_time_step(False)\n",
    "    context = simulator.get_mutable_context()\n",
    "\n",
    "    for i in range(1):\n",
    "        context.SetTime(0.)\n",
    "        init_pert = 0.1*np.random.randn(4,)\n",
    "        print(init_pert)\n",
    "        context.SetContinuousState(UprightState().CopyToVector() + init_pert)\n",
    "        simulator.Initialize()\n",
    "        simulator.AdvanceTo(5)"
   ]
  },
  {
   "cell_type": "code",
   "execution_count": 6,
   "metadata": {},
   "outputs": [
    {
     "data": {
      "text/plain": [
       "False"
      ]
     },
     "execution_count": 6,
     "metadata": {},
     "output_type": "execute_result"
    }
   ],
   "source": [
    "np.isnan(state_logger.data()).any()"
   ]
  },
  {
   "cell_type": "code",
   "execution_count": null,
   "metadata": {},
   "outputs": [],
   "source": []
  }
 ],
 "metadata": {
  "kernelspec": {
   "display_name": "Drake (3.6)",
   "language": "python",
   "name": "drake"
  },
  "language_info": {
   "codemirror_mode": {
    "name": "ipython",
    "version": 3
   },
   "file_extension": ".py",
   "mimetype": "text/x-python",
   "name": "python",
   "nbconvert_exporter": "python",
   "pygments_lexer": "ipython3",
   "version": "3.6.9"
  }
 },
 "nbformat": 4,
 "nbformat_minor": 4
}

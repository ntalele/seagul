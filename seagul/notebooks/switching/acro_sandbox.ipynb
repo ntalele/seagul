{
 "cells": [
  {
   "cell_type": "code",
   "execution_count": 19,
   "metadata": {},
   "outputs": [],
   "source": [
    "import seagul.envs\n",
    "import gym\n",
    "\n",
    "env = gym.make('su_acro_drake-v0')\n",
    "\n",
    "import numpy as np\n",
    "from numpy import pi\n",
    "import matplotlib.pyplot as plt\n",
    "import torch\n",
    "\n",
    "from itertools import product\n",
    "from multiprocessing import Pool\n",
    "import time"
   ]
  },
  {
   "cell_type": "code",
   "execution_count": 25,
   "metadata": {},
   "outputs": [
    {
     "name": "stdout",
     "output_type": "stream",
     "text": [
      "total 1.9515795707702637\n",
      "[30000.]\n"
     ]
    },
    {
     "data": {
      "image/png": "[encoded data removed]",
      "text/plain": [
       "<Figure size 432x288 with 1 Axes>"
      ]
     },
     "metadata": {
      "needs_background": "light"
     },
     "output_type": "display_data"
    },
    {
     "data": {
      "image/png": "[encoded data removed]",
      "text/plain": [
       "<Figure size 432x288 with 1 Axes>"
      ]
     },
     "metadata": {
      "needs_background": "light"
     },
     "output_type": "display_data"
    },
    {
     "data": {
      "image/png": "[encoded data removed]",
      "text/plain": [
       "<Figure size 432x288 with 1 Axes>"
      ]
     },
     "metadata": {
      "needs_background": "light"
     },
     "output_type": "display_data"
    }
   ],
   "source": [
    "max_torque = 75\n",
    "\n",
    "config = {\"init_state\" : [pi,0,0,0], \"max_torque\" : max_torque, \n",
    "    \"init_state_weights\" : [0,0,0,0], \"dt\" : .001,\n",
    "    \"fixed_step\" : True, \"int_accuracy\" : .001\n",
    "    }\n",
    "\n",
    "env = gym.make('su_acro_drake-v0', **config)\n",
    "env.num_steps = 15000\n",
    "\n",
    "def control(q):\n",
    "    #k = np.array([[278.44223126, 112.29125985, 119.72457377,  56.82824017]])\n",
    "    #k = np.array([83.00702476, 27.2860448,  15.03836564,  3.12866625])\n",
    "    #k = np.array([[100.48797281,  31.27961142,  18.25064425,   3.33078585]])\n",
    "    k =  np.array([1316.85, 555.42, 570.33, 272.58])\n",
    "    #k = np.array([[266.08724059, 107.34926358, 114.95036444,  54.31747445]])\n",
    "    #k = np.array([[20968.62606848,  3315.72482626,  3671.02961993,    32.92386574]])\n",
    "    #k =  np.array([1316.85, 555.42, 570.33, 272.58])\n",
    "    #k = np.array([204.06707408,  59.21086694,  37.41566423,   5.29518038])\n",
    "\n",
    "    #k = np.array([[10.44, 3.561, 2.778, 1.301]])\n",
    "    #k = \n",
    "    #import ipdb; ipdb.set_trace()\n",
    "    gs = np.array([pi,0,0,0])\n",
    "    #return 0\n",
    "    return -k.dot(gs - q)\n",
    "\n",
    "action_hist = np.zeros((env.num_steps,1))\n",
    "state_hist = np.zeros((env.num_steps, env.observation_space.shape[0]))\n",
    "reward_hist = np.zeros((env.num_steps, 1))\n",
    "obs = env.reset() \n",
    "\n",
    "import time\n",
    "start = time.time()\n",
    "for i in range(env.num_steps):\n",
    "        actions = np.clip(np.asarray(control(obs)),-max_torque, max_torque)\n",
    "        obs, reward, done, _ = env.step(actions)\n",
    "        action_hist[i,:] = np.copy(actions)\n",
    "        state_hist[i,:] = np.copy(obs)\n",
    "        reward_hist[i,:] = np.copy(reward)\n",
    "       # if done:\n",
    "       #     break\n",
    "            \n",
    "print(\"total\", time.time() - start)\n",
    "\n",
    "plt.plot(action_hist)\n",
    "plt.title('action hist')\n",
    "\n",
    "plt.figure()\n",
    "plt.plot(reward_hist)\n",
    "plt.title('reward hist')\n",
    "\n",
    "plt.figure()\n",
    "plt.plot(state_hist)\n",
    "plt.legend(['th1', 'th2', 'th3', 'th4'])\n",
    "\n",
    "\n",
    "print(sum(reward_hist))"
   ]
  },
  {
   "cell_type": "code",
   "execution_count": 21,
   "metadata": {},
   "outputs": [
    {
     "ename": "IndexError",
     "evalue": "index 1600 is out of bounds for size 1600",
     "output_type": "error",
     "traceback": [
      "\u001b[0;31m---------------------------------------------------------------------------\u001b[0m",
      "\u001b[0;31mIndexError\u001b[0m                                Traceback (most recent call last)",
      "\u001b[0;32m<ipython-input-21-dbae2dd5e672>\u001b[0m in \u001b[0;36m<module>\u001b[0;34m\u001b[0m\n\u001b[1;32m     32\u001b[0m \u001b[0mpool\u001b[0m \u001b[0;34m=\u001b[0m \u001b[0mPool\u001b[0m\u001b[0;34m(\u001b[0m\u001b[0;34m)\u001b[0m \u001b[0;31m#defaults to number of available CPU's\u001b[0m\u001b[0;34m\u001b[0m\u001b[0;34m\u001b[0m\u001b[0m\n\u001b[1;32m     33\u001b[0m \u001b[0;32mfor\u001b[0m \u001b[0mind\u001b[0m\u001b[0;34m,\u001b[0m \u001b[0mres\u001b[0m \u001b[0;32min\u001b[0m \u001b[0menumerate\u001b[0m\u001b[0;34m(\u001b[0m\u001b[0mpool\u001b[0m\u001b[0;34m.\u001b[0m\u001b[0mimap\u001b[0m\u001b[0;34m(\u001b[0m\u001b[0mdo_rollout\u001b[0m\u001b[0;34m,\u001b[0m \u001b[0mproduct\u001b[0m\u001b[0;34m(\u001b[0m\u001b[0mth1_vals\u001b[0m\u001b[0;34m,\u001b[0m \u001b[0mth2_vals\u001b[0m\u001b[0;34m)\u001b[0m\u001b[0;34m)\u001b[0m\u001b[0;34m,\u001b[0m\u001b[0;36m1\u001b[0m\u001b[0;34m)\u001b[0m\u001b[0;34m:\u001b[0m\u001b[0;34m\u001b[0m\u001b[0;34m\u001b[0m\u001b[0m\n\u001b[0;32m---> 34\u001b[0;31m         \u001b[0mresults\u001b[0m\u001b[0;34m.\u001b[0m\u001b[0mflat\u001b[0m\u001b[0;34m[\u001b[0m\u001b[0mind\u001b[0m\u001b[0;34m]\u001b[0m \u001b[0;34m=\u001b[0m \u001b[0mres\u001b[0m \u001b[0;34m>\u001b[0m \u001b[0menv\u001b[0m\u001b[0;34m.\u001b[0m\u001b[0mnum_steps\u001b[0m\u001b[0;34m*\u001b[0m\u001b[0;36m2\u001b[0m\u001b[0;34m-\u001b[0m\u001b[0;36m50\u001b[0m\u001b[0;34m\u001b[0m\u001b[0;34m\u001b[0m\u001b[0m\n\u001b[0m\u001b[1;32m     35\u001b[0m         \u001b[0mrewards\u001b[0m\u001b[0;34m.\u001b[0m\u001b[0mflat\u001b[0m\u001b[0;34m[\u001b[0m\u001b[0mind\u001b[0m\u001b[0;34m]\u001b[0m \u001b[0;34m=\u001b[0m \u001b[0mres\u001b[0m\u001b[0;34m\u001b[0m\u001b[0;34m\u001b[0m\u001b[0m\n\u001b[1;32m     36\u001b[0m \u001b[0;34m\u001b[0m\u001b[0m\n",
      "\u001b[0;31mIndexError\u001b[0m: index 1600 is out of bounds for size 1600"
     ]
    }
   ],
   "source": [
    "env = gym.make('su_acro_drake-v0',**config)\n",
    "env.num_steps = 500\n",
    "\n",
    "action_hist = np.zeros((env.num_steps,1))\n",
    "state_hist = np.zeros((env.num_steps, env.observation_space.shape[0]))\n",
    "reward_hist = np.zeros((env.num_steps, 1))\n",
    "obs = env.reset(init_vec = [.01,0,0,0]) \n",
    "\n",
    "th1_min = pi-1; th1_max = pi+1; num_th1 = 40 \n",
    "th1_vals = np.linspace(th1_min, th1_max, num_th1)\n",
    "\n",
    "th2_min = -2; th2_max = 2; num_th2 = 40\n",
    "th2_vals = np.linspace(th2_min, th2_max, num_th2)\n",
    "\n",
    "results = np.zeros((th1_vals.size, th2_vals.size, th1dot_vals.size, th2dot_vals.size))\n",
    "rewards = np.zeros((th1_vals.size, th2_vals.size, th1dot_vals.size, th2dot_vals.size))\n",
    "\n",
    "import time\n",
    "start = time.time()\n",
    "\n",
    "def do_rollout(th):\n",
    "    th1,th2 = th\n",
    "    obs = env.reset(init_vec = [th1, th2, 0, 0])\n",
    "    reward_hist = []\n",
    "    for i in range(env.num_steps):\n",
    "        actions = np.clip(np.asarray(control(obs)), -max_torque, max_torque)\n",
    "        obs, reward, done, _ = env.step(actions)\n",
    "        reward_hist.append(np.copy(reward))\n",
    "        \n",
    "    return sum(reward_hist)\n",
    "\n",
    "pool = Pool() #defaults to number of available CPU's\n",
    "for ind, res in enumerate(pool.imap(do_rollout, product(th1_vals, th2_vals)),1):\n",
    "        results.flat[ind] = res > env.num_steps*2-50\n",
    "        rewards.flat[ind] = res\n",
    "       \n",
    "end = time.time()\n",
    "print(end - start)\n",
    "\n",
    "for i,ival in enumerate(results[:,:,0,0]):\n",
    "    for j,val in enumerate(ival):\n",
    "            #plt.plot(th1_vals[i], slope*(th1_vals[i]-pi), 'o', color='blue')\n",
    "\n",
    "            if val:\n",
    "                plt.plot(th1_vals[i], th2_vals[j], 'o', color = 'green')\n",
    "            else:\n",
    "                plt.plot(th1_vals[i], th2_vals[j], 'o', color='red')"
   ]
  },
  {
   "cell_type": "code",
   "execution_count": 4,
   "metadata": {},
   "outputs": [
    {
     "name": "stdout",
     "output_type": "stream",
     "text": [
      "23.75457739830017\n"
     ]
    },
    {
     "data": {
      "image/png": "[encoded data removed]",
      "text/plain": [
       "<Figure size 432x288 with 1 Axes>"
      ]
     },
     "metadata": {
      "needs_background": "light"
     },
     "output_type": "display_data"
    }
   ],
   "source": [
    "env = gym.make('su_acro_drake-v0', **config)\n",
    "env.num_steps = 500\n",
    "\n",
    "action_hist = np.zeros((env.num_steps,1))\n",
    "state_hist = np.zeros((env.num_steps, env.observation_space.shape[0]))\n",
    "reward_hist = np.zeros((env.num_steps, 1))\n",
    "\n",
    "th1dot_min = -5; th1dot_max = 5; num_th1dot = 20\n",
    "th1dot_vals = np.linspace(th1dot_min, th1dot_max, num_th1dot)\n",
    "\n",
    "th2dot_min = -10; th2dot_max = 10; num_th2dot = 20\n",
    "th2dot_vals = np.linspace(th2dot_min, th2dot_max, num_th2dot)\n",
    "\n",
    "results4 = np.zeros((th1dot_vals.size, th2dot_vals.size))\n",
    "rewards = np.zeros((th1dot_vals.size, th2dot_vals.size))\n",
    "\n",
    "import time\n",
    "start = time.time()\n",
    "\n",
    "for th1dot_i, th1dot in enumerate(th1dot_vals):\n",
    "        for th2dot_i, th2dot in enumerate(th2dot_vals):\n",
    "            obs = env.reset(init_vec = [pi, 0, th1dot, th2dot])\n",
    "            for i in range(env.num_steps):\n",
    "                actions = np.clip(np.asarray(control(obs)), -max_torque,max_torque)\n",
    "                obs, reward, done, _ = env.step(actions)\n",
    "                action_hist[i,:] = np.copy(actions)\n",
    "                state_hist[i,:] = np.copy(obs)\n",
    "                reward_hist[i,:] = np.copy(reward)\n",
    "\n",
    "            results4[th1dot_i, th2dot_i] = sum(reward_hist) > env.num_steps*2-50\n",
    "            rewards[th1dot_i, th2dot_i] = sum(reward_hist)\n",
    "\n",
    "end = time.time()\n",
    "print(end - start)\n",
    "\n",
    "for i,ival in enumerate(results4):\n",
    "    for j,val in enumerate(ival):\n",
    "            #plt.plot(th1_vals[i], slope*(th1_vals[i]-pi), 'o', color='blue')\n",
    "            if val:\n",
    "                plt.plot(th1dot_vals[i], th2dot_vals[j], 'o', color = 'green')\n",
    "            else:\n",
    "                plt.plot(th1dot_vals[i], th2dot_vals[j], 'o', color='red')"
   ]
  },
  {
   "cell_type": "code",
   "execution_count": 8,
   "metadata": {},
   "outputs": [],
   "source": [
    "th1_min = pi-1; th1_max = pi+1; num_th1 = 40\n",
    "th1_vals = np.linspace(th1_min, th1_max, num_th1)\n",
    "\n",
    "th2_min = -2; th2_max = 2; num_th2 = 40\n",
    "th2_vals = np.linspace(th2_min, th2_max, num_th2)\n",
    "\n",
    "th1dot_min = -.5; th1dot_max = .5; num_th1dot = 1\n",
    "th1dot_vals = np.linspace(th1dot_min, th1dot_max, num_th1dot)\n",
    "\n",
    "th2dot_min = -.5; th2dot_max = .5; num_th2dot = 1\n",
    "th2dot_vals = np.linspace(th2dot_min, th2dot_max, num_th2dot)\n",
    "\n",
    "results3 = np.zeros((th1_vals.size, th2_vals.size, th1dot_vals.size, th2dot_vals.size))\n",
    "\n",
    "for th1_i, th1 in enumerate(th1_vals):\n",
    "    for th2_i, th2 in enumerate(th2_vals):\n",
    "        for th1d_i, th2d in enumerate(th1dot_vals):\n",
    "            for th2d_i, th2d in enumerate(th2dot_vals):\n",
    "                results3[th1_i, th2_i, th1d_i, th2d_i] = 0"
   ]
  },
  {
   "cell_type": "code",
   "execution_count": 47,
   "metadata": {},
   "outputs": [
    {
     "name": "stdout",
     "output_type": "stream",
     "text": [
      "20.949931859970093\n"
     ]
    }
   ],
   "source": [
    "env = gym.make('su_acro_drake-v0', **config)\n",
    "env.num_steps = 150\n",
    "slope = -2.3636363636363638 #empirically determined from the above\n",
    "\n",
    "action_hist = np.zeros((env.num_steps,1))\n",
    "state_hist = np.zeros((env.num_steps, env.observation_space.shape[0]))\n",
    "reward_hist = np.zeros((env.num_steps, 1))\n",
    "\n",
    "th1_min = pi-.5; th1_max = pi+.5; num_th1 = 5\n",
    "th1_vals = np.linspace(th1_min, th1_max, num_th1)\n",
    "\n",
    "th1dot_min = -5; th1dot_max = 5; num_th1dot = 15\n",
    "th1dot_vals = np.linspace(th1dot_min, th1dot_max, num_th1dot)\n",
    "\n",
    "th2dot_min = -15; th2dot_max = 15; num_th2dot = 15\n",
    "th2dot_vals = np.linspace(th2dot_min, th2dot_max, num_th2dot)\n",
    "\n",
    "results2 = np.zeros((th1_vals.size, 1, th1dot_vals.size, th2dot_vals.size))\n",
    "rewards = np.zeros((th1_vals.size, 1, th1dot_vals.size, th2dot_vals.size))\n",
    "\n",
    "import time\n",
    "start = time.time()\n",
    "\n",
    "for th1_i, th1 in enumerate(th1_vals):\n",
    "    for th1dot_i, th1dot in enumerate(th1dot_vals):\n",
    "            for th2dot_i, th2dot in enumerate(th2dot_vals):\n",
    "                obs = env.reset(init_vec = [th1, slope*(th1-pi), th1dot, th2dot])\n",
    "                for i in range(env.num_steps):\n",
    "                    actions = np.clip(np.asarray(control(obs)), -max_torque,max_torque)\n",
    "                    obs, reward, done, _ = env.step(actions)\n",
    "                    action_hist[i,:] = np.copy(actions)\n",
    "                    state_hist[i,:] = np.copy(obs)\n",
    "                    reward_hist[i,:] = np.copy(reward)\n",
    "\n",
    "                results2[th1_i, 0, th1dot_i, th2dot_i] = sum(reward_hist) > 250\n",
    "                rewards[th1_i, 0, th1dot_i, th2dot_i] = sum(reward_hist)\n",
    "\n",
    "end = time.time()\n",
    "print(end - start)\n",
    "\n"
   ]
  },
  {
   "cell_type": "code",
   "execution_count": null,
   "metadata": {},
   "outputs": [],
   "source": [
    "fig, axs = plt.subplots(th1dot_vals.shape[0], th2dot_vals.shape[0], figsize =(15,15))\n",
    "\n",
    "# Gross\n",
    "for th1di ,th1d in enumerate(th1dot_vals):\n",
    "    for th2di, th2d in enumerate(th2dot_vals):\n",
    "        axs[th1di, th2di].set_title(str(th1d) + \" \" + str(th2d))\n",
    "        for i,ival in enumerate(results2[:,:,th1di,th2di]):\n",
    "            for j,val in enumerate(ival):\n",
    "                if val:\n",
    "                    axs[th1di, th2di].plot(th1_vals[i], slope*(th1_vals[i]-pi), 'o', color = 'green')\n",
    "                else:\n",
    "                     axs[th1di, th2di].plot(th1_vals[i], slope*(th1_vals[i]-pi), 'o', color='red')\n",
    "          "
   ]
  },
  {
   "cell_type": "code",
   "execution_count": null,
   "metadata": {},
   "outputs": [],
   "source": [
    "#X = []\n",
    "#Y = []\n",
    "\n",
    "for result in results:\n",
    "    for i,ival in enumerate(result):\n",
    "        for j,jval in enumerate(ival):\n",
    "            for k,kval in enumerate(jval):\n",
    "                X.append((th1_vals[i], slope*(th1_vals[i]-pi), th1dot_vals[j], th2dot_vals[k]))\n",
    "                Y.append(kval)\n",
    "                \n",
    "                \n",
    "X = []\n",
    "Y = []\n",
    "\n",
    "count = 0\n",
    "for i,result in enumerate(results):\n",
    "    for j,jval in enumerate(result):    \n",
    "        count += 1\n",
    "        X.append((th1_vals[i], th2_vals[j], 0, 0))\n",
    "        Y.append(jval)"
   ]
  },
  {
   "cell_type": "code",
   "execution_count": null,
   "metadata": {},
   "outputs": [],
   "source": [
    "import pickle\n",
    "pickle.dump(X, open('./warm/X_zv_128', 'wb'))\n",
    "pickle.dump(Y, open('./warm/Y_zv_128', 'wb'))"
   ]
  },
  {
   "cell_type": "code",
   "execution_count": null,
   "metadata": {},
   "outputs": [],
   "source": [
    "env = gym.make('su_acro_drake-v0')\n",
    "env.num_steps = 500\n",
    "\n",
    "def control(q):\n",
    "    k =  np.array([1316.85, 555.42, 570.33, 272.58])\n",
    "    #k = np.array([[278.44223126, 112.29125985, 119.72457377,  56.82824017]])\n",
    "    #k = np.array([[10.44, 3.561, 2.778, 1.301]])\n",
    "    #import ipdb; ipdb.set_trace()\n",
    "    gs = np.array([pi,0,0,0])\n",
    "    #return 0\n",
    "    return -k.dot(gs - q)\n",
    "\n",
    "action_hist = np.zeros((env.num_steps,1))\n",
    "state_hist = np.zeros((env.num_steps, env.observation_space.shape[0]))\n",
    "reward_hist = np.zeros((env.num_steps, 1))\n",
    "obs = env.reset(init_vec = [0,0,0,0]) \n",
    "\n",
    "th1_min = 0; th1_max = 2*pi; num_th1 = 64\n",
    "th1_vals = np.linspace(th1_min, th1_max, num_th1)\n",
    "\n",
    "th2_min = -pi; th2_max = pi; num_th2 = 64\n",
    "th2_vals = np.linspace(th2_min, th2_max, num_th2)\n",
    "\n",
    "th1dot_min = -1; th1dot_max = 1; num_th1dot = 3\n",
    "th1dot_vals = np.linspace(th1dot_min, th1dot_max, num_th1dot)\n",
    "#th1dot_vals = np.zeros(1)\n",
    "\n",
    "th2dot_min = -1; th2dot_max = 1; num_th2dot = 3\n",
    "th2dot_vals = np.linspace(th2dot_min, th2dot_max, num_th2dot)\n",
    "#th2dot_vals = np.zeros(1)\n",
    "\n",
    "\n",
    "th1_eval_min = pi-1; th1_eval_max = pi+1\n",
    "th2_eval_min = -2; th2_eval_max = 2\n",
    "\n",
    "results = np.zeros((th1_vals.size, th2_vals.size, th1dot_vals.size, th2dot_vals.size))\n",
    "rewards = np.zeros((th1_vals.size, th2_vals.size, th1dot_vals.size, th2dot_vals.size))\n",
    "\n",
    "\n",
    "import time\n",
    "start = time.time()\n",
    "\n",
    "in_count = out_count = 0\n",
    "for th1_i, th1 in enumerate(th1_vals):\n",
    "    for th2_i, th2 in enumerate(th2_vals):\n",
    "        for th1dot in th1dot_vals:\n",
    "            for th2dot in th2dot_vals:\n",
    "                in_count += 1\n",
    "                if th1_eval_min < th1 < th1_eval_max and th2_eval_min < th2 < th2_eval_max and th1dot == 0 and th2dot == 0:\n",
    "                    obs = env.reset(init_vec = [th1, th2, 0, 0])\n",
    "                    for i in range(env.num_steps):\n",
    "                        actions = np.clip(np.asarray(control(obs)), -25, 25)\n",
    "                        obs, reward, done, _ = env.step(actions)\n",
    "                        action_hist[i,:] = np.copy(actions)\n",
    "                        state_hist[i,:] = np.copy(obs)\n",
    "                        reward_hist[i,:] = np.copy(reward)\n",
    "\n",
    "\n",
    "                    results[th1_i, th2_i,0,0] = sum(reward_hist) > 900\n",
    "                    rewards[th1_i, th2_i,0,0] = sum(reward_hist)\n",
    "                else:\n",
    "                    out_count += 1\n",
    "                    results[th1_i, th2_i,0,0] = 0.\n",
    "                    rewards[th1_i, th2_i,0,0] = 0.\n",
    "\n",
    "\n",
    "end = time.time()\n",
    "print(end - start)\n",
    "print(in_count)\n",
    "print(out_count)"
   ]
  },
  {
   "cell_type": "code",
   "execution_count": null,
   "metadata": {},
   "outputs": [],
   "source": []
  }
 ],
 "metadata": {
  "kernelspec": {
   "display_name": "Drake (3.6)",
   "language": "python",
   "name": "drake"
  },
  "language_info": {
   "codemirror_mode": {
    "name": "ipython",
    "version": 3
   },
   "file_extension": ".py",
   "mimetype": "text/x-python",
   "name": "python",
   "nbconvert_exporter": "python",
   "pygments_lexer": "ipython3",
   "version": "3.6.10"
  }
 },
 "nbformat": 4,
 "nbformat_minor": 4
}

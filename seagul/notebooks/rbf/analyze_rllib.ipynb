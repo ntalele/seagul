{
 "cells": [
  {
   "cell_type": "code",
   "execution_count": 1,
   "metadata": {},
   "outputs": [
    {
     "name": "stderr",
     "output_type": "stream",
     "text": [
      "Using TensorFlow backend.\n"
     ]
    }
   ],
   "source": [
    "import pandas as pd\n",
    "import matplotlib.pyplot as plt\n",
    "import json\n",
    "import ray\n",
    "import ray.rllib.agents.ppo as ppo\n",
    "import ray.rllib.agents.ddpg as ddpg\n",
    "import ray.rllib.agents.sac as sac\n",
    "import seagul.envs\n",
    "import numpy as np\n",
    "from numpy import pi\n",
    "import gym\n",
    "import pybullet_envs\n",
    "from ray.rllib.models import ModelCatalog\n",
    "\n",
    "from seagul.rllib.rllib_with_rbf.rbf_net import RBFModel1, RBFModel2\n",
    "from seagul.rllib.rllib_with_rbf.mlp_net import MyKerasModel1, MyKerasModel2"
   ]
  },
  {
   "cell_type": "code",
   "execution_count": 2,
   "metadata": {},
   "outputs": [],
   "source": [
    "# !! modify these as appropiate\n",
    "\n",
    "algos = {\n",
    "  \"1\": \"SAC\",\n",
    "  \"2\": \"Mustang\",\n",
    "  \"3\": 1964\n",
    "}[SAC, PPO]\n",
    "\n",
    "home_path = '/home/grabka//Documents/seagul/seagul/rllib/rllib_with_rbf/data/'\n",
    "\n",
    "checkpoint_path = home_path + \\\n",
    "\"/Documents/seagul/seagul/rllib/rllib_with_rbf/data/PPO/PPO_HumanoidBulletEnv-v0_mlp_2_64_2020-02-06_13-32-020ir9etn8/checkpoint_119/checkpoint-119\""
   ]
  },
  {
   "cell_type": "code",
   "execution_count": 3,
   "metadata": {},
   "outputs": [],
   "source": [
    "# Some delightfully ugly python to infer where everything else is...\n",
    "csv_path = '/'.join(checkpoint_path.split('/')[:-2]) + '/progress.csv'\n",
    "save_name = checkpoint_path.split('/')[-3]\n",
    "expr_file = \"/experiment_state-\" + save_name[-27:-8] + \".json\"\n",
    "expr_path = '/'.join(checkpoint_path.split('/')[:-3]) + expr_file\n",
    "\n",
    "expr_data = json.load(open(expr_path))\n",
    "config = expr_data['checkpoints'][-1]['config']\n",
    "env_name = config['env']\n",
    "\n",
    "\n",
    "df = pd.read_csv(csv_path)\n",
    "#df"
   ]
  },
  {
   "cell_type": "code",
   "execution_count": 4,
   "metadata": {},
   "outputs": [
    {
     "data": {
      "text/plain": [
       "[<matplotlib.lines.Line2D at 0x7fa5e1936828>]"
      ]
     },
     "execution_count": 4,
     "metadata": {},
     "output_type": "execute_result"
    },
    {
     "data": {
      "image/png": "[encoded data removed]",
      "text/plain": [
       "<Figure size 432x288 with 1 Axes>"
      ]
     },
     "metadata": {
      "needs_background": "light"
     },
     "output_type": "display_data"
    }
   ],
   "source": [
    "plt.plot(df['episode_reward_mean'])"
   ]
  },
  {
   "cell_type": "code",
   "execution_count": 6,
   "metadata": {},
   "outputs": [
    {
     "name": "stderr",
     "output_type": "stream",
     "text": [
      "2020-02-06 15:06:34,617\tWARNING services.py:592 -- setpgrp failed, processes may not be cleaned up properly: [Errno 1] Operation not permitted.\n",
      "2020-02-06 15:06:34,618\tINFO resource_spec.py:212 -- Starting Ray with 9.91 GiB memory available for workers and up to 4.96 GiB for objects. You can adjust these settings with ray.init(memory=<bytes>, object_store_memory=<bytes>).\n",
      "2020-02-06 15:06:34,736\tWARNING services.py:856 -- Redis failed to start, retrying now.\n",
      "2020-02-06 15:06:35,004\tWARNING services.py:1080 -- Failed to start the dashboard. The dashboard requires Python 3 as well as 'pip install aiohttp psutil setproctitle grpcio'.\n",
      "2020-02-06 15:06:35,338\tINFO trainer.py:370 -- Tip: set 'eager': true or the --eager flag to enable TensorFlow eager execution\n",
      "2020-02-06 15:06:35,363\tINFO trainer.py:517 -- Current log_level is WARN. For more information, set 'log_level': 'INFO' / 'DEBUG' or use the -v and -vv flags.\n",
      "2020-02-06 15:06:41,211\tWARNING util.py:41 -- Install gputil for GPU system monitoring.\n",
      "2020-02-06 15:06:41,344\tWARNING trainable.py:210 -- Getting current IP.\n",
      "2020-02-06 15:06:41,352\tINFO trainable.py:416 -- Restored on 128.111.57.123 from checkpoint: /home/grabka//Documents/seagul/seagul/rllib/rllib_with_rbf/data/PPO/PPO_HumanoidBulletEnv-v0_mlp_2_64_2020-02-06_13-32-020ir9etn8/checkpoint_119/checkpoint-119\n",
      "2020-02-06 15:06:41,368\tINFO trainable.py:423 -- Current state after restoring: {'_iteration': 119, '_timesteps_total': 38149665, '_time_total': 5524.3314909935, '_episodes_total': 1131142}\n"
     ]
    },
    {
     "name": "stdout",
     "output_type": "stream",
     "text": [
      "\u001b[2m\u001b[36m(pid=9243)\u001b[0m Using TensorFlow backend.\n",
      "\u001b[2m\u001b[36m(pid=9231)\u001b[0m Using TensorFlow backend.\n",
      "\u001b[2m\u001b[36m(pid=9242)\u001b[0m Using TensorFlow backend.\n",
      "\u001b[2m\u001b[36m(pid=9251)\u001b[0m Using TensorFlow backend.\n",
      "\u001b[2m\u001b[36m(pid=9235)\u001b[0m Using TensorFlow backend.\n",
      "\u001b[2m\u001b[36m(pid=9248)\u001b[0m Using TensorFlow backend.\n",
      "\u001b[2m\u001b[36m(pid=9249)\u001b[0m Using TensorFlow backend.\n",
      "\u001b[2m\u001b[36m(pid=9240)\u001b[0m Using TensorFlow backend.\n",
      "\u001b[2m\u001b[36m(pid=9239)\u001b[0m Using TensorFlow backend.\n",
      "\u001b[2m\u001b[36m(pid=9244)\u001b[0m Using TensorFlow backend.\n",
      "\u001b[2m\u001b[36m(pid=9233)\u001b[0m Using TensorFlow backend.\n",
      "\u001b[2m\u001b[36m(pid=9250)\u001b[0m Using TensorFlow backend.\n",
      "\u001b[2m\u001b[36m(pid=9238)\u001b[0m Using TensorFlow backend.\n",
      "\u001b[2m\u001b[36m(pid=9232)\u001b[0m Using TensorFlow backend.\n",
      "\u001b[2m\u001b[36m(pid=9229)\u001b[0m Using TensorFlow backend.\n",
      "\u001b[2m\u001b[36m(pid=9234)\u001b[0m Using TensorFlow backend.\n",
      "\u001b[2m\u001b[36m(pid=9247)\u001b[0m Using TensorFlow backend.\n",
      "\u001b[2m\u001b[36m(pid=9246)\u001b[0m Using TensorFlow backend.\n",
      "\u001b[2m\u001b[36m(pid=9245)\u001b[0m Using TensorFlow backend.\n",
      "\u001b[2m\u001b[36m(pid=9237)\u001b[0m Using TensorFlow backend.\n",
      "\u001b[2m\u001b[36m(pid=9236)\u001b[0m Using TensorFlow backend.\n",
      "\u001b[2m\u001b[36m(pid=9230)\u001b[0m Using TensorFlow backend.\n",
      "\u001b[2m\u001b[36m(pid=9241)\u001b[0m Using TensorFlow backend.\n"
     ]
    }
   ],
   "source": [
    "ray.shutdown()\n",
    "ray.init()\n",
    "ModelCatalog.register_custom_model(\"rbf\", RBFModel1)\n",
    "ModelCatalog.register_custom_model(\"rbf_2\", RBFModel2)\n",
    "ModelCatalog.register_custom_model(\"mlp_1_256\", MyKerasModel1)\n",
    "ModelCatalog.register_custom_model(\"mlp_2_64\", MyKerasModel2)\n",
    "\n",
    "# !! change this line to reflect the algorithm you used\n",
    "trainer = ppo.PPOTrainer(config)#, config['env_name'])\n",
    "#trainer = ddpg.DDPGTrainer(config)\n",
    "#trainer = sac.SACTrainer(config)\n",
    "trainer.restore(checkpoint_path)"
   ]
  },
  {
   "cell_type": "code",
   "execution_count": 6,
   "metadata": {},
   "outputs": [],
   "source": [
    "import gym\n",
    "import numpy as np\n",
    "import matplotlib.pyplot as plt\n",
    "import random\n",
    "import tensorflow as tf\n",
    "import pybullet_envs\n",
    "%matplotlib inline\n",
    "\n",
    "#env = gym.make(env_name)\n",
    "#env.unwrapped.reset_model = det_reset_model\n",
    "\n",
    "# !! this needs to reflect the environemnt you trained in\n",
    "#env = gym.make(\"Pendulum-v0\")\n",
    "env = gym.make(\"Walker2DBulletEnv-v0\", render=True)"
   ]
  },
  {
   "cell_type": "code",
   "execution_count": null,
   "metadata": {},
   "outputs": [],
   "source": [
    "env._max_episode_steps = 10000\n",
    "obs = env.reset()\n",
    "\n",
    "\n",
    "\n",
    "action_hist = []\n",
    "m_act_hist = []\n",
    "state_hist  = []\n",
    "obs_hist = []\n",
    "reward_hist = []\n",
    "\n",
    "done = False\n",
    "for t in range(10000):\n",
    "    # for some algorithms you can get the sample mean out, need to change the value on the index to match your env for now\n",
    "    # mean_actions = out_dict['behaviour_logits'][:17]\n",
    "    # actions = trainer.compute_action(obs.flatten())\n",
    "    sampled_actions, _ , out_dict = trainer.compute_action(obs.flatten(),full_fetch=True)\n",
    "    \n",
    "    actions = sampled_actions\n",
    "    \n",
    "    obs, reward, done, _ = env.step(np.asarray(actions))\n",
    "    \n",
    "    # !! uncomment to render\n",
    "    env.render()\n",
    "    \n",
    "    action_hist.append(np.copy(actions))\n",
    "    obs_hist.append(np.copy(obs))\n",
    "    reward_hist.append(np.copy(reward))\n",
    "\n",
    "print(sum(reward_hist))\n",
    "print((obs_hist))\n",
    "#plt.plot(action_hist)\n",
    "#plt.figure()\n",
    "#plt.figure()\n",
    "#plt.plot(obs_hist)\n",
    "#plt.figure()"
   ]
  },
  {
   "cell_type": "code",
   "execution_count": null,
   "metadata": {},
   "outputs": [],
   "source": [
    "# Reminder that the bahavior logits that come out are the mean and logstd (not log mean, despite the name logit)\n",
    "trainer.compute_action(obs, full_fetch=True)"
   ]
  },
  {
   "cell_type": "code",
   "execution_count": null,
   "metadata": {},
   "outputs": [],
   "source": []
  }
 ],
 "metadata": {
  "kernelspec": {
   "display_name": "Python 3",
   "language": "python",
   "name": "python3"
  },
  "language_info": {
   "codemirror_mode": {
    "name": "ipython",
    "version": 3
   },
   "file_extension": ".py",
   "mimetype": "text/x-python",
   "name": "python",
   "nbconvert_exporter": "python",
   "pygments_lexer": "ipython3",
   "version": "3.6.9"
  }
 },
 "nbformat": 4,
 "nbformat_minor": 4
}

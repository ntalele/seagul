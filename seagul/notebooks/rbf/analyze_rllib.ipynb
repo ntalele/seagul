{
 "cells": [
  {
   "cell_type": "code",
   "execution_count": 19,
   "metadata": {},
   "outputs": [],
   "source": [
    "import pandas as pd\n",
    "import matplotlib.pyplot as plt\n",
    "import json\n",
    "import ray\n",
    "import ray.rllib.agents.ppo as ppo\n",
    "import ray.rllib.agents.ddpg as ddpg\n",
    "import ray.rllib.agents.sac as sac\n",
    "import seagul.envs\n",
    "import numpy as np\n",
    "from numpy import pi\n",
    "import gym\n",
    "import pybullet_envs\n",
    "from ray.rllib.models import ModelCatalog\n",
    "\n",
    "from seagul.rllib.rllib_with_rbf.rbf_net import RBFModel1, RBFModel2\n",
    "from seagul.rllib.rllib_with_rbf.mlp_net import MyKerasModel1, MyKerasModel2"
   ]
  },
  {
   "cell_type": "code",
   "execution_count": 20,
   "metadata": {},
   "outputs": [],
   "source": [
    "# !! modify these as appropiate\n",
    "\n",
    "algos = {\n",
    "    \"0\": \"A2C\",\n",
    "    \"1\": \"A3C\",\n",
    "    \"2\": \"APEX\",\n",
    "    \"3\": \"APPO\",\n",
    "    \"4\": \"DDPG\",\n",
    "    \"5\": \"IMPALA\",\n",
    "    \"6\": \"PG\",\n",
    "    \"7\": \"PPO\",\n",
    "    \"8\": \"SAC\",\n",
    "    \"9\": \"TD3\"\n",
    "}\n",
    "envs = {\n",
    "    \"0\": \"HumanoidBulletEnv-v0\",\n",
    "    \"1\": \"Walker2DBulletEnv-v0\",\n",
    "    \"2\": \"Pendulum-v0\",\n",
    "    \"3\": \"HalfCheetahBulletEnv-v0\"\n",
    "}\n",
    "alg = algos[\"7\"]\n",
    "current_env = envs[\"0\"]\n",
    "checkpoint = \"160\"\n",
    "home_path = '/home/grabka/Documents/seagul/seagul/rllib/rllib_with_rbf/data/remote/'\n",
    "\n",
    "checkpoint_path = home_path + \"checkpoint_\" + checkpoint + \"/checkpoint-\" + checkpoint"
   ]
  },
  {
   "cell_type": "code",
   "execution_count": 21,
   "metadata": {},
   "outputs": [],
   "source": [
    "config = json.load(open(home_path + \"params.json\"))\n",
    "df = pd.read_csv(home_path + \"progress.csv\")"
   ]
  },
  {
   "cell_type": "code",
   "execution_count": 22,
   "metadata": {},
   "outputs": [],
   "source": [
    "# Some delightfully ugly python to infer where everything else is...\n",
    "#csv_path = '/'.join(checkpoint_path.split('/')[:-2]) + '/progress.csv'\n",
    "#save_name = checkpoint_path.split('/')[-3]\n",
    "#expr_file = \"/experiment_state-\" + save_name[-27:-8] + \".json\"\n",
    "#expr_path = '/'.join(checkpoint_path.split('/')[:-3]) + expr_file\n",
    "\n",
    "#expr_data = json.load(open(expr_path))\n",
    "#config = expr_data['checkpoints'][-1]['config']\n",
    "#env_name = config['env']\n",
    "\n",
    "\n",
    "#df = pd.read_csv(csv_path)\n",
    "#df"
   ]
  },
  {
   "cell_type": "code",
   "execution_count": 23,
   "metadata": {},
   "outputs": [
    {
     "data": {
      "text/plain": [
       "[<matplotlib.lines.Line2D at 0x7f65ec21d780>]"
      ]
     },
     "execution_count": 23,
     "metadata": {},
     "output_type": "execute_result"
    },
    {
     "data": {
      "image/png": "[encoded data removed]",
      "text/plain": [
       "<Figure size 432x288 with 1 Axes>"
      ]
     },
     "metadata": {
      "needs_background": "light"
     },
     "output_type": "display_data"
    }
   ],
   "source": [
    "plt.plot(df['episode_reward_mean'])"
   ]
  },
  {
   "cell_type": "code",
   "execution_count": 24,
   "metadata": {},
   "outputs": [
    {
     "name": "stderr",
     "output_type": "stream",
     "text": [
      "2020-02-06 16:13:07,504\tWARNING services.py:597 -- setpgrp failed, processes may not be cleaned up properly: [Errno 1] Operation not permitted.\n",
      "2020-02-06 16:13:07,505\tINFO resource_spec.py:216 -- Starting Ray with 6.1 GiB memory available for workers and up to 3.06 GiB for objects. You can adjust these settings with ray.init(memory=<bytes>, object_store_memory=<bytes>).\n",
      "2020-02-06 16:13:11,852\tWARNING util.py:45 -- Install gputil for GPU system monitoring.\n",
      "2020-02-06 16:13:11,883\tWARNING actor.py:663 -- Actor is garbage collected in the wrong driver. Actor id = ActorID(a1651cc50100), class name = RolloutWorker.\n",
      "2020-02-06 16:13:11,886\tWARNING actor.py:663 -- Actor is garbage collected in the wrong driver. Actor id = ActorID(169cae520100), class name = RolloutWorker.\n",
      "2020-02-06 16:13:11,890\tWARNING actor.py:663 -- Actor is garbage collected in the wrong driver. Actor id = ActorID(8e3e47920100), class name = RolloutWorker.\n",
      "2020-02-06 16:13:11,894\tWARNING actor.py:663 -- Actor is garbage collected in the wrong driver. Actor id = ActorID(2a124e200100), class name = RolloutWorker.\n",
      "2020-02-06 16:13:11,897\tWARNING actor.py:663 -- Actor is garbage collected in the wrong driver. Actor id = ActorID(b944ee5b0100), class name = RolloutWorker.\n",
      "2020-02-06 16:13:11,900\tWARNING actor.py:663 -- Actor is garbage collected in the wrong driver. Actor id = ActorID(0bead1160100), class name = RolloutWorker.\n",
      "2020-02-06 16:13:11,901\tWARNING actor.py:663 -- Actor is garbage collected in the wrong driver. Actor id = ActorID(7dec85640100), class name = RolloutWorker.\n",
      "2020-02-06 16:13:11,904\tWARNING actor.py:663 -- Actor is garbage collected in the wrong driver. Actor id = ActorID(876814b80100), class name = RolloutWorker.\n",
      "2020-02-06 16:13:11,907\tWARNING actor.py:663 -- Actor is garbage collected in the wrong driver. Actor id = ActorID(2ca539020100), class name = RolloutWorker.\n",
      "2020-02-06 16:13:11,909\tWARNING actor.py:663 -- Actor is garbage collected in the wrong driver. Actor id = ActorID(276fa5c90100), class name = RolloutWorker.\n",
      "2020-02-06 16:13:11,913\tWARNING actor.py:663 -- Actor is garbage collected in the wrong driver. Actor id = ActorID(8603ac100100), class name = RolloutWorker.\n",
      "2020-02-06 16:13:11,920\tWARNING actor.py:663 -- Actor is garbage collected in the wrong driver. Actor id = ActorID(15c675b20100), class name = RolloutWorker.\n",
      "2020-02-06 16:13:11,925\tWARNING actor.py:663 -- Actor is garbage collected in the wrong driver. Actor id = ActorID(9d28cb170100), class name = RolloutWorker.\n",
      "2020-02-06 16:13:11,926\tWARNING actor.py:663 -- Actor is garbage collected in the wrong driver. Actor id = ActorID(9fc77bf30100), class name = RolloutWorker.\n",
      "2020-02-06 16:13:11,928\tWARNING actor.py:663 -- Actor is garbage collected in the wrong driver. Actor id = ActorID(55c3b2b60100), class name = RolloutWorker.\n",
      "2020-02-06 16:13:11,932\tWARNING actor.py:663 -- Actor is garbage collected in the wrong driver. Actor id = ActorID(cd8f56890100), class name = RolloutWorker.\n",
      "2020-02-06 16:13:11,940\tWARNING actor.py:663 -- Actor is garbage collected in the wrong driver. Actor id = ActorID(6170691e0100), class name = RolloutWorker.\n",
      "2020-02-06 16:13:11,941\tWARNING actor.py:663 -- Actor is garbage collected in the wrong driver. Actor id = ActorID(6f53dca10100), class name = RolloutWorker.\n",
      "2020-02-06 16:13:11,947\tWARNING actor.py:663 -- Actor is garbage collected in the wrong driver. Actor id = ActorID(7e0a4dfc0100), class name = RolloutWorker.\n",
      "2020-02-06 16:13:11,963\tWARNING actor.py:663 -- Actor is garbage collected in the wrong driver. Actor id = ActorID(44ee453c0100), class name = RolloutWorker.\n",
      "2020-02-06 16:13:11,966\tWARNING actor.py:663 -- Actor is garbage collected in the wrong driver. Actor id = ActorID(f66d17ba0100), class name = RolloutWorker.\n",
      "2020-02-06 16:13:11,969\tWARNING actor.py:663 -- Actor is garbage collected in the wrong driver. Actor id = ActorID(ef0a6c220100), class name = RolloutWorker.\n",
      "2020-02-06 16:13:11,971\tWARNING actor.py:663 -- Actor is garbage collected in the wrong driver. Actor id = ActorID(45b95b1c0100), class name = RolloutWorker.\n",
      "2020-02-06 16:13:12,063\tINFO trainable.py:346 -- Restored from checkpoint: /home/grabka/Documents/seagul/seagul/rllib/rllib_with_rbf/data/remote/checkpoint_160/checkpoint-160\n",
      "2020-02-06 16:13:12,065\tINFO trainable.py:353 -- Current state after restoring: {'_iteration': 160, '_timesteps_total': 51307108, '_time_total': 7517.680072307587, '_episodes_total': 1342388}\n"
     ]
    }
   ],
   "source": [
    "ray.shutdown()\n",
    "ray.init()\n",
    "ModelCatalog.register_custom_model(\"rbf\", RBFModel1)\n",
    "ModelCatalog.register_custom_model(\"rbf_2\", RBFModel2)\n",
    "ModelCatalog.register_custom_model(\"mlp_1_256\", MyKerasModel1)\n",
    "ModelCatalog.register_custom_model(\"mlp_2_64\", MyKerasModel2)\n",
    "\n",
    "if alg == \"PPO\":\n",
    "    trainer = ppo.PPOTrainer(config)\n",
    "if alg == \"SAC\":\n",
    "    trainer = sac.SACTrainer(config)\n",
    "if alg == \"DDPG\":\n",
    "    trainer = ddpg.DDPGTrainer(config)\n",
    "\n",
    "trainer.restore(checkpoint_path)"
   ]
  },
  {
   "cell_type": "code",
   "execution_count": 25,
   "metadata": {},
   "outputs": [
    {
     "name": "stdout",
     "output_type": "stream",
     "text": [
      "\u001b[2m\u001b[36m(pid=8768)\u001b[0m Using TensorFlow backend.\n",
      "\u001b[2m\u001b[36m(pid=8774)\u001b[0m Using TensorFlow backend.\n",
      "\u001b[2m\u001b[36m(pid=8767)\u001b[0m Using TensorFlow backend.\n",
      "\u001b[2m\u001b[36m(pid=8773)\u001b[0m Using TensorFlow backend.\n",
      "\u001b[2m\u001b[36m(pid=8772)\u001b[0m Using TensorFlow backend.\n",
      "\u001b[2m\u001b[36m(pid=8769)\u001b[0m Using TensorFlow backend.\n",
      "\u001b[2m\u001b[36m(pid=8770)\u001b[0m Using TensorFlow backend.\n",
      "\u001b[2m\u001b[36m(pid=8771)\u001b[0m Using TensorFlow backend.\n"
     ]
    }
   ],
   "source": [
    "import gym\n",
    "import numpy as np\n",
    "import matplotlib.pyplot as plt\n",
    "import random\n",
    "import tensorflow as tf\n",
    "import pybullet_envs\n",
    "%matplotlib inline\n",
    "\n",
    "#env = gym.make(env_name)\n",
    "#env.unwrapped.reset_model = det_reset_model\n",
    "\n",
    "# !! this needs to reflect the environemnt you trained in\n",
    "#env = gym.make(\"Pendulum-v0\")\n",
    "env = gym.make(current_env, render=True)"
   ]
  },
  {
   "cell_type": "code",
   "execution_count": null,
   "metadata": {},
   "outputs": [],
   "source": [
    "env._max_episode_steps = 10000\n",
    "obs = env.reset()\n",
    "\n",
    "\n",
    "\n",
    "action_hist = []\n",
    "m_act_hist = []\n",
    "state_hist  = []\n",
    "obs_hist = []\n",
    "reward_hist = []\n",
    "\n",
    "done = False\n",
    "for t in range(10000):\n",
    "    # for some algorithms you can get the sample mean out, need to change the value on the index to match your env for now\n",
    "    # mean_actions = out_dict['behaviour_logits'][:17]\n",
    "    # actions = trainer.compute_action(obs.flatten())\n",
    "    sampled_actions, _ , out_dict = trainer.compute_action(obs.flatten(),full_fetch=True)\n",
    "    \n",
    "    actions = sampled_actions\n",
    "    \n",
    "    obs, reward, done, _ = env.step(np.asarray(actions))\n",
    "    \n",
    "    # !! uncomment to render\n",
    "    env.render()\n",
    "    \n",
    "    action_hist.append(np.copy(actions))\n",
    "    obs_hist.append(np.copy(obs))\n",
    "    reward_hist.append(np.copy(reward))\n",
    "\n",
    "print(sum(reward_hist))\n",
    "print((obs_hist))\n",
    "#plt.plot(action_hist)\n",
    "#plt.figure()\n",
    "#plt.figure()\n",
    "#plt.plot(obs_hist)\n",
    "#plt.figure()"
   ]
  },
  {
   "cell_type": "code",
   "execution_count": 1,
   "metadata": {},
   "outputs": [
    {
     "ename": "NameError",
     "evalue": "name 'trainer' is not defined",
     "output_type": "error",
     "traceback": [
      "\u001b[0;31m---------------------------------------------------------------------------\u001b[0m",
      "\u001b[0;31mNameError\u001b[0m                                 Traceback (most recent call last)",
      "\u001b[0;32m<ipython-input-1-46de76154a13>\u001b[0m in \u001b[0;36m<module>\u001b[0;34m\u001b[0m\n\u001b[1;32m      1\u001b[0m \u001b[0;31m# Reminder that the bahavior logits that come out are the mean and logstd (not log mean, despite the name logit)\u001b[0m\u001b[0;34m\u001b[0m\u001b[0;34m\u001b[0m\u001b[0;34m\u001b[0m\u001b[0m\n\u001b[0;32m----> 2\u001b[0;31m \u001b[0mtrainer\u001b[0m\u001b[0;34m.\u001b[0m\u001b[0mcompute_action\u001b[0m\u001b[0;34m(\u001b[0m\u001b[0mobs\u001b[0m\u001b[0;34m,\u001b[0m \u001b[0mfull_fetch\u001b[0m\u001b[0;34m=\u001b[0m\u001b[0;32mTrue\u001b[0m\u001b[0;34m)\u001b[0m\u001b[0;34m\u001b[0m\u001b[0;34m\u001b[0m\u001b[0m\n\u001b[0m",
      "\u001b[0;31mNameError\u001b[0m: name 'trainer' is not defined"
     ]
    }
   ],
   "source": [
    "# Reminder that the bahavior logits that come out are the mean and logstd (not log mean, despite the name logit)\n",
    "trainer.compute_action(obs, full_fetch=True)"
   ]
  },
  {
   "cell_type": "code",
   "execution_count": null,
   "metadata": {},
   "outputs": [],
   "source": []
  }
 ],
 "metadata": {
  "kernelspec": {
   "display_name": "Python 3",
   "language": "python",
   "name": "python3"
  },
  "language_info": {
   "codemirror_mode": {
    "name": "ipython",
    "version": 3
   },
   "file_extension": ".py",
   "mimetype": "text/x-python",
   "name": "python",
   "nbconvert_exporter": "python",
   "pygments_lexer": "ipython3",
   "version": "3.6.9"
  }
 },
 "nbformat": 4,
 "nbformat_minor": 4
}

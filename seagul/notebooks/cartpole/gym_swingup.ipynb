{
 "cells": [
  {
   "cell_type": "code",
   "execution_count": 10,
   "metadata": {},
   "outputs": [],
   "source": [
    "import gym\n",
    "import seagul.envs\n",
    "import numpy as np\n",
    "from numpy import pi, sin, cos\n",
    "import time\n",
    "import torch\n",
    "import matplotlib.pyplot as plt\n",
    "env = gym.make('su_cartpole-v0')"
   ]
  },
  {
   "cell_type": "code",
   "execution_count": null,
   "metadata": {},
   "outputs": [],
   "source": [
    "def control(env, q):\n",
    "#     # Ausutay Ozmen\n",
    "#     if -0.2 < q[0] < 0.2 and -2 < q[2] < 2:\n",
    "#         return 10\n",
    "\n",
    "#     elif(q[0] < 145 * pi / 180) or (q[0] > 215 * pi / 180):\n",
    "#         # swing up\n",
    "#         # energy error: Ee\n",
    "#         Ee = 0.5 * env.mp * env.L * env.L * q[2] ** 2 - env.mp * env.g * env.L * (1 + cos(q[0]))\n",
    "#         # energy conrol gain:\n",
    "#         k = 0.23\n",
    "\n",
    "#         # input acceleration: A (of cart)\n",
    "#         A = k * Ee * cos(q[0]) * q[2]\n",
    "#         # convert A to u (using EOM)\n",
    "#         delta = env.mp * sin(q[0]) ** 2 + env.mc\n",
    "#         u = A * delta - env.mp * env.L * (q[2] ** 2) * sin(q[0]) - env.mp * env.g * sin(q[2]) * cos(q[2])\n",
    "#     else:\n",
    "        # balancing\n",
    "        # LQR: K values from MATLAB\n",
    "    k1 = 140.560\n",
    "    k2 = -3.162\n",
    "    k3 = 41.772\n",
    "    k4 = -8.314\n",
    "    u = -(k1 * (q[0] - pi) + k2 * q[1] + k3 * q[2] + k4 * q[3])\n",
    "    return u\n"
   ]
  },
  {
   "cell_type": "code",
   "execution_count": 12,
   "metadata": {},
   "outputs": [],
   "source": [
    "def control(env, q):\n",
    "    # Ausutay Ozmen\n",
    "    if -0.2 < q[0] < 0.2 and -2 < q[2] < 2:\n",
    "        return -10\n",
    "    \n",
    "    elif ((140 * pi/180 < q[0] < pi) and (q[1] <= 0)) or ((pi < q[0] < 220 * pi/180) and q[1] >= 0):\n",
    "        # balancing\n",
    "        # LQR: K values from MATLAB\n",
    "        k1 = 140.560\n",
    "        k2 = -3.162\n",
    "        k3 = 41.772\n",
    "        k4 = -8.314\n",
    "        #print(\"balancing\")\n",
    "        u = -25*(k1 * (q[0] - pi) + k2 * q[1] + k3 * q[2] + k4 * q[3])\n",
    "    \n",
    "    else: \n",
    "        # swing up\n",
    "        # energy error: Ee\n",
    "        Ee = 0.5 * env.mp * env.L * env.L * q[2] ** 2 - env.mp * env.g * env.L * (1 + cos(q[0]))\n",
    "        # energy conrol gain:\n",
    "        k = 0.23\n",
    "    \n",
    "        # input acceleration: A (of cart)\n",
    "        A = k * Ee * cos(q[0]) * q[2]\n",
    "        # convert A to u (using EOM)\n",
    "        delta = env.mp * sin(q[0]) ** 2 + env.mc\n",
    "        u = A * delta - env.mp * env.L * (q[2] ** 2) * sin(q[0]) - env.mp * env.g * sin(q[2]) * cos(q[2])\n",
    "    \n",
    "    return u"
   ]
  },
  {
   "cell_type": "code",
   "execution_count": 13,
   "metadata": {},
   "outputs": [
    {
     "data": {
      "text/plain": [
       "[<matplotlib.lines.Line2D at 0x7fe07f0aa810>,\n",
       " <matplotlib.lines.Line2D at 0x7fe07f0aaa50>,\n",
       " <matplotlib.lines.Line2D at 0x7fe07f0aac10>,\n",
       " <matplotlib.lines.Line2D at 0x7fe07f0aadd0>]"
      ]
     },
     "execution_count": 13,
     "metadata": {},
     "output_type": "execute_result"
    },
    {
     "data": {
      "image/png": "[encoded data removed]",
      "text/plain": [
       "<Figure size 432x288 with 1 Axes>"
      ]
     },
     "metadata": {
      "needs_background": "light"
     },
     "output_type": "display_data"
    }
   ],
   "source": [
    "obs = env.reset() \n",
    "\n",
    "state_hist = np.zeros((3000,4))\n",
    "for i in range(3000):\n",
    "    actions = control(env, obs)\n",
    "    obs, reward, done, _ = env.step(actions)\n",
    "    #action_hist[i, :] = np.copy(actions)\n",
    "    state_hist[i, :] = np.copy(obs)\n",
    "    #reward_hist[i, :] = np.copy(reward)\n",
    "    #time.sleep(.1)\n",
    "\n",
    "    #env.render()\n",
    "    if done:\n",
    "        break\n",
    "\n",
    "plt.plot(state_hist)"
   ]
  },
  {
   "cell_type": "code",
   "execution_count": null,
   "metadata": {},
   "outputs": [],
   "source": []
  }
 ],
 "metadata": {
  "kernelspec": {
   "display_name": "Base Conda",
   "language": "python",
   "name": "base"
  },
  "language_info": {
   "codemirror_mode": {
    "name": "ipython",
    "version": 3
   },
   "file_extension": ".py",
   "mimetype": "text/x-python",
   "name": "python",
   "nbconvert_exporter": "python",
   "pygments_lexer": "ipython3",
   "version": "3.7.4"
  }
 },
 "nbformat": 4,
 "nbformat_minor": 4
}

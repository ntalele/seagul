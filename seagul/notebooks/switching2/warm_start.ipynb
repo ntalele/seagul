{
 "cells": [
  {
   "cell_type": "code",
   "execution_count": 18,
   "metadata": {},
   "outputs": [],
   "source": [
    "import gym\n",
    "import seagul.envs\n",
    "\n",
    "env = gym.make('su_acro_drake-v0')\n",
    "\n",
    "\n",
    "import torch\n",
    "import torch.nn as nn\n",
    "\n",
    "from seagul.nn import CategoricalMLP, MLP, DummyNet, fit_model, LinearNet\n",
    "\n",
    "# TODO maybe import algos into rl __init__\n",
    "from seagul.rl.algos import ppo_switch\n",
    "from seagul.rl.algos import ppo\n",
    "\n",
    "from tqdm import trange\n",
    "from numpy import pi\n",
    "import numpy as np\n",
    "\n",
    "import matplotlib.pyplot as plt\n",
    "\n",
    "#torch.set_default_dtype(torch.double)\n",
    "\n",
    "policy = MLP(input_size=4, output_size=1, layer_size=24, num_layers=2, activation=nn.ReLU)\n",
    "value_fn = MLP(input_size=4, output_size=1, layer_size=24, num_layers=2, activation=nn.ReLU)\n",
    "\n",
    "#policy = LinearNet(17,6)\n",
    "#value_fn = LinearNet(17,1)\n",
    "gate_fn = CategoricalMLP(input_size=4, output_size=1, layer_size=32, num_layers=2, activation=nn.Tanh)"
   ]
  },
  {
   "cell_type": "code",
   "execution_count": 92,
   "metadata": {},
   "outputs": [
    {
     "name": "stderr",
     "output_type": "stream",
     "text": [
      "100%|██████████| 20000/20000 [00:00<00:00, 21370.30it/s]\n"
     ]
    },
    {
     "name": "stdout",
     "output_type": "stream",
     "text": [
      "tensor([6902.])\n"
     ]
    }
   ],
   "source": [
    "#%%timeit\n",
    "\n",
    "# Generate data for the supervised learning task\n",
    "from numpy import arctan2, pi\n",
    "env = gym.make('su_acro_drake-v0')\n",
    "obs = env.reset()\n",
    "num_points = int(2e4)\n",
    "\n",
    "X = torch.zeros(num_points, 4)  \n",
    "Y = torch.zeros(num_points,1)\n",
    "#y_list.append\n",
    "\n",
    "for i in trange(num_points):\n",
    "        \n",
    "        state  = env.observation_space.sample()\n",
    "        #state = np.array([arctan2(obs[0],obs[1]), arctan2(obs[2], obs[3]), obs[4], obs[5]])\n",
    "        X[i] = torch.as_tensor(state)\n",
    "       \n",
    "        if((140 * pi/180 < state[0] < 220 * pi/180) and ((-40*pi/180 < state[1] < 40 * pi/180))):#) and -5 < state[2] < 5 and -10 < state[3] < 10):\n",
    "            Y[i] = 7\n",
    "        else:\n",
    "            Y[i] = 0\n",
    "\n",
    "            \n",
    "            \n",
    "print(sum(Y))\n",
    "# fit our gating network to the data we generated above\n",
    "\n",
    "gate_fn.state_means = X.mean(0)\n",
    "gate_fn.state_var = X.var(0)"
   ]
  },
  {
   "cell_type": "code",
   "execution_count": 83,
   "metadata": {},
   "outputs": [],
   "source": [
    "import pickle\n",
    "X = pickle.load(open('./warm/X_zv', 'rb'))\n",
    "Y = pickle.load(open('./warm/Y_zv', 'rb'))\n",
    "\n",
    "X = np.array(X, dtype=np.float32)\n",
    "Y = np.array(Y, dtype=np.float32).reshape(-1,1)\n",
    "\n",
    "#normal_const = (np.sqrt((len(Y)/(sum(Y)*2)),dtype=np.float32))\n",
    "normal_const = 4\n",
    "Y *= normal_const\n",
    "\n",
    "print(sum(Y))\n",
    "print(len(Y))"
   ]
  },
  {
   "cell_type": "code",
   "execution_count": 99,
   "metadata": {},
   "outputs": [
    {
     "name": "stderr",
     "output_type": "stream",
     "text": [
      "100%|██████████| 15/15 [00:14<00:00,  1.03it/s]\n"
     ]
    },
    {
     "data": {
      "text/plain": [
       "[<matplotlib.lines.Line2D at 0x7f7791863828>]"
      ]
     },
     "execution_count": 99,
     "metadata": {},
     "output_type": "execute_result"
    },
    {
     "data": {
      "image/png": "[encoded data removed]",
      "text/plain": [
       "<Figure size 432x288 with 1 Axes>"
      ]
     },
     "metadata": {
      "needs_background": "light"
     },
     "output_type": "display_data"
    }
   ],
   "source": [
    "gate_fn = CategoricalMLP(input_size=4, output_size=1, layer_size=12, num_layers=3, activation=nn.Tanh)\n",
    "\n",
    "hist = fit_model(gate_fn,X,Y,15)\n",
    "plt.plot(hist)"
   ]
  },
  {
   "cell_type": "code",
   "execution_count": 94,
   "metadata": {},
   "outputs": [
    {
     "name": "stderr",
     "output_type": "stream",
     "text": [
      "100%|██████████| 20000/20000 [00:03<00:00, 5518.87it/s]"
     ]
    },
    {
     "name": "stdout",
     "output_type": "stream",
     "text": [
      "balancing controller misclassified:  2\n",
      "balancing controller corectly classified:  171\n",
      "balancing controller accuracy:  0.9884393063583815\n",
      "swingup controller misclassified:  5295\n",
      "swingup controller corectly classified:  14532\n",
      "swingup controller accuracy:  0.7329399303979423\n"
     ]
    },
    {
     "name": "stderr",
     "output_type": "stream",
     "text": [
      "\n"
     ]
    }
   ],
   "source": [
    "# evauluate how well our classifier is doing now\n",
    "\n",
    "#env = gym.make('su_acrobot-v0')\n",
    "num_points = int(2e4)\n",
    "\n",
    "pred_Y = torch.zeros(num_points,1)\n",
    "pred_X = np.zeros((num_points,1))\n",
    "up_wrong = 0; up_right = 0; down_wrong = 0; down_right = 0;\n",
    "y_list = []\n",
    "\n",
    "for i in trange(num_points):\n",
    "        \n",
    "        state = env.observation_space.sample()\n",
    "        #state = np.array([arctan2(obs[0],obs[1]), arctan2(obs[2], obs[3]), obs[4], obs[5]])\n",
    "\n",
    "        y = gate_fn(torch.as_tensor(state,dtype=torch.float32))\n",
    "        y_list.append(y)\n",
    "        \n",
    "        if((140 * pi/180 < state[0] < 220 * pi/180) and ((-40*pi/180 < state[1] < 40 * pi/180)) and (-5 < state[2] < 5) and (-10 < state[3] < 10)):\n",
    "            if y < .5:\n",
    "                #print(\"wrong!\" , c)\n",
    "                up_wrong +=1\n",
    "            else:\n",
    "                up_right +=1\n",
    "        else:\n",
    "            if y > .5:\n",
    "                #print(\"wrong again!\" , c)\n",
    "                down_wrong +=1\n",
    "            else:\n",
    "                down_right +=1\n",
    "       \n",
    "print(\"balancing controller misclassified: \" , up_wrong)\n",
    "print(\"balancing controller corectly classified: \" , up_right)\n",
    "print(\"balancing controller accuracy: \" , up_right/(up_right+up_wrong))\n",
    "\n",
    "     \n",
    "print(\"swingup controller misclassified: \" , down_wrong)\n",
    "print(\"swingup controller corectly classified: \" , down_right)\n",
    "print(\"swingup controller accuracy: \" , down_right/(down_right+down_wrong))"
   ]
  },
  {
   "cell_type": "code",
   "execution_count": 77,
   "metadata": {},
   "outputs": [
    {
     "ename": "TypeError",
     "evalue": "ppo() got an unexpected keyword argument 'action_var'",
     "output_type": "error",
     "traceback": [
      "\u001b[0;31m---------------------------------------------------------------------------\u001b[0m",
      "\u001b[0;31mTypeError\u001b[0m                                 Traceback (most recent call last)",
      "\u001b[0;32m<ipython-input-77-6ba1d5c327e6>\u001b[0m in \u001b[0;36m<module>\u001b[0;34m\u001b[0m\n\u001b[0;32m----> 1\u001b[0;31m \u001b[0mt_policy\u001b[0m\u001b[0;34m,\u001b[0m \u001b[0mt_val\u001b[0m\u001b[0;34m,\u001b[0m \u001b[0mrewards\u001b[0m\u001b[0;34m,\u001b[0m \u001b[0mvar_dict\u001b[0m \u001b[0;34m=\u001b[0m \u001b[0mppo\u001b[0m\u001b[0;34m(\u001b[0m\u001b[0;34m'su_cartpole-v0'\u001b[0m\u001b[0;34m,\u001b[0m \u001b[0;36m100\u001b[0m\u001b[0;34m,\u001b[0m \u001b[0mpolicy\u001b[0m\u001b[0;34m,\u001b[0m \u001b[0mvalue_fn\u001b[0m\u001b[0;34m,\u001b[0m \u001b[0maction_var\u001b[0m \u001b[0;34m=\u001b[0m \u001b[0;36m.4\u001b[0m\u001b[0;34m,\u001b[0m \u001b[0mp_epochs\u001b[0m\u001b[0;34m=\u001b[0m \u001b[0;36m5\u001b[0m\u001b[0;34m,\u001b[0m \u001b[0mv_epochs\u001b[0m\u001b[0;34m=\u001b[0m\u001b[0;36m15\u001b[0m\u001b[0;34m)\u001b[0m\u001b[0;34m\u001b[0m\u001b[0;34m\u001b[0m\u001b[0m\n\u001b[0m\u001b[1;32m      2\u001b[0m \u001b[0;31m#t_policy, t_val, t_gate, rewards, var_dict = ppo_switch(\u001b[0m\u001b[0;34m\u001b[0m\u001b[0;34m\u001b[0m\u001b[0;34m\u001b[0m\u001b[0m\n\u001b[1;32m      3\u001b[0m \u001b[0;31m#    \"su_cartpole_push-v0\", 500, policy, value_fn, gate_fn, epoch_batch_size=50, reward_stop=1400\u001b[0m\u001b[0;34m\u001b[0m\u001b[0;34m\u001b[0m\u001b[0;34m\u001b[0m\u001b[0m\n\u001b[1;32m      4\u001b[0m \u001b[0;31m#)\u001b[0m\u001b[0;34m\u001b[0m\u001b[0;34m\u001b[0m\u001b[0;34m\u001b[0m\u001b[0m\n\u001b[1;32m      5\u001b[0m \u001b[0;34m\u001b[0m\u001b[0m\n",
      "\u001b[0;31mTypeError\u001b[0m: ppo() got an unexpected keyword argument 'action_var'"
     ]
    }
   ],
   "source": [
    "t_policy, t_val, rewards, var_dict = ppo('su_cartpole-v0', 100, policy, value_fn, action_var = .4, p_epochs= 5, v_epochs=15)\n",
    "#t_policy, t_val, t_gate, rewards, var_dict = ppo_switch(\n",
    "#    \"su_cartpole_push-v0\", 500, policy, value_fn, gate_fn, epoch_batch_size=50, reward_stop=1400\n",
    "#)\n",
    "\n",
    "plt.plot(rewards)"
   ]
  },
  {
   "cell_type": "code",
   "execution_count": 4,
   "metadata": {},
   "outputs": [],
   "source": [
    "torch.save(gate_fn, \"gate_fn_ppo2\")"
   ]
  },
  {
   "cell_type": "code",
   "execution_count": null,
   "metadata": {},
   "outputs": [],
   "source": [
    "save_path = \"./data/push_baselines/push_baseline1\"\n",
    "#model, env = load_model(save_path) # This is loading the trained model for analysis\n",
    "t_data = pd.read_csv(save_path + '/progress.csv' ) # This is data about the training"
   ]
  },
  {
   "cell_type": "code",
   "execution_count": null,
   "metadata": {},
   "outputs": [],
   "source": [
    "plt.plot(var_dict['action_list'])"
   ]
  },
  {
   "cell_type": "code",
   "execution_count": null,
   "metadata": {},
   "outputs": [],
   "source": [
    "plt.plot(var_dict['path_list'])"
   ]
  },
  {
   "cell_type": "code",
   "execution_count": null,
   "metadata": {},
   "outputs": [],
   "source": [
    "plt.plot(np.array(var_dict['state_tensor'])[:,2])\n",
    "np.array(var_dict['state_tensor'])"
   ]
  },
  {
   "cell_type": "code",
   "execution_count": null,
   "metadata": {},
   "outputs": [],
   "source": [
    "var_dict['action_tensor']"
   ]
  },
  {
   "cell_type": "code",
   "execution_count": 5,
   "metadata": {},
   "outputs": [],
   "source": [
    "torch.save(gate_fn, \"gate_fn_ppo2\")"
   ]
  },
  {
   "cell_type": "code",
   "execution_count": 95,
   "metadata": {},
   "outputs": [
    {
     "data": {
      "text/plain": [
       "<matplotlib.colorbar.Colorbar at 0x7f7791936da0>"
      ]
     },
     "execution_count": 95,
     "metadata": {},
     "output_type": "execute_result"
    },
    {
     "data": {
      "image/png": "[encoded data removed]",
      "text/plain": [
       "<Figure size 1584x1152 with 10 Axes>"
      ]
     },
     "metadata": {
      "needs_background": "light"
     },
     "output_type": "display_data"
    }
   ],
   "source": [
    "import matplotlib.pyplot as plt\n",
    "import numpy as np\n",
    "from numpy import sin,cos\n",
    "\n",
    "n_thdot = 3\n",
    "n_th = 50\n",
    "fig, ax = plt.subplots(n_thdot,n_thdot, figsize=(22,16))\n",
    "\n",
    "th1_vals = np.linspace(0,2*pi,n_th)\n",
    "th2_vals = np.linspace(-pi,pi,n_th)\n",
    "\n",
    "th1dot_vals = np.linspace(-10,10,n_thdot)\n",
    "th2dot_vals = np.linspace(-15,15,n_thdot)\n",
    "\n",
    "for th1i, th1dot in enumerate(th1dot_vals):\n",
    "    for th2i, th2dot in enumerate(th2dot_vals):\n",
    "       \n",
    "        means = np.zeros((n_th,n_th))\n",
    "\n",
    "        for i,th1 in enumerate(th1_vals):\n",
    "            for j,th2 in enumerate(th2_vals):\n",
    "                #obs = torch.tensor([cos(th1), sin(th1), cos(th2), sin(th2), th1dot,th2dot])\n",
    "                obs = torch.tensor([th1, th2, th1dot, th2dot])\n",
    "                means[i,j] = gate_fn(obs)\n",
    "\n",
    "\n",
    "\n",
    "        # generate 2 2d grids for the x & y bounds\n",
    "        y, x = np.meshgrid(th1_vals, th2_vals)\n",
    "        z = means\n",
    "\n",
    "        # x and y are bounds, so z should be the value *inside* those bounds.\n",
    "        # Therefore, remove the last value from the z array.\n",
    "        z = z[:-1, :-1]\n",
    "        z_min, z_max = 0, np.abs(z).max()\n",
    "\n",
    "\n",
    "        c = ax[th1i, th2i].pcolormesh(x, y, z, cmap='RdBu', vmin=z_min, vmax=z_max)\n",
    "        #ax.set_title('pcolormesh')\n",
    "        # set the limits of the plot to the limits of the data\n",
    "        ax[th1i, th2i].axis([x.min(), x.max(), y.min(), y.max()])\n",
    "\n",
    "        #plt.show()\n",
    "        \n",
    "for i,a in enumerate(ax):\n",
    "    for j,b in enumerate(a):\n",
    "        b.set(ylabel = \"theta 1\", xlabel=\"theta 2\", title=\"theta 2 dot = \" + str(th2dot_vals[i]))\n",
    "        b.label_outer()\n",
    "        \n",
    "fig.colorbar(c, ax=ax)\n",
    "\n",
    "\n",
    "              "
   ]
  },
  {
   "cell_type": "code",
   "execution_count": null,
   "metadata": {},
   "outputs": [],
   "source": []
  }
 ],
 "metadata": {
  "kernelspec": {
   "display_name": "Drake (3.6)",
   "language": "python",
   "name": "drake"
  },
  "language_info": {
   "codemirror_mode": {
    "name": "ipython",
    "version": 3
   },
   "file_extension": ".py",
   "mimetype": "text/x-python",
   "name": "python",
   "nbconvert_exporter": "python",
   "pygments_lexer": "ipython3",
   "version": "3.6.9"
  }
 },
 "nbformat": 4,
 "nbformat_minor": 4
}

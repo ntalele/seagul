{
 "cells": [
  {
   "cell_type": "code",
   "execution_count": 1,
   "metadata": {},
   "outputs": [],
   "source": [
    "import ray.rllib.agents.ppo as ppo\n",
    "from tqdm import trange\n",
    "\n",
    "import ray\n",
    "from ray import tune\n",
    "import ray.rllib.agents.ppo as ppo\n",
    "from ray.rllib.agents.ppo.appo import DEFAULT_CONFIG\n",
    "from seagul.envs.mujoco.five_link import FiveLinkWalkerEnv\n",
    "from pybullet_envs.gym_locomotion_envs import Walker2DBulletEnv\n",
    "from ray.tune.registry import register_env\n",
    "\n",
    "import pybullet_envs\n",
    "import seagul.envs\n",
    "\n",
    "\n",
    "from sym_ppo_policy import PPOTFSymPolicy\n",
    "\n",
    "def five_link_creator(env_config):\n",
    "    return FiveLinkWalkerEnv()  # return an env instance\n",
    "\n",
    "\n",
    "def bullet_walker_creator(env_config):\n",
    "    return Walker2DBulletEnv()  # return an env instance\n",
    "\n",
    "register_env(\"five_link-v3\", five_link_creator)\n",
    "register_env(\"Walker2DBulletEnv-v0\", bullet_walker_creator)"
   ]
  },
  {
   "cell_type": "code",
   "execution_count": null,
   "metadata": {},
   "outputs": [
    {
     "name": "stdout",
     "output_type": "stream",
     "text": [
      "> \u001b[0;32m/home/sgillen/work/seagul/seagul/notebooks/sym_rl/sym_ppo_policy.py\u001b[0m(115)\u001b[0;36mppo_surrogate_loss\u001b[0;34m()\u001b[0m\n",
      "\u001b[0;32m    114 \u001b[0;31m    \u001b[0;32mimport\u001b[0m \u001b[0mipdb\u001b[0m\u001b[0;34m;\u001b[0m \u001b[0mipdb\u001b[0m\u001b[0;34m.\u001b[0m\u001b[0mset_trace\u001b[0m\u001b[0;34m(\u001b[0m\u001b[0;34m)\u001b[0m\u001b[0;34m\u001b[0m\u001b[0;34m\u001b[0m\u001b[0m\n",
      "\u001b[0m\u001b[0;32m--> 115 \u001b[0;31m    \u001b[0mlogits\u001b[0m\u001b[0;34m,\u001b[0m \u001b[0mstate\u001b[0m \u001b[0;34m=\u001b[0m \u001b[0mmodel\u001b[0m\u001b[0;34m.\u001b[0m\u001b[0mfrom_batch\u001b[0m\u001b[0;34m(\u001b[0m\u001b[0mtrain_batch\u001b[0m\u001b[0;34m)\u001b[0m\u001b[0;34m\u001b[0m\u001b[0;34m\u001b[0m\u001b[0m\n",
      "\u001b[0m\u001b[0;32m    116 \u001b[0;31m    \u001b[0maction_dist\u001b[0m \u001b[0;34m=\u001b[0m \u001b[0mdist_class\u001b[0m\u001b[0;34m(\u001b[0m\u001b[0mlogits\u001b[0m\u001b[0;34m,\u001b[0m \u001b[0mmodel\u001b[0m\u001b[0;34m)\u001b[0m\u001b[0;34m\u001b[0m\u001b[0;34m\u001b[0m\u001b[0m\n",
      "\u001b[0m\n",
      "--KeyboardInterrupt--\n"
     ]
    }
   ],
   "source": [
    "config = ppo.DEFAULT_CONFIG.copy()\n",
    "config[\"num_gpus\"] = 1\n",
    "config[\"num_workers\"] = 15\n",
    "config[\"eager\"] = False\n",
    "config[\"model\"][\"fcnet_hiddens\"] = [64,64]\n",
    "config[\"lr\"] = 5e-5\n",
    "#config[\"env\"] = \"five_link-v3\"\n",
    "config[\"env\"] = \"Walker2DBulletEnv-v0\"\n",
    "\n",
    "config[\"kl_coeff\"] = 1.0\n",
    "config[\"num_sgd_iter\"] = 20\n",
    "config[\"lr\"] = .0001\n",
    "config[\"num_workers\"] = 15\n",
    "config[\"num_gpus\"] = 1\n",
    "config[\"batch_mode\"] =  \"complete_episodes\"\n",
    "config[\"observation_filter\"] =  \"MeanStdFilter\"\n",
    "\n",
    "config[\"sgd_minibatch_size\"] = 10240\n",
    "config[\"train_batch_size\"] = 81920\n",
    "\n",
    "env_name = \"Walker2DBulletEnv-v0\"\n",
    "\n",
    "\n",
    "PPOSymTrainer = ppo.PPOTrainer.with_updates(default_policy = PPOTFSymPolicy)\n",
    "trainer = PPOSymTrainer(config = config, env=env_name)\n",
    "\n",
    "# Can optionally call trainer.restore(path) to load a checkpoint.\n",
    "\n",
    "for i in trange(500):\n",
    "   # Perform one iteration of training the policy with ARS\n",
    "    result = trainer.train()"
   ]
  },
  {
   "cell_type": "code",
   "execution_count": null,
   "metadata": {},
   "outputs": [],
   "source": []
  },
  {
   "cell_type": "code",
   "execution_count": null,
   "metadata": {},
   "outputs": [],
   "source": []
  },
  {
   "cell_type": "code",
   "execution_count": null,
   "metadata": {},
   "outputs": [],
   "source": []
  }
 ],
 "metadata": {
  "kernelspec": {
   "display_name": "Symmetric RL (3.6)",
   "language": "python",
   "name": "sym"
  },
  "language_info": {
   "codemirror_mode": {
    "name": "ipython",
    "version": 3
   },
   "file_extension": ".py",
   "mimetype": "text/x-python",
   "name": "python",
   "nbconvert_exporter": "python",
   "pygments_lexer": "ipython3",
   "version": "3.6.9"
  }
 },
 "nbformat": 4,
 "nbformat_minor": 4
}

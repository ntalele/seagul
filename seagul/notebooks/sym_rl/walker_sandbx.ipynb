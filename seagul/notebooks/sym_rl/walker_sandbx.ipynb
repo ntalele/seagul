{
 "cells": [
  {
   "cell_type": "code",
   "execution_count": null,
   "metadata": {},
   "outputs": [],
   "source": [
    "# Notebook for noodling with the bullet gym walker environments\n",
    "# Implementation: https://github.com/bulletphysics/bullet3/blob/master/examples/pybullet/gym/pybullet_envs/robot_locomotors.py\n",
    "\n",
    "import pybullet\n",
    "import pybullet_envs\n",
    "import gym\n",
    "import numpy as np\n",
    "import matplotlib.pyplot as plt\n",
    "import pdb\n",
    "import time\n",
    "\n",
    "env = gym.make('Walker2DBulletEnv-v0')\n",
    "env.render(mode=\"human\")\n",
    "obs = env.reset()\n",
    "base_env = env.unwrapped"
   ]
  },
  {
   "cell_type": "code",
   "execution_count": null,
   "metadata": {},
   "outputs": [],
   "source": [
    "# The goal here is to find a mirroring function for both our state and action space. \n",
    "# Going to start with the Walker2d environment, though getting a general solution for the pybullet locomotion envs would be ideal\n",
    "\n",
    "def mirror_obs(obs):\n",
    "    #if \n",
    "    return obs\n",
    "\n",
    "def mirror_act(act):\n",
    "   # pdb.set_trace()\n",
    "    m_act = np.hstack([act[3:6],act[0:3]])\n",
    "    return m_act\n",
    "\n",
    "# What's actually in each space?\n",
    "## Mujoco's Walker2d has an observation space of Box(17,), But bullet has Box(22,)\n",
    "# from line 75 https://github.com/bulletphysics/bullet3/blob/master/examples/pybullet/gym/pybullet_envs/robot_locomotors.py\n",
    "#\n",
    "# state = np.clip(np.concatenate([more] + [j] + [self.feet_contact]), -5, +5)\n",
    "#\n",
    "#  more = np.array(\n",
    "#        [\n",
    "#            z - self.initial_z,\n",
    "#            np.sin(angle_to_target),\n",
    "#            np.cos(angle_to_target),\n",
    "#            0.3 * vx,\n",
    "#            0.3 * vy,\n",
    "#            0.3 * vz,  # 0.3 is just scaling typical speed into -1..+1, no physical sense here\n",
    "#            r,\n",
    "#            p\n",
    "#        ],\n",
    "# \n",
    "# j is the relative joint positions\n",
    "# j = np.array([j.current_relative_position() for j in self.ordered_joints],\n",
    "#               dtype=np.float32).flatten()\n",
    "#\n",
    "# feet contact just tell us which foot is in contact with the ground\n",
    "# env.robot.feet_contact\n",
    "\n",
    "act = env.action_space.sample()\n",
    "obs, reward, done, _ = env.step(act)\n",
    "pdb.set_trace()\n",
    "print(\"Before Mirror\")\n",
    "print(act)\n",
    "print(obs)\n",
    "#pdb.set_trace()\n",
    "env.render()\n",
    "\n",
    "\n",
    "print(\"After Mirror\")\n",
    "m_obs = mirror_obs(obs)\n",
    "m_act = mirror_act(act)\n",
    "print(m_act)\n",
    "print(m_obs)\n",
    "env.render()\n"
   ]
  },
  {
   "cell_type": "code",
   "execution_count": null,
   "metadata": {},
   "outputs": [],
   "source": [
    "# mess with the joint angles here\n",
    "\n",
    "\n",
    "# I've only found a way to directly set the absolute angles, the state variables are relative joint angles\n",
    "joint_angles = [0,0,0,0,0,1]\n",
    "#green-red leg =gr\n",
    "#red - grean leg = rg\n",
    "#joint angles = [gr hip,gr knee,gr ankle,rg hip,rg knee,rg ankle]\n",
    "\n",
    "base_env.reset()\n",
    "for j,s in zip(base_env.ordered_joints, joint_angles):\n",
    "    j.reset_position(s,0)\n",
    "\n",
    "print(\"absolute (position, velocity)\")\n",
    "for j,s in zip(base_env.ordered_joints, joint_angles):\n",
    "    print(j.current_position())\n",
    "\n",
    "print(); print();\n",
    "    \n",
    "print(\"relative (position, velocity)\")\n",
    "for j,s in zip(base_env.ordered_joints, joint_angles):\n",
    "    print(j.current_relative_position())\n",
    "    \n",
    "\n",
    "env.render()\n",
    "\n",
    "# we can go through and set the actions like the above, but probably better to use the high level gym interface (see next cell)\n",
    "#joint_torques = [0,0,0,1,0,0]\n",
    "#for j,a in zip(base_env.ordered_joints, joint_torques):\n",
    "#    j.set_motor_torque(a)\n"
   ]
  },
  {
   "cell_type": "code",
   "execution_count": 22,
   "metadata": {},
   "outputs": [
    {
     "data": {
      "image/png": "[encoded data removed]",
      "text/plain": [
       "<Figure size 600x300 with 1 Axes>"
      ]
     },
     "metadata": {
      "needs_background": "light"
     },
     "output_type": "display_data"
    }
   ],
   "source": [
    "# mess with the actions here\n",
    "\n",
    "actions = np.array([0,0,1,0,0,-1])\n",
    "m_actions = mirror_act(actions)\n",
    "state_hist = []\n",
    "m_state_hist = []\n",
    "action_hist = []\n",
    "m_action_hist = []\n",
    "\n",
    "env.reset()\n",
    "for _ in range(100):\n",
    "    obs, reward, done, _ = env.step(actions)\n",
    "    state_hist.append(obs[0])\n",
    "    env.render()\n",
    "    #time.sleep(0.05)\n",
    "\n",
    "env.reset()\n",
    "for _ in range(100):\n",
    "    obs, reward, done, _ = env.step(m_actions)\n",
    "    m_state_hist.append(obs[0])\n",
    "    env.render()\n",
    "   # time.sleep(0.05)\n",
    "f = plt.figure(0,dpi = 60,figsize = (10,5))\n",
    "plt.plot(range(0,len(state_hist)),state_hist)\n",
    "plt.plot(range(0,len(m_state_hist)),m_state_hist)\n",
    "plt.grid(True)\n",
    "plt.tick_params(axis='both', which='major', labelsize=10)  \n",
    "plt.show()"
   ]
  },
  {
   "cell_type": "code",
   "execution_count": null,
   "metadata": {},
   "outputs": [],
   "source": []
  },
  {
   "cell_type": "code",
   "execution_count": null,
   "metadata": {},
   "outputs": [],
   "source": []
  },
  {
   "cell_type": "code",
   "execution_count": null,
   "metadata": {},
   "outputs": [],
   "source": []
  }
 ],
 "metadata": {
  "kernelspec": {
   "display_name": "Python 3",
   "language": "python",
   "name": "python3"
  }
 },
 "nbformat": 4,
 "nbformat_minor": 2
}

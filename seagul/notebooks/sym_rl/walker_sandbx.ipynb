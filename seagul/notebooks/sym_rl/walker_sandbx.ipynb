{
 "cells": [
  {
   "cell_type": "code",
   "execution_count": 1,
   "metadata": {},
   "outputs": [],
   "source": [
    "import pybullet\n",
    "import pybullet_envs\n",
    "import gym\n",
    "\n",
    "\n",
    "env = gym.make('Walker2DBulletEnv-v0')\n",
    "env.render(mode=\"human\")\n",
    "obs = env.reset()\n",
    "base_env = env.unwrapped"
   ]
  },
  {
   "cell_type": "code",
   "execution_count": 29,
   "metadata": {},
   "outputs": [
    {
     "data": {
      "text/plain": [
       "array([], dtype=float64)"
      ]
     },
     "execution_count": 29,
     "metadata": {},
     "output_type": "execute_result"
    }
   ],
   "source": [
    "state = [1,-2,0,0,0,0]\n",
    "base_env.reset()\n",
    "for j,s in zip(base_env.ordered_joints, state):\n",
    "    j.reset_position(s,0)\n",
    "    \n",
    "    \n",
    "env.render()"
   ]
  },
  {
   "cell_type": "code",
   "execution_count": 28,
   "metadata": {},
   "outputs": [
    {
     "name": "stdout",
     "output_type": "stream",
     "text": [
      "[-8.7521307e-04  0.0000000e+00  1.0000000e+00 -7.8132980e-02\n",
      "  0.0000000e+00 -4.6093658e-02  0.0000000e+00 -9.3338070e-03\n",
      "  1.7496320e+00 -1.8118952e-01 -5.2626938e-01  1.9968210e-02\n",
      "  9.3382550e-03  7.1170345e-02  1.0000000e+00  0.0000000e+00\n",
      "  9.7172242e-01 -3.5873953e-01  2.8301427e-02  2.1311554e-01\n",
      "  0.0000000e+00  0.0000000e+00]\n"
     ]
    },
    {
     "data": {
      "text/plain": [
       "array([], dtype=float64)"
      ]
     },
     "execution_count": 28,
     "metadata": {},
     "output_type": "execute_result"
    }
   ],
   "source": [
    "## Mujoco's Walker2d has an action space of Box(17,), bullet has Box(22,) unclear what the extra states are\n",
    "\n",
    "obs, reward, done, _ = env.step(env.action_space.sample())\n",
    "print(obs)\n",
    "env.render()"
   ]
  },
  {
   "cell_type": "code",
   "execution_count": null,
   "metadata": {},
   "outputs": [],
   "source": []
  }
 ],
 "metadata": {
  "kernelspec": {
   "display_name": "Symmetric RL (3.6)",
   "language": "python",
   "name": "sym"
  },
  "language_info": {
   "codemirror_mode": {
    "name": "ipython",
    "version": 3
   },
   "file_extension": ".py",
   "mimetype": "text/x-python",
   "name": "python",
   "nbconvert_exporter": "python",
   "pygments_lexer": "ipython3",
   "version": "3.6.9"
  }
 },
 "nbformat": 4,
 "nbformat_minor": 2
}

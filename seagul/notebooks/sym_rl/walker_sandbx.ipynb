{
 "cells": [
  {
   "cell_type": "code",
   "execution_count": 3,
   "metadata": {},
   "outputs": [],
   "source": [
    "# Notebook for noodling with the bullet gym walker environments\n",
    "# Implementation: https://github.com/bulletphysics/bullet3/blob/master/examples/pybullet/gym/pybullet_envs/robot_locomotors.py\n",
    "\n",
    "import pybullet\n",
    "import pybullet_envs\n",
    "import gym\n",
    "import numpy as np\n",
    "import matplotlib.pyplot as plt\n",
    "\n",
    "env = gym.make('Walker2DBulletEnv-v0')\n",
    "env.render(mode=\"human\")\n",
    "obs = env.reset()\n",
    "base_env = env.unwrapped"
   ]
  },
  {
   "cell_type": "code",
   "execution_count": 5,
   "metadata": {},
   "outputs": [
    {
     "name": "stdout",
     "output_type": "stream",
     "text": [
      "Before Mirror\n",
      "[-0.86515117  0.7941737  -0.72578096  0.76122636  0.16810971  0.44112468]\n",
      "[-0.00524792  0.          1.         -0.1297909   0.         -0.12445556\n",
      "  0.         -0.08498772  0.96479917 -0.4538143   1.0720623   0.\n",
      "  0.12345447  0.00734409  0.9688961  -0.34732714  0.9893378  -0.16867839\n",
      " -0.12232177  0.06285896  0.          0.        ]\n",
      "After Mirror\n",
      "[-0.86515117  0.7941737  -0.72578096  0.76122636  0.16810971  0.44112468]\n",
      "[-0.00524792  0.          1.         -0.1297909   0.         -0.12445556\n",
      "  0.         -0.08498772  0.96479917 -0.4538143   1.0720623   0.\n",
      "  0.12345447  0.00734409  0.9688961  -0.34732714  0.9893378  -0.16867839\n",
      " -0.12232177  0.06285896  0.          0.        ]\n"
     ]
    },
    {
     "data": {
      "text/plain": [
       "array([], dtype=float64)"
      ]
     },
     "execution_count": 5,
     "metadata": {},
     "output_type": "execute_result"
    }
   ],
   "source": [
    "# The goal here is to find a mirroring function for both our state and action space. \n",
    "# Going to start with the Walker2d environment, though getting a general solution for the pybullet locomotion envs would be ideal\n",
    "\n",
    "def mirror_obs(obs):\n",
    "    return obs\n",
    "\n",
    "def mirror_act(act):\n",
    "    return act\n",
    "\n",
    "# What's actually in each space?\n",
    "## Mujoco's Walker2d has an observation space of Box(17,), But bullet has Box(22,)\n",
    "# from line 75 https://github.com/bulletphysics/bullet3/blob/master/examples/pybullet/gym/pybullet_envs/robot_locomotors.py\n",
    "#\n",
    "# state = np.clip(np.concatenate([more] + [j] + [self.feet_contact]), -5, +5)\n",
    "#\n",
    "#  more = np.array(\n",
    "#        [\n",
    "#            z - self.initial_z,\n",
    "#            np.sin(angle_to_target),\n",
    "#            np.cos(angle_to_target),\n",
    "#            0.3 * vx,\n",
    "#            0.3 * vy,\n",
    "#            0.3 * vz,  # 0.3 is just scaling typical speed into -1..+1, no physical sense here\n",
    "#            r,\n",
    "#            p\n",
    "#        ],\n",
    "# \n",
    "# j is the relative joint positions\n",
    "# j = np.array([j.current_relative_position() for j in self.ordered_joints],\n",
    "#               dtype=np.float32).flatten()\n",
    "#\n",
    "# feet contact just tell us which foot is in contact with the ground\n",
    "# env.robot.feet_contact\n",
    "\n",
    "act = env.action_space.sample()\n",
    "obs, reward, done, _ = env.step(act)\n",
    "\n",
    "print(\"Before Mirror\")\n",
    "print(act)\n",
    "print(obs)\n",
    "env.render()\n",
    "\n",
    "\n",
    "print(\"After Mirror\")\n",
    "m_obs = mirror_obs(obs)\n",
    "m_act = mirror_act(act)\n",
    "print(m_act)\n",
    "print(m_obs)\n",
    "env.render()"
   ]
  },
  {
   "cell_type": "code",
   "execution_count": 50,
   "metadata": {},
   "outputs": [
    {
     "name": "stdout",
     "output_type": "stream",
     "text": [
      "absolute (position, velocity)\n",
      "(1.0, 0.0)\n",
      "(-2.0, 0.0)\n",
      "(0.0, 0.0)\n",
      "(0.0, 0.0)\n",
      "(0.0, 0.0)\n",
      "(0.0, 0.0)\n",
      "\n",
      "\n",
      "relative (position, velocity)\n",
      "(1.763943670796563, 0.0)\n",
      "(-0.527887341593126, 0.0)\n",
      "(0.0, 0.0)\n",
      "(1.0, 0.0)\n",
      "(1.0, 0.0)\n",
      "(0.0, 0.0)\n"
     ]
    },
    {
     "data": {
      "text/plain": [
       "array([], dtype=float64)"
      ]
     },
     "execution_count": 50,
     "metadata": {},
     "output_type": "execute_result"
    }
   ],
   "source": [
    "# mess with the joint angles here\n",
    "\n",
    "\n",
    "# I've only found a way to directly set the absolute angles, the state variables are relative joint angles\n",
    "joint_angles = [1,-2,0,0,0,0]\n",
    "base_env.reset()\n",
    "for j,s in zip(base_env.ordered_joints, joint_angles):\n",
    "    j.reset_position(s,0)\n",
    "\n",
    "print(\"absolute (position, velocity)\")\n",
    "for j,s in zip(base_env.ordered_joints, joint_angles):\n",
    "    print(j.current_position())\n",
    "\n",
    "print(); print();\n",
    "    \n",
    "print(\"relative (position, velocity)\")\n",
    "for j,s in zip(base_env.ordered_joints, joint_angles):\n",
    "    print(j.current_relative_position())\n",
    "    \n",
    "\n",
    "env.render()\n",
    "\n",
    "# we can go through and set the actions like the above, but probably better to use the high level gym interface (see next cell)\n",
    "#joint_torques = [0,0,0,1,0,0]\n",
    "#for j,a in zip(base_env.ordered_joints, joint_torques):\n",
    "#    j.set_motor_torque(a)\n"
   ]
  },
  {
   "cell_type": "code",
   "execution_count": 47,
   "metadata": {},
   "outputs": [
    {
     "ename": "NameError",
     "evalue": "name 'plt' is not defined",
     "output_type": "error",
     "traceback": [
      "\u001b[0;31m---------------------------------------------------------------------------\u001b[0m",
      "\u001b[0;31mNameError\u001b[0m                                 Traceback (most recent call last)",
      "\u001b[0;32m<ipython-input-47-2a3a4f1307f9>\u001b[0m in \u001b[0;36m<module>\u001b[0;34m\u001b[0m\n\u001b[1;32m     11\u001b[0m     \u001b[0menv\u001b[0m\u001b[0;34m.\u001b[0m\u001b[0mrender\u001b[0m\u001b[0;34m(\u001b[0m\u001b[0;34m)\u001b[0m\u001b[0;34m\u001b[0m\u001b[0;34m\u001b[0m\u001b[0m\n\u001b[1;32m     12\u001b[0m \u001b[0;34m\u001b[0m\u001b[0m\n\u001b[0;32m---> 13\u001b[0;31m \u001b[0mplt\u001b[0m\u001b[0;34m.\u001b[0m\u001b[0mplot\u001b[0m\u001b[0;34m(\u001b[0m\u001b[0;34m)\u001b[0m\u001b[0;34m\u001b[0m\u001b[0;34m\u001b[0m\u001b[0m\n\u001b[0m\u001b[1;32m     14\u001b[0m \u001b[0;34m\u001b[0m\u001b[0m\n",
      "\u001b[0;31mNameError\u001b[0m: name 'plt' is not defined"
     ]
    }
   ],
   "source": [
    "# mess with the actions here\n",
    "\n",
    "actions = np.array([0,1,1,0,0,0])\n",
    "\n",
    "state_hist = []\n",
    "action_hist = []\n",
    "\n",
    "env.reset()\n",
    "for _ in range(100):\n",
    "    obs, reward, done, _ = env.step(actions)\n",
    "    env.render()\n",
    "    \n",
    "plt.plot()\n",
    "    "
   ]
  },
  {
   "cell_type": "code",
   "execution_count": null,
   "metadata": {},
   "outputs": [],
   "source": []
  }
 ],
 "metadata": {
  "kernelspec": {
   "display_name": "Symmetric RL (3.6)",
   "language": "python",
   "name": "sym"
  },
  "language_info": {
   "codemirror_mode": {
    "name": "ipython",
    "version": 3
   },
   "file_extension": ".py",
   "mimetype": "text/x-python",
   "name": "python",
   "nbconvert_exporter": "python",
   "pygments_lexer": "ipython3",
   "version": "3.6.9"
  }
 },
 "nbformat": 4,
 "nbformat_minor": 2
}

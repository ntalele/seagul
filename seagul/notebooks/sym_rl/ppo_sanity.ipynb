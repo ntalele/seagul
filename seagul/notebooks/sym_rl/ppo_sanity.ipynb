{
 "cells": [
  {
   "cell_type": "code",
   "execution_count": 1,
   "metadata": {},
   "outputs": [
    {
     "name": "stderr",
     "output_type": "stream",
     "text": [
      "100%|██████████| 100/100 [02:54<00:00,  1.76s/it]"
     ]
    },
    {
     "name": "stdout",
     "output_type": "stream",
     "text": [
      "[130.375, 153.4, 115.94444444444444, 140.06666666666666, 132.375, 132.0625, 124.0, 130.5, 158.46153846153845, 132.5625, 121.41176470588235, 140.13333333333333, 120.52941176470588, 151.92857142857142, 121.23529411764706, 130.4375, 163.3846153846154, 127.5, 147.64285714285714, 123.82352941176471, 140.46666666666667, 129.4375, 123.70588235294117, 138.53333333333333, 156.14285714285714, 113.73684210526316, 123.94117647058823, 127.75, 116.55555555555556, 210.3, 141.26666666666668, 156.85714285714286, 177.75, 137.13333333333333, 116.26315789473684, 144.0, 160.5, 153.14285714285714, 150.64285714285714, 113.5, 134.125, 147.6, 155.64285714285714, 121.16666666666667, 124.23529411764706, 149.57142857142858, 131.5625, 140.06666666666666, 137.73333333333332, 137.86666666666667, 128.9375, 144.26666666666668, 163.15384615384616, 150.5, 140.46666666666667, 160.0, 145.64285714285714, 131.375, 121.52941176470588, 134.4375, 150.21428571428572, 121.44444444444444, 211.6, 150.2, 138.3125, 144.26666666666668, 124.3529411764706, 138.1875, 110.84210526315789, 140.6, 120.6470588235294, 161.84615384615384, 150.14285714285714, 120.41176470588235, 137.2, 123.0, 120.05882352941177, 107.84210526315789, 158.14285714285714, 121.0, 122.17647058823529, 122.88235294117646, 140.46666666666667, 123.41176470588235, 137.2, 115.22222222222223, 115.77777777777777, 114.33333333333333, 145.06666666666666, 135.9375, 129.625, 136.8125, 159.0, 131.4375, 131.1875, 110.10526315789474, 119.52941176470588, 172.07692307692307, 136.06666666666666, 128.3125]\n"
     ]
    },
    {
     "name": "stderr",
     "output_type": "stream",
     "text": [
      "\n"
     ]
    },
    {
     "data": {
      "text/plain": [
       "<Figure size 640x480 with 1 Axes>"
      ]
     },
     "metadata": {},
     "output_type": "display_data"
    }
   ],
   "source": [
    "from seagul.rl.models import PpoModel\n",
    "\n",
    "\n",
    "import torch.nn as nn\n",
    "from seagul.rl.algos.ppo import ppo\n",
    "from seagul.nn import MLP, CategoricalMLP\n",
    "import torch\n",
    "\n",
    "import matplotlib.pyplot as plt\n",
    "import seagul.envs\n",
    "\n",
    "torch.set_default_dtype(torch.double)\n",
    "\n",
    "input_size = 4\n",
    "output_size = 1\n",
    "layer_size = 12\n",
    "num_layers = 2\n",
    "activation = nn.ReLU\n",
    "\n",
    "policy = MLP(input_size, output_size, num_layers, layer_size, activation)\n",
    "value_fn = MLP(input_size, 1, num_layers, layer_size, activation)\n",
    "model = PpoModel(policy, value_fn, action_var=.1, discrete=False)\n",
    "\n",
    "# Define our hyper parameters\n",
    "num_epochs = 100\n",
    "batch_size = 2048  # how many steps we want to use before we update our gradients\n",
    "num_steps = 1000  # number of steps in an episode (unless we terminate early)\n",
    "max_reward = num_steps\n",
    "p_batch_size = 1024\n",
    "v_epochs = 1\n",
    "p_epochs = 10\n",
    "p_lr = 1e-2\n",
    "v_lr = 1e-2\n",
    "\n",
    "gamma = 0.99\n",
    "lam = 0.99\n",
    "eps = 0.2\n",
    "\n",
    "# env2, t_policy, t_val, rewards = ppo('InvertedPendulum-v2', 100, policy, value_fn)\n",
    "t_model, rewards, var_dict = ppo(\"sg_cartpole-v0\", 100, model, action_var_schedule=[1])\n",
    "print(rewards)\n",
    "plt.plot(rewards)\n",
    "plt.show()\n"
   ]
  },
  {
   "cell_type": "code",
   "execution_count": null,
   "metadata": {},
   "outputs": [],
   "source": []
  }
 ],
 "metadata": {
  "kernelspec": {
   "display_name": "Symmetric RL (3.6)",
   "language": "python",
   "name": "sym"
  },
  "language_info": {
   "codemirror_mode": {
    "name": "ipython",
    "version": 3
   },
   "file_extension": ".py",
   "mimetype": "text/x-python",
   "name": "python",
   "nbconvert_exporter": "python",
   "pygments_lexer": "ipython3",
   "version": "3.6.9"
  }
 },
 "nbformat": 4,
 "nbformat_minor": 4
}

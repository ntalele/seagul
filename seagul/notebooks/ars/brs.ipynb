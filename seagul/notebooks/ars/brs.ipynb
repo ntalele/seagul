{
 "cells": [
  {
   "cell_type": "code",
   "execution_count": 226,
   "metadata": {},
   "outputs": [],
   "source": [
    "import numpy as np\n",
    "import gym\n",
    "from seagul.nn import LinearNet"
   ]
  },
  {
   "cell_type": "code",
   "execution_count": 174,
   "metadata": {},
   "outputs": [],
   "source": [
    "# The function we'll try to optimize \n",
    "env = gym.make('InvertedPendulum-v2')\n",
    "def pend_rollout(policy):\n",
    "    max_ep_length = 100\n",
    "    reward_hist = np.zeros((max_ep_length,1))\n",
    "    obs = env.reset()\n",
    "    for i in range(max_ep_length):\n",
    "        action = policy(obs)\n",
    "        obs, reward, done, _ = env.step(action)\n",
    "        #action_hist[i,:] = np.copy(actions)\n",
    "        #state_hist[i,:] = np.copy(obs)\n",
    "        reward_hist[i,:] = np.copy(reward)\n",
    "        #env.render()\n",
    "        if done:\n",
    "            break\n",
    "            \n",
    "    return reward_hist\n",
    "    \n",
    "    \n",
    "def quad(x):\n",
    "    return -np.power((x-10),2)"
   ]
  },
  {
   "cell_type": "code",
   "execution_count": 207,
   "metadata": {},
   "outputs": [],
   "source": [
    "#https://arxiv.org/pdf/1803.07055.pdf\n",
    "\n",
    "# Basic Random Search\n",
    "def brs(func, step_size = 1, n_delta = 10, exp_noise = .03, num_trials = 1000):\n",
    "    n_param = 4\n",
    "    th = np.zeros((n_param,1))\n",
    "    \n",
    "    for _ in range(num_trials):\n",
    "        delta = np.random.normal(0.0, exp_noise, (n_param, n_delta))\n",
    "        returns_p = func(th + delta)\n",
    "        returns_n = func(th - delta)\n",
    "                \n",
    "        #print(returns.std())\n",
    "        th = th + np.array(step_size/(n_delta)*np.sum((returns_p-returns_n)*delta,1)).reshape(n_param,-1)\n",
    "        \n",
    "    return th\n",
    "\n",
    "\n",
    "\n",
    "#Augmented Random Search V1 (divide update step by std of rewards)\n",
    "def ars(func, step_size = 1, n_delta = 10, exp_noise = .03,num_trials = 1000):\n",
    "    n_param = 4\n",
    "    th = np.zeros((n_param,1))\n",
    "    \n",
    "    for _ in range(num_trials):\n",
    "        delta = np.random.normal(0.0, exp_noise, (n_param, n_delta))\n",
    "        _,_,returns_p = func(th + delta)\n",
    "        _,_,returns_n = func(th - delta)\n",
    "        returns = np.concatenate((returns_p, returns_n))\n",
    "        \n",
    "        \n",
    "        #print(returns.std())\n",
    "        th = th + np.array(step_size/(n_delta*returns.std()+1e-6)*np.sum((returns_p-returns_n)*delta,1)).reshape(n_param,-1)\n",
    "        \n",
    "    return th\n",
    "        \n",
    "    \n",
    "#Augmented Random Search V2 (divide by std of rewards std of rewards, normalize states)\n",
    "def ars_v2(func, step_size = 1, n_delta = 10, exp_noise = .03, num_trials = 1000):\n",
    "    n_param = 4\n",
    "    th = np.zeros((n_param,1))\n",
    "    s_mean = np.zeros((4,1))\n",
    "    s_std  = np.ones((4,1))\n",
    "    \n",
    "    for _ in range(num_trials):\n",
    "        delta = np.random.normal(0.0, exp_noise, (n_param, n_delta))\n",
    "        \n",
    "        states_p,_,returns_p = func(th + delta)\n",
    "        states_n,_,returns_n = func(th - delta)\n",
    "        \n",
    "        returns = np.concatenate((returns_p, returns_n))\n",
    "        states = np.concatenate((states_p, states_n))\n",
    "        \n",
    "        ep_steps = states.shape[0]\n",
    "        s_mean = (states.mean(0)*ep_steps + s_mean*total_steps)/(total_steps + ep_steps)\n",
    "        s_stdv = (states.stdv(0)*ep_steps + s_stdv*total_steps)/(total_steps + ep_steps)\n",
    "        total_steps += ep_steps\n",
    "        \n",
    "        \n",
    "        #print(returns.std())\n",
    "        th = th + np.array(step_size/(n_delta*returns.std()+1e-6)*np.sum((returns_p-returns_n)*delta,1)).reshape(n_param,-1)\n",
    "        \n",
    "    return th\n",
    "        \n",
    "        \n",
    "        \n",
    "        \n",
    "    \n",
    "    \n",
    "    "
   ]
  },
  {
   "cell_type": "code",
   "execution_count": 208,
   "metadata": {},
   "outputs": [
    {
     "name": "stdout",
     "output_type": "stream",
     "text": [
      "[[-0.30318754]\n",
      " [ 0.33341854]\n",
      " [ 0.48657796]\n",
      " [ 1.00478189]]\n",
      "100.0\n"
     ]
    }
   ],
   "source": [
    "vec_env = lambda vec: np.array([pend_rollout(x) for x in vec.transpose(-1,0)])\n",
    "policy  = brs(vec_env)\n",
    "print(policy)\n",
    "print(pend_rollout(policy))"
   ]
  },
  {
   "cell_type": "code",
   "execution_count": null,
   "metadata": {},
   "outputs": [],
   "source": [
    "pend_rollout(np.random.rand(4,1))"
   ]
  },
  {
   "cell_type": "code",
   "execution_count": null,
   "metadata": {},
   "outputs": [],
   "source": []
  }
 ],
 "metadata": {
  "kernelspec": {
   "display_name": "anaconda3",
   "language": "python",
   "name": "base"
  },
  "language_info": {
   "codemirror_mode": {
    "name": "ipython",
    "version": 3
   },
   "file_extension": ".py",
   "mimetype": "text/x-python",
   "name": "python",
   "nbconvert_exporter": "python",
   "pygments_lexer": "ipython3",
   "version": "3.6.8"
  }
 },
 "nbformat": 4,
 "nbformat_minor": 4
}

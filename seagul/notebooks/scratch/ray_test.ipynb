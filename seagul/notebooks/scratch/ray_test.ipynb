{
 "cells": [
  {
   "cell_type": "code",
   "execution_count": 1,
   "metadata": {},
   "outputs": [
    {
     "name": "stderr",
     "output_type": "stream",
     "text": [
      "/Users/sgillen/anaconda3/envs/ray/lib/python3.6/site-packages/tensorflow/python/framework/dtypes.py:526: FutureWarning: Passing (type, 1) or '1type' as a synonym of type is deprecated; in a future version of numpy, it will be understood as (type, (1,)) / '(1,)type'.\n",
      "  _np_qint8 = np.dtype([(\"qint8\", np.int8, 1)])\n",
      "/Users/sgillen/anaconda3/envs/ray/lib/python3.6/site-packages/tensorflow/python/framework/dtypes.py:527: FutureWarning: Passing (type, 1) or '1type' as a synonym of type is deprecated; in a future version of numpy, it will be understood as (type, (1,)) / '(1,)type'.\n",
      "  _np_quint8 = np.dtype([(\"quint8\", np.uint8, 1)])\n",
      "/Users/sgillen/anaconda3/envs/ray/lib/python3.6/site-packages/tensorflow/python/framework/dtypes.py:528: FutureWarning: Passing (type, 1) or '1type' as a synonym of type is deprecated; in a future version of numpy, it will be understood as (type, (1,)) / '(1,)type'.\n",
      "  _np_qint16 = np.dtype([(\"qint16\", np.int16, 1)])\n",
      "/Users/sgillen/anaconda3/envs/ray/lib/python3.6/site-packages/tensorflow/python/framework/dtypes.py:529: FutureWarning: Passing (type, 1) or '1type' as a synonym of type is deprecated; in a future version of numpy, it will be understood as (type, (1,)) / '(1,)type'.\n",
      "  _np_quint16 = np.dtype([(\"quint16\", np.uint16, 1)])\n",
      "/Users/sgillen/anaconda3/envs/ray/lib/python3.6/site-packages/tensorflow/python/framework/dtypes.py:530: FutureWarning: Passing (type, 1) or '1type' as a synonym of type is deprecated; in a future version of numpy, it will be understood as (type, (1,)) / '(1,)type'.\n",
      "  _np_qint32 = np.dtype([(\"qint32\", np.int32, 1)])\n",
      "/Users/sgillen/anaconda3/envs/ray/lib/python3.6/site-packages/tensorflow/python/framework/dtypes.py:535: FutureWarning: Passing (type, 1) or '1type' as a synonym of type is deprecated; in a future version of numpy, it will be understood as (type, (1,)) / '(1,)type'.\n",
      "  np_resource = np.dtype([(\"resource\", np.ubyte, 1)])\n",
      "2020-01-10 20:38:07,015\tWARNING worker.py:1426 -- WARNING: Not updating worker name since `setproctitle` is not installed. Install this with `pip install setproctitle` (or ray[debug]) to enable monitoring of worker processes.\n",
      "2020-01-10 20:38:07,023\tINFO resource_spec.py:205 -- Starting Ray with 4.15 GiB memory available for workers and up to 2.08 GiB for objects. You can adjust these settings with ray.init(memory=<bytes>, object_store_memory=<bytes>).\n"
     ]
    },
    {
     "data": {
      "text/plain": [
       "{'node_ip_address': '10.0.0.119',\n",
       " 'redis_address': '10.0.0.119:12698',\n",
       " 'object_store_address': '/tmp/ray/session_2020-01-10_20-38-07_016678_51209/sockets/plasma_store',\n",
       " 'raylet_socket_name': '/tmp/ray/session_2020-01-10_20-38-07_016678_51209/sockets/raylet',\n",
       " 'webui_url': None,\n",
       " 'session_dir': '/tmp/ray/session_2020-01-10_20-38-07_016678_51209'}"
      ]
     },
     "execution_count": 1,
     "metadata": {},
     "output_type": "execute_result"
    }
   ],
   "source": [
    "import ray \n",
    "from seagul.rl.algos import sac, ppo\n",
    "from seagul.nn import MLP\n",
    "from seagul.rl.models import SACModel, PPOModel \n",
    "import gym\n",
    "import torch\n",
    "ray.init()\n",
    "\n"
   ]
  },
  {
   "cell_type": "code",
   "execution_count": 25,
   "metadata": {},
   "outputs": [],
   "source": [
    "input_size = 17\n",
    "output_size = 6\n",
    "layer_size = 64\n",
    "num_layers = 2\n",
    "\n",
    "\n",
    "policy = MLP(input_size, output_size*2, num_layers, layer_size)\n",
    "value_fn = MLP(input_size, 1, num_layers, layer_size)\n",
    "q1_fn = MLP(input_size + output_size, 1, num_layers, layer_size)\n",
    "q2_fn = MLP(input_size + output_size, 1, num_layers, layer_size)\n",
    "model = SACModel(policy, value_fn, q1_fn, q2_fn, 3)\n",
    "\n",
    "@ray.remote\n",
    "def do_rollout(env, model, num_steps):\n",
    "    \n",
    "    acts_list = []\n",
    "    obs1_list = []\n",
    "    obs2_list = []\n",
    "    rews_list = []\n",
    "    done_list = []\n",
    "\n",
    "    dtype = torch.float32\n",
    "    act_size = env.action_space.shape[0]\n",
    "    obs = env.reset()\n",
    "    done = False\n",
    "    cur_step = 0\n",
    "\n",
    "    while not done:\n",
    "        obs = torch.as_tensor(obs, dtype=dtype).detach()\n",
    "        obs1_list.append(obs.clone())\n",
    "\n",
    "        noise = torch.randn(1, act_size)\n",
    "        act, _ = model.select_action(obs.reshape(1, -1), noise)\n",
    "        act = act.detach()\n",
    "\n",
    "        obs, rew, done, _ = env.step(act.numpy().reshape(-1))\n",
    "        obs = torch.as_tensor(obs, dtype=dtype).detach()\n",
    "\n",
    "        acts_list.append(torch.as_tensor(act.clone(), dtype=dtype))\n",
    "        rews_list.append(torch.as_tensor(rew, dtype=dtype))\n",
    "        obs2_list.append(obs.clone())\n",
    "\n",
    "\n",
    "        if cur_step < num_steps:\n",
    "            done_list.append(torch.as_tensor(done))\n",
    "        else:\n",
    "            done_list.append(torch.as_tensor(False))\n",
    "\n",
    "        cur_step+=1\n",
    "\n",
    "    ep_obs1 = torch.stack(obs1_list)\n",
    "    ep_acts = torch.stack(acts_list)\n",
    "    ep_rews = torch.stack(rews_list).reshape(-1, 1)\n",
    "    ep_obs2 = torch.stack(obs2_list)\n",
    "    ep_done = torch.stack(done_list).reshape(-1, 1)\n",
    "\n",
    "    return (ep_obs1, ep_obs2, ep_acts, ep_rews, ep_done)\n",
    "\n",
    "def do_rollout_local(env_name, model, num_steps):\n",
    "    env = gym.make(env_name)\n",
    "    \n",
    "    acts_list = []\n",
    "    obs1_list = []\n",
    "    obs2_list = []\n",
    "    rews_list = []\n",
    "    done_list = []\n",
    "\n",
    "    dtype = torch.float32\n",
    "    act_size = env.action_space.shape[0]\n",
    "    obs = env.reset()\n",
    "    done = False\n",
    "    cur_step = 0\n",
    "\n",
    "    while not done:\n",
    "        obs = torch.as_tensor(obs, dtype=dtype).detach()\n",
    "        obs1_list.append(obs.clone())\n",
    "\n",
    "        noise = torch.randn(1, act_size)\n",
    "        act, _ = model.select_action(obs.reshape(1, -1), noise)\n",
    "        act = act.detach()\n",
    "\n",
    "        obs, rew, done, _ = env.step(act.numpy().reshape(-1))\n",
    "        obs = torch.as_tensor(obs, dtype=dtype).detach()\n",
    "\n",
    "        acts_list.append(torch.as_tensor(act.clone(), dtype=dtype))\n",
    "        rews_list.append(torch.as_tensor(rew, dtype=dtype))\n",
    "        obs2_list.append(obs.clone())\n",
    "\n",
    "\n",
    "        if cur_step < num_steps:\n",
    "            done_list.append(torch.as_tensor(done))\n",
    "        else:\n",
    "            done_list.append(torch.as_tensor(False))\n",
    "\n",
    "        cur_step+=1\n",
    "\n",
    "    ep_obs1 = torch.stack(obs1_list)\n",
    "    ep_acts = torch.stack(acts_list)\n",
    "    ep_rews = torch.stack(rews_list).reshape(-1, 1)\n",
    "    ep_obs2 = torch.stack(obs2_list)\n",
    "    ep_done = torch.stack(done_list).reshape(-1, 1)\n",
    "\n",
    "    return (ep_obs1, ep_obs2, ep_acts, ep_rews, ep_done)\n",
    "\n"
   ]
  },
  {
   "cell_type": "code",
   "execution_count": 27,
   "metadata": {},
   "outputs": [],
   "source": [
    "#%%timeit\n",
    "\n",
    "env_name = \"Walker2d-v2\"\n",
    "env = gym.make(env_name)\n",
    "futures = [do_rollout.remote(env, model,1500) for _ in range(4)]\n",
    "a = ray.get(futures)"
   ]
  },
  {
   "cell_type": "code",
   "execution_count": 13,
   "metadata": {},
   "outputs": [
    {
     "name": "stdout",
     "output_type": "stream",
     "text": [
      "94.8 ms ± 5.92 ms per loop (mean ± std. dev. of 7 runs, 10 loops each)\n"
     ]
    }
   ],
   "source": [
    "%%timeit\n",
    "for _ in range(4):\n",
    "    do_rollout_local(env_name, model, 1500)"
   ]
  },
  {
   "cell_type": "code",
   "execution_count": null,
   "metadata": {},
   "outputs": [],
   "source": []
  }
 ],
 "metadata": {
  "kernelspec": {
   "display_name": "Ray (3.6)",
   "language": "python",
   "name": "ray"
  },
  "language_info": {
   "codemirror_mode": {
    "name": "ipython",
    "version": 3
   },
   "file_extension": ".py",
   "mimetype": "text/x-python",
   "name": "python",
   "nbconvert_exporter": "python",
   "pygments_lexer": "ipython3",
   "version": "3.6.9"
  }
 },
 "nbformat": 4,
 "nbformat_minor": 2
}

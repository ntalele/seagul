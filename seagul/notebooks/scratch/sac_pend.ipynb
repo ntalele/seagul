{
 "cells": [
  {
   "cell_type": "code",
   "execution_count": 6,
   "metadata": {},
   "outputs": [
    {
     "data": {
      "application/vnd.jupyter.widget-view+json": {
       "model_id": "9dbd98f568d2457799b8d2826d6625fa",
       "version_major": 2,
       "version_minor": 0
      },
      "text/plain": [
       "HBox(children=(IntProgress(value=0, max=1000000), HTML(value='')))"
      ]
     },
     "metadata": {},
     "output_type": "display_data"
    }
   ],
   "source": [
    "from seagul.rl.algos import sac, ppo\n",
    "from seagul.rl.algos.sac_ray import ray_sac\n",
    "from seagul.rl.algos.sac_sym import sac_sym\n",
    "from seagul.nn import MLP\n",
    "from seagul.rl.models import SACModel, PPOModel \n",
    "import ray\n",
    "\n",
    "\n",
    "input_size = 17\n",
    "output_size = 6\n",
    "layer_size = 128\n",
    "num_layers = 2\n",
    "\n",
    "#ray.init()\n",
    "\n",
    "device = \"cpu\"\n",
    "policy = MLP(input_size, output_size*2, num_layers, layer_size, device=device)\n",
    "value_fn = MLP(input_size, 1, num_layers, layer_size, device=device)\n",
    "q1_fn = MLP(input_size + output_size, 1, num_layers, layer_size,device=device)\n",
    "q2_fn = MLP(input_size + output_size, 1, num_layers, layer_size,device=device)\n",
    "model = SACModel(policy, value_fn, q1_fn, q2_fn, 1)\n",
    "\n",
    "\n",
    "ppo_policy = MLP(input_size, output_size, num_layers, layer_size)\n",
    "ppo_model = PPOModel(ppo_policy, value_fn)\n",
    "\n",
    "#env_name = \"Pendulum-v0\"\n",
    "env_name = \"Walker2d-v2\"\n",
    "#model, rews, var_dict = ray_sac(env_name, 20000, model, env_steps=0, iters_per_update=100, min_steps_per_update=100, reward_stop=-200, exploration_steps=100)\n",
    "#model, rews, var_dict = ppo(env_name, 3e5, ppo_model)\n",
    "\n",
    "#for seed in [0]:\n",
    "#    %time model, rews, var_dict = ray_sac(env_name, 160000, model, num_envs = 1, seed=seed, env_steps=0, iters_per_update=100, min_steps_per_update=100, reward_stop=-200, exploration_steps=100)\n",
    "\n",
    "\n",
    "#for seed in [0]:\n",
    "#    %time model, rews, var_dict = sac(env_name, 200000, model, seed=seed, env_steps=0, iters_per_update=100, min_steps_per_update=100, reward_stop=-200, exploration_steps=100)\n",
    "\n",
    "seed = 0\n",
    "model, rews, var_dict = sac(env_name, 1e6, model, seed=seed, env_steps=1600, iters_per_update=3000, min_steps_per_update=1000, reward_stop=3000, exploration_steps=10000, replay_batch_size=100, use_gpu=False)\n",
    "\n",
    "globals().update(var_dict)"
   ]
  },
  {
   "cell_type": "code",
   "execution_count": 6,
   "metadata": {},
   "outputs": [
    {
     "data": {
      "text/plain": [
       "[<matplotlib.lines.Line2D at 0x7f251f79ae10>]"
      ]
     },
     "execution_count": 6,
     "metadata": {},
     "output_type": "execute_result"
    },
    {
     "data": {
      "image/png": "[encoded data removed]",
      "text/plain": [
       "<Figure size 432x288 with 1 Axes>"
      ]
     },
     "metadata": {
      "needs_background": "light"
     },
     "output_type": "display_data"
    },
    {
     "data": {
      "image/png": "[encoded data removed]",
      "text/plain": [
       "<Figure size 432x288 with 1 Axes>"
      ]
     },
     "metadata": {
      "needs_background": "light"
     },
     "output_type": "display_data"
    },
    {
     "data": {
      "image/png": "[encoded data removed]",
      "text/plain": [
       "<Figure size 432x288 with 1 Axes>"
      ]
     },
     "metadata": {
      "needs_background": "light"
     },
     "output_type": "display_data"
    },
    {
     "data": {
      "image/png": "[encoded data removed]",
      "text/plain": [
       "<Figure size 432x288 with 1 Axes>"
      ]
     },
     "metadata": {
      "needs_background": "light"
     },
     "output_type": "display_data"
    }
   ],
   "source": [
    "import matplotlib.pyplot as plt\n",
    "\n",
    "plt.plot(raw_rew_hist)\n",
    "plt.figure()\n",
    "plt.plot(pol_loss_hist)\n",
    "plt.figure()\n",
    "plt.plot(val_loss_hist)\n",
    "plt.figure()\n",
    "plt.plot(q1_loss_hist)\n",
    "plt.plot(q2_loss_hist)\n"
   ]
  },
  {
   "cell_type": "code",
   "execution_count": 5,
   "metadata": {},
   "outputs": [],
   "source": [
    "replay_obs1, replay_obs2, replay_acts, replay_rews, replay_done = replay_buf.sample_batch(replay_batch_size)\n"
   ]
  },
  {
   "cell_type": "code",
   "execution_count": null,
   "metadata": {},
   "outputs": [],
   "source": [
    "replay_buf.sample_batch()"
   ]
  },
  {
   "cell_type": "code",
   "execution_count": null,
   "metadata": {},
   "outputs": [],
   "source": [
    "import gym\n",
    "import torch\n",
    "env = gym.make(env_name)\n",
    "done = False\n",
    "obs = env.reset()\n",
    "\n",
    "obs_list = []\n",
    "act_list = []\n",
    "rew_list = []\n",
    "avg_list = []\n",
    "val_list = []\n",
    "\n",
    " \n",
    "dtype = torch.float32\n",
    "act_size = env.action_space.shape[0]\n",
    "obs = env.reset()\n",
    "done = False\n",
    "\n",
    "while not done:\n",
    "    model_obs = torch.as_tensor(obs, dtype=dtype).detach() #TODO.... (or not, this still works with ppo right??)\n",
    "    obs_list.append(obs)\n",
    "    \n",
    "    noise = torch.randn(act_size)\n",
    "    act, logp = model.select_action(model_obs.reshape(1, -1), noise)\n",
    "    act = act.detach()\n",
    "\n",
    "    obs, rew, done, _ = env.step(act.numpy().reshape(-1))\n",
    "    env.render()\n",
    "\n",
    "    act_list.append(act)\n",
    "    rew_list.append(rew)\n",
    "\n",
    "print(sum(rew_list))\n",
    "plt.plot(obs_list)\n",
    "plt.figure()\n",
    "plt.plot(act_list)\n",
    "plt.figure()\n",
    "plt.plot(rew_list)\n",
    "plt.figure()\n",
    "plt.plot(val_list)\n",
    "plt.figure()\n",
    "plt.plot(avg_list)\n",
    "    "
   ]
  },
  {
   "cell_type": "code",
   "execution_count": null,
   "metadata": {},
   "outputs": [],
   "source": []
  },
  {
   "cell_type": "code",
   "execution_count": null,
   "metadata": {},
   "outputs": [],
   "source": []
  }
 ],
 "metadata": {
  "kernelspec": {
   "display_name": "Symmetric RL (3.6)",
   "language": "python",
   "name": "sym"
  },
  "language_info": {
   "codemirror_mode": {
    "name": "ipython",
    "version": 3
   },
   "file_extension": ".py",
   "mimetype": "text/x-python",
   "name": "python",
   "nbconvert_exporter": "python",
   "pygments_lexer": "ipython3",
   "version": "3.6.9"
  }
 },
 "nbformat": 4,
 "nbformat_minor": 4
}

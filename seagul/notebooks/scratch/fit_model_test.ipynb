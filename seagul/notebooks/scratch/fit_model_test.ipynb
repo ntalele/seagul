{
 "cells": [
  {
   "cell_type": "code",
   "execution_count": 5,
   "metadata": {},
   "outputs": [],
   "source": [
    "from seagul.nn import MLP, fit_model\n",
    "import torch\n",
    "import matplotlib.pyplot as plt"
   ]
  },
  {
   "cell_type": "code",
   "execution_count": 6,
   "metadata": {},
   "outputs": [],
   "source": [
    "train_size = 4000\n",
    "\n",
    "input_size = 1\n",
    "output_size = 1\n",
    "hidden_size = 12\n",
    "num_layers = 2\n",
    "\n",
    "X = torch.randn(train_size,input_size)\n",
    "Y = 2*X\n",
    "\n",
    "net = MLP(input_size, output_size, num_layers, hidden_size)"
   ]
  },
  {
   "cell_type": "code",
   "execution_count": 7,
   "metadata": {},
   "outputs": [
    {
     "name": "stderr",
     "output_type": "stream",
     "text": [
      "100%|██████████| 5/5 [00:00<00:00,  5.76it/s]\n"
     ]
    },
    {
     "data": {
      "text/plain": [
       "[<matplotlib.lines.Line2D at 0x121fb3400>]"
      ]
     },
     "execution_count": 7,
     "metadata": {},
     "output_type": "execute_result"
    },
    {
     "data": {
      "image/png": "[encoded data removed]",
      "text/plain": [
       "<Figure size 432x288 with 1 Axes>"
      ]
     },
     "metadata": {
      "needs_background": "light"
     },
     "output_type": "display_data"
    }
   ],
   "source": [
    "# You should see loss get to effectively zero\n",
    "loss_hist = fit_model(net,X,Y,5)\n",
    "plt.plot(loss_hist)"
   ]
  },
  {
   "cell_type": "code",
   "execution_count": 8,
   "metadata": {},
   "outputs": [
    {
     "name": "stdout",
     "output_type": "stream",
     "text": [
      "tensor(0.0001, grad_fn=<MeanBackward0>)\n"
     ]
    }
   ],
   "source": [
    "# test error should be close to zero, MLP got to ~.0002 after 5 epochs of training on 4000 examples\n",
    "X_test = torch.randn(train_size,input_size)\n",
    "Y_test = 2*X_test\n",
    "Y_pred = net(X_test)\n",
    "\n",
    "test_error = (Y_test - Y_pred)**2\n",
    "print(test_error.mean())\n"
   ]
  },
  {
   "cell_type": "code",
   "execution_count": null,
   "metadata": {},
   "outputs": [],
   "source": []
  }
 ],
 "metadata": {
  "kernelspec": {
   "display_name": "anaconda3",
   "language": "python",
   "name": "base"
  },
  "language_info": {
   "codemirror_mode": {
    "name": "ipython",
    "version": 3
   },
   "file_extension": ".py",
   "mimetype": "text/x-python",
   "name": "python",
   "nbconvert_exporter": "python",
   "pygments_lexer": "ipython3",
   "version": "3.6.9"
  }
 },
 "nbformat": 4,
 "nbformat_minor": 2
}
